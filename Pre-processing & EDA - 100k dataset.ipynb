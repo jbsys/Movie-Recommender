{
 "cells": [
  {
   "cell_type": "code",
   "execution_count": 3,
   "id": "b0dfafb7",
   "metadata": {},
   "outputs": [],
   "source": [
    "import pandas as pd\n",
    "import numpy as np\n",
    "import seaborn as sns\n",
    "import matplotlib.pyplot as plt\n",
    "import re\n",
    "from datetime import datetime, time"
   ]
  },
  {
   "cell_type": "markdown",
   "id": "2fe0451f",
   "metadata": {},
   "source": [
    "### Exploring smaller datasets of 100k ratings"
   ]
  },
  {
   "cell_type": "code",
   "execution_count": 4,
   "id": "52f248d6",
   "metadata": {},
   "outputs": [],
   "source": [
    "ratings = pd.read_csv('./Raw Data/ratings_small.csv')\n",
    "tags = pd.read_csv('./Raw Data/tags_small.csv')\n",
    "movies = pd.read_csv('./Raw Data/movies_small.csv')"
   ]
  },
  {
   "cell_type": "markdown",
   "id": "c6178553",
   "metadata": {},
   "source": [
    "### Column lists:\n",
    "\n",
    "ratings: ['userId', 'movieId', 'rating', 'timestamp']\n",
    "\n",
    "tags: ['userId', 'movieId', 'tag', 'timestamp']\n",
    "\n",
    "movies : ['movieId', 'title', 'genres']"
   ]
  },
  {
   "cell_type": "code",
   "execution_count": 5,
   "id": "99c7730f",
   "metadata": {
    "scrolled": false
   },
   "outputs": [
    {
     "name": "stdout",
     "output_type": "stream",
     "text": [
      "ratings\n",
      "Columns: ['userId', 'movieId', 'rating', 'timestamp']\n",
      "Has movieId: True\n",
      "shape: (100836, 4)\n",
      "nulls: \n",
      "userId       0\n",
      "movieId      0\n",
      "rating       0\n",
      "timestamp    0\n",
      "dtype: int64\n",
      "\n",
      "tags\n",
      "Columns: ['userId', 'movieId', 'tag', 'timestamp']\n",
      "Has movieId: True\n",
      "shape: (3683, 4)\n",
      "nulls: \n",
      "userId       0\n",
      "movieId      0\n",
      "tag          0\n",
      "timestamp    0\n",
      "dtype: int64\n",
      "\n",
      "movies\n",
      "Columns: ['movieId', 'title', 'genres']\n",
      "Has movieId: True\n",
      "shape: (9742, 3)\n",
      "nulls: \n",
      "movieId    0\n",
      "title      0\n",
      "genres     0\n",
      "dtype: int64\n",
      "\n"
     ]
    }
   ],
   "source": [
    "dfs = [(ratings, 'ratings'), (tags,'tags'), (movies, 'movies')]\n",
    "\n",
    "for df,name in dfs:\n",
    "    print(f'{name}')\n",
    "    print(f'Columns: {list(df.columns)}')\n",
    "    has_id = 'True' if 'movieId' in list(df.columns) else 'False'\n",
    "    print(f'Has movieId: {has_id}')\n",
    "    #print(f'Has movieId: {'True' if 'movieId' in list(df.columns) else 'False'}')\n",
    "    print(f'shape: {df.shape}')\n",
    "    print(f'nulls: ')\n",
    "    print(f'{df.isnull().sum()}')\n",
    "    \n",
    "    print('')"
   ]
  },
  {
   "cell_type": "markdown",
   "id": "f88c2a72",
   "metadata": {},
   "source": [
    "# Sentiment analysis on tags???? unless that basically equals rating???"
   ]
  },
  {
   "cell_type": "code",
   "execution_count": 6,
   "id": "a65cf35f",
   "metadata": {},
   "outputs": [
    {
     "data": {
      "text/plain": [
       "0.431441759435243"
      ]
     },
     "execution_count": 6,
     "metadata": {},
     "output_type": "execute_result"
    }
   ],
   "source": [
    "#1589 unique tags, which equals 43% of the dataset\n",
    "tags['tag'].nunique() / tags.shape[0]"
   ]
  },
  {
   "cell_type": "markdown",
   "id": "88c21842",
   "metadata": {},
   "source": [
    "### Let's explore these dataframe variables to better understand which we will want for modeling\n",
    "\n",
    "Self explanatory dataframes are: ratings, movies\n",
    "\n",
    "the tags dataframe has a column 'tag' which has a descriptor. examples are: 'fun', 'epic', 'pacing', 'dinosaurs', 'lawn mower'. our datasets did not come with a data dictionary, but these words could come from imdb comments. "
   ]
  },
  {
   "cell_type": "markdown",
   "id": "b1cbb9c6",
   "metadata": {},
   "source": [
    "## Initial cleaning\n",
    "1) merge ratings and movies on movieId\n",
    "\n",
    "2) explore number of ratings through sparsity measures"
   ]
  },
  {
   "cell_type": "code",
   "execution_count": 7,
   "id": "a289c601",
   "metadata": {},
   "outputs": [
    {
     "data": {
      "text/html": [
       "<div>\n",
       "<style scoped>\n",
       "    .dataframe tbody tr th:only-of-type {\n",
       "        vertical-align: middle;\n",
       "    }\n",
       "\n",
       "    .dataframe tbody tr th {\n",
       "        vertical-align: top;\n",
       "    }\n",
       "\n",
       "    .dataframe thead th {\n",
       "        text-align: right;\n",
       "    }\n",
       "</style>\n",
       "<table border=\"1\" class=\"dataframe\">\n",
       "  <thead>\n",
       "    <tr style=\"text-align: right;\">\n",
       "      <th></th>\n",
       "      <th>userId</th>\n",
       "      <th>movieId</th>\n",
       "      <th>rating</th>\n",
       "      <th>timestamp</th>\n",
       "      <th>title</th>\n",
       "      <th>genres</th>\n",
       "    </tr>\n",
       "  </thead>\n",
       "  <tbody>\n",
       "    <tr>\n",
       "      <th>0</th>\n",
       "      <td>1</td>\n",
       "      <td>1</td>\n",
       "      <td>4.0</td>\n",
       "      <td>964982703</td>\n",
       "      <td>Toy Story (1995)</td>\n",
       "      <td>Adventure|Animation|Children|Comedy|Fantasy</td>\n",
       "    </tr>\n",
       "    <tr>\n",
       "      <th>1</th>\n",
       "      <td>1</td>\n",
       "      <td>3</td>\n",
       "      <td>4.0</td>\n",
       "      <td>964981247</td>\n",
       "      <td>Grumpier Old Men (1995)</td>\n",
       "      <td>Comedy|Romance</td>\n",
       "    </tr>\n",
       "    <tr>\n",
       "      <th>2</th>\n",
       "      <td>1</td>\n",
       "      <td>6</td>\n",
       "      <td>4.0</td>\n",
       "      <td>964982224</td>\n",
       "      <td>Heat (1995)</td>\n",
       "      <td>Action|Crime|Thriller</td>\n",
       "    </tr>\n",
       "    <tr>\n",
       "      <th>3</th>\n",
       "      <td>1</td>\n",
       "      <td>47</td>\n",
       "      <td>5.0</td>\n",
       "      <td>964983815</td>\n",
       "      <td>Seven (a.k.a. Se7en) (1995)</td>\n",
       "      <td>Mystery|Thriller</td>\n",
       "    </tr>\n",
       "    <tr>\n",
       "      <th>4</th>\n",
       "      <td>1</td>\n",
       "      <td>50</td>\n",
       "      <td>5.0</td>\n",
       "      <td>964982931</td>\n",
       "      <td>Usual Suspects, The (1995)</td>\n",
       "      <td>Crime|Mystery|Thriller</td>\n",
       "    </tr>\n",
       "  </tbody>\n",
       "</table>\n",
       "</div>"
      ],
      "text/plain": [
       "   userId  movieId  rating  timestamp                        title  \\\n",
       "0       1        1     4.0  964982703             Toy Story (1995)   \n",
       "1       1        3     4.0  964981247      Grumpier Old Men (1995)   \n",
       "2       1        6     4.0  964982224                  Heat (1995)   \n",
       "3       1       47     5.0  964983815  Seven (a.k.a. Se7en) (1995)   \n",
       "4       1       50     5.0  964982931   Usual Suspects, The (1995)   \n",
       "\n",
       "                                        genres  \n",
       "0  Adventure|Animation|Children|Comedy|Fantasy  \n",
       "1                               Comedy|Romance  \n",
       "2                        Action|Crime|Thriller  \n",
       "3                             Mystery|Thriller  \n",
       "4                       Crime|Mystery|Thriller  "
      ]
     },
     "execution_count": 7,
     "metadata": {},
     "output_type": "execute_result"
    }
   ],
   "source": [
    "df = pd.merge(ratings, movies, on='movieId', how='left')\n",
    "#timestamp is not needed\n",
    "#df.drop(columns=['timestamp'], inplace=True)\n",
    "df.head(5)"
   ]
  },
  {
   "cell_type": "code",
   "execution_count": 8,
   "id": "1cfa6b90",
   "metadata": {
    "scrolled": true
   },
   "outputs": [
    {
     "name": "stderr",
     "output_type": "stream",
     "text": [
      "/var/folders/l_/zmpwb1k10n73190173cr1g300000gn/T/ipykernel_1087/2420889981.py:4: SettingWithCopyWarning: \n",
      "A value is trying to be set on a copy of a slice from a DataFrame\n",
      "\n",
      "See the caveats in the documentation: https://pandas.pydata.org/pandas-docs/stable/user_guide/indexing.html#returning-a-view-versus-a-copy\n",
      "  df['datetime'][row] = datetime.fromtimestamp(df['timestamp'][row]).strftime(\"%A, %B %d, %Y %I:%M:%S\")\n",
      "/Users/jacqueline/opt/anaconda3/lib/python3.9/site-packages/pandas/core/indexing.py:1732: SettingWithCopyWarning: \n",
      "A value is trying to be set on a copy of a slice from a DataFrame\n",
      "\n",
      "See the caveats in the documentation: https://pandas.pydata.org/pandas-docs/stable/user_guide/indexing.html#returning-a-view-versus-a-copy\n",
      "  self._setitem_single_block(indexer, value, name)\n"
     ]
    }
   ],
   "source": [
    "#turn timestamp into datetime for EDA on ranking days (are people more forigiving on the weekend?)\n",
    "df['datetime'] = np.nan\n",
    "for row in list(range(0,df.shape[0])):\n",
    "    df['datetime'][row] = datetime.fromtimestamp(df['timestamp'][row]).strftime(\"%A, %B %d, %Y %I:%M:%S\")"
   ]
  },
  {
   "cell_type": "code",
   "execution_count": 9,
   "id": "67d72888",
   "metadata": {},
   "outputs": [
    {
     "name": "stderr",
     "output_type": "stream",
     "text": [
      "/var/folders/l_/zmpwb1k10n73190173cr1g300000gn/T/ipykernel_1087/3012312403.py:3: SettingWithCopyWarning: \n",
      "A value is trying to be set on a copy of a slice from a DataFrame\n",
      "\n",
      "See the caveats in the documentation: https://pandas.pydata.org/pandas-docs/stable/user_guide/indexing.html#returning-a-view-versus-a-copy\n",
      "  df['day'][row] = datetime.fromtimestamp(df['timestamp'][row]).strftime(\"%A\")\n"
     ]
    }
   ],
   "source": [
    "df['day'] = np.nan\n",
    "for row in list(range(0,df.shape[0])):\n",
    "    df['day'][row] = datetime.fromtimestamp(df['timestamp'][row]).strftime(\"%A\")"
   ]
  },
  {
   "cell_type": "markdown",
   "id": "3dbf4f6b",
   "metadata": {},
   "source": [
    "## Titles contain their year released wrapped in parentheses. \n",
    "All but 17 rows have parenthesis. This represents 99.98% of the movies. "
   ]
  },
  {
   "cell_type": "code",
   "execution_count": 10,
   "id": "a03db0e3",
   "metadata": {},
   "outputs": [
    {
     "name": "stdout",
     "output_type": "stream",
     "text": [
      "Movies without years: \n",
      "Black Mirror\n",
      "The Adventures of Sherlock Holmes and Doctor Watson\n",
      "Maria Bamford: Old Baby\n",
      "Generation Iron 2\n",
      "Ready Player One\n",
      "Babylon 5\n",
      "Ready Player One\n",
      "Nocturnal Animals\n",
      "Cosmos\n",
      "Ready Player One\n",
      "The OA\n",
      "Hyena Road\n",
      "Moonlight\n",
      "Ready Player One\n",
      "Babylon 5\n",
      "Paterson\n",
      "Cosmos\n"
     ]
    }
   ],
   "source": [
    "count = 0\n",
    "print('Movies without years: ')\n",
    "for title in df['title']:\n",
    "    if '(' in title:\n",
    "        count+=1\n",
    "    else: print(title)"
   ]
  },
  {
   "cell_type": "code",
   "execution_count": 11,
   "id": "068939e0",
   "metadata": {},
   "outputs": [
    {
     "name": "stdout",
     "output_type": "stream",
     "text": [
      "Titles without parentheses: 17\n",
      "Percent without parentheses: 0.9998314094172716\n"
     ]
    }
   ],
   "source": [
    "print(f'Titles without parentheses: {df.shape[0] - count}')\n",
    "print(f'Percent without parentheses: {count / df.shape[0]}')"
   ]
  },
  {
   "cell_type": "code",
   "execution_count": 12,
   "id": "4d54f101",
   "metadata": {
    "scrolled": true
   },
   "outputs": [],
   "source": [
    "#movie labels have their year in parenthesis - let's examine!\n",
    "#df['year'] = df['title'].str.extract('\\(([^)]+)', expand=True) \n",
    "#df['year'] = df['title'].str[-5:-1]\n",
    "df['year'] = df['title'].str.extract('.*\\((.*)\\).*',expand = False)\n",
    "#df['year'] = df[df['title'].str.find('(')+1:df['title'].str.find(')')]\n",
    "#df['year'] = re.search('\\(([^)]+)', df['title'].str)\n",
    "#df['year'] = df['title'].str.split('(', 1)[1].split(')')[0]\n",
    "#df.head()"
   ]
  },
  {
   "cell_type": "code",
   "execution_count": 13,
   "id": "b900c3aa",
   "metadata": {},
   "outputs": [
    {
     "name": "stderr",
     "output_type": "stream",
     "text": [
      "/var/folders/l_/zmpwb1k10n73190173cr1g300000gn/T/ipykernel_1087/2254397721.py:2: SettingWithCopyWarning: \n",
      "A value is trying to be set on a copy of a slice from a DataFrame\n",
      "\n",
      "See the caveats in the documentation: https://pandas.pydata.org/pandas-docs/stable/user_guide/indexing.html#returning-a-view-versus-a-copy\n",
      "  df['year'][16913]='2007'\n"
     ]
    }
   ],
   "source": [
    "#clean up some year value, originally '2006-2007'\n",
    "df['year'][16913]='2007'"
   ]
  },
  {
   "cell_type": "code",
   "execution_count": 14,
   "id": "bd0e4963",
   "metadata": {},
   "outputs": [],
   "source": [
    "#we have nulls for the same movies listed above without parentheses\n",
    "#let's go ahead and delete these 17 rows\n",
    "df[df['year'].isnull()]['title']\n",
    "df['year'].isnull().sum()\n",
    "df.dropna(inplace=True)"
   ]
  },
  {
   "cell_type": "markdown",
   "id": "44d458b7",
   "metadata": {},
   "source": [
    "Genre's are messy. There are 951 unique genres... I initially wanted to take the initial genres, assuming it was the most prominent genre, and only use that to categorize movies. However, genres are listed alphabetically."
   ]
  },
  {
   "cell_type": "markdown",
   "id": "a67be2b8",
   "metadata": {},
   "source": [
    "# one hot encode genres???"
   ]
  },
  {
   "cell_type": "code",
   "execution_count": 15,
   "id": "0cce3581",
   "metadata": {},
   "outputs": [
    {
     "data": {
      "text/plain": [
       "951"
      ]
     },
     "execution_count": 15,
     "metadata": {},
     "output_type": "execute_result"
    }
   ],
   "source": [
    "df.genres.nunique()"
   ]
  },
  {
   "cell_type": "markdown",
   "id": "b0763ac1",
   "metadata": {},
   "source": [
    "A sparsity of .982 is too high. We probably have a good amount of users with a minimal number of ratings. There are two approaches to reducing sparsity. One is removing users with minimal # ratings. The second is removing movies with minimal ratings. In order to determine these thresholds, let's look into the numbers and then filter through groupby's."
   ]
  },
  {
   "cell_type": "code",
   "execution_count": 16,
   "id": "5fa5911c",
   "metadata": {
    "scrolled": true
   },
   "outputs": [
    {
     "data": {
      "text/plain": [
       "0.9829821819213007"
      ]
     },
     "execution_count": 16,
     "metadata": {},
     "output_type": "execute_result"
    }
   ],
   "source": [
    "#Check sparsity of matrix\n",
    "ratings_count = len(df['rating'])\n",
    "users_count = len(df['userId'].unique())\n",
    "movies_count = len(df['movieId'].unique())\n",
    "\n",
    "sparse = 1 - (ratings_count / (users_count*movies_count))\n",
    "sparse"
   ]
  },
  {
   "cell_type": "markdown",
   "id": "99de4260",
   "metadata": {},
   "source": [
    "Figure out solid marker for minimum amounts of ratings per user and ratings per movies"
   ]
  },
  {
   "cell_type": "code",
   "execution_count": 17,
   "id": "7aee2e80",
   "metadata": {},
   "outputs": [
    {
     "data": {
      "text/plain": [
       "count     610.000000\n",
       "mean      165.277049\n",
       "std       269.413735\n",
       "min        20.000000\n",
       "25%        35.000000\n",
       "50%        70.500000\n",
       "75%       168.000000\n",
       "max      2697.000000\n",
       "Name: movieId, dtype: float64"
      ]
     },
     "execution_count": 17,
     "metadata": {},
     "output_type": "execute_result"
    }
   ],
   "source": [
    "df.copy().groupby('userId')['movieId'].count().describe()"
   ]
  },
  {
   "cell_type": "code",
   "execution_count": 18,
   "id": "0d47ce1d",
   "metadata": {
    "scrolled": true
   },
   "outputs": [
    {
     "data": {
      "text/plain": [
       "count    9712.000000\n",
       "mean       10.380869\n",
       "std        22.412608\n",
       "min         1.000000\n",
       "25%         1.000000\n",
       "50%         3.000000\n",
       "75%         9.000000\n",
       "max       329.000000\n",
       "Name: userId, dtype: float64"
      ]
     },
     "execution_count": 18,
     "metadata": {},
     "output_type": "execute_result"
    }
   ],
   "source": [
    "df.copy().groupby('movieId')['userId'].count().describe()"
   ]
  },
  {
   "cell_type": "code",
   "execution_count": 19,
   "id": "20ab0b48",
   "metadata": {
    "scrolled": true
   },
   "outputs": [
    {
     "name": "stdout",
     "output_type": "stream",
     "text": [
      "movieId\n",
      "nunique: 9712\n",
      "min: 1\n",
      "max: 329\n",
      "***********\n",
      "userId\n",
      "nunique: 610\n",
      "min: 20\n",
      "max: 2697\n",
      "***********\n"
     ]
    }
   ],
   "source": [
    "def description(grouped_column, column2):\n",
    "    print(grouped_column)\n",
    "    print(f'nunique: {df[grouped_column].nunique()}')\n",
    "    print(f'min: {df.copy().groupby(grouped_column)[column2].count().min()}')\n",
    "    print(f'max: {df.copy().groupby(grouped_column)[column2].count().max()}')\n",
    "    print('***********')\n",
    "\n",
    "description('movieId', 'userId')\n",
    "description('userId', 'movieId')"
   ]
  },
  {
   "cell_type": "markdown",
   "id": "7d2c83b9",
   "metadata": {},
   "source": [
    "Check sparsity test on new df with less NaNs"
   ]
  },
  {
   "cell_type": "code",
   "execution_count": 20,
   "id": "892deae3",
   "metadata": {},
   "outputs": [],
   "source": [
    "user_min = 30\n",
    "movie_min = 5\n",
    "\n",
    "df2 = df.copy().groupby('userId').filter(lambda x: len(x)>user_min)\n",
    "df2 = df2.copy().groupby('movieId').filter(lambda x: len(x)>movie_min)"
   ]
  },
  {
   "cell_type": "code",
   "execution_count": 21,
   "id": "5fc5d803",
   "metadata": {},
   "outputs": [
    {
     "name": "stdout",
     "output_type": "stream",
     "text": [
      " sparse: 0.9470045256480186, df length: 100819, df2 length: 85694\n",
      "movie unique: df: 9712, df2: 3247\n",
      "user unique: df: 610, df2: 498\n"
     ]
    }
   ],
   "source": [
    "ratings_count = len(df2['rating'])\n",
    "users_count = len(df2['userId'].unique())\n",
    "movies_count = len(df2['movieId'].unique())\n",
    "\n",
    "sparse = 1 - (ratings_count / (users_count*movies_count))\n",
    "sparse\n",
    "print(f' sparse: {sparse}, df length: {df.shape[0]}, df2 length: {df2.shape[0]}')\n",
    "print(f\"movie unique: df: {df['movieId'].nunique()}, df2: {df2['movieId'].nunique()}\")\n",
    "print(f\"user unique: df: {df['userId'].nunique()}, df2: {df2['userId'].nunique()}\")"
   ]
  },
  {
   "cell_type": "markdown",
   "id": "ef581f52",
   "metadata": {},
   "source": [
    "# *****Not enough change in sparsity. Will try more combinations."
   ]
  },
  {
   "cell_type": "code",
   "execution_count": 22,
   "id": "662c0448",
   "metadata": {},
   "outputs": [],
   "source": [
    "user_min = 150\n",
    "movie_min = 10\n",
    "\n",
    "df2 = df.copy().groupby('userId').filter(lambda x: len(x)>user_min)\n",
    "df2 = df2.copy().groupby('movieId').filter(lambda x: len(x)>movie_min)"
   ]
  },
  {
   "cell_type": "code",
   "execution_count": 23,
   "id": "31819773",
   "metadata": {},
   "outputs": [
    {
     "name": "stdout",
     "output_type": "stream",
     "text": [
      " sparse: 0.8286031887187957, df length: 100819, df_test length: 53966\n",
      "movie unique: df: 9712, df_test: 1820\n",
      "user unique: df: 610, df_test: 173\n"
     ]
    }
   ],
   "source": [
    "ratings_count = len(df2['rating'])\n",
    "users_count = len(df2['userId'].unique())\n",
    "movies_count = len(df2['movieId'].unique())\n",
    "\n",
    "sparse = 1 - (ratings_count / (users_count*movies_count))\n",
    "print(f' sparse: {sparse}, df length: {df.shape[0]}, df_test length: {df2.shape[0]}')\n",
    "print(f\"movie unique: df: {df['movieId'].nunique()}, df_test: {df2['movieId'].nunique()}\")\n",
    "print(f\"user unique: df: {df['userId'].nunique()}, df_test: {df2['userId'].nunique()}\")"
   ]
  },
  {
   "cell_type": "markdown",
   "id": "b09ea454",
   "metadata": {},
   "source": [
    "##### While we reviewed column statistics earlier, it's also important to understand value counts AKA popularity and the count ranges our data possesses"
   ]
  },
  {
   "cell_type": "code",
   "execution_count": 24,
   "id": "9d2c7790",
   "metadata": {},
   "outputs": [
    {
     "data": {
      "text/plain": [
       "Index(['userId', 'movieId', 'rating', 'timestamp', 'title', 'genres',\n",
       "       'datetime', 'day', 'year'],\n",
       "      dtype='object')"
      ]
     },
     "execution_count": 24,
     "metadata": {},
     "output_type": "execute_result"
    }
   ],
   "source": [
    "df2.columns"
   ]
  },
  {
   "cell_type": "code",
   "execution_count": 25,
   "id": "8d290c8b",
   "metadata": {},
   "outputs": [
    {
     "data": {
      "text/plain": [
       "array(['1995', '1996', '1994', '1977', '1993', '1990', '1989', '1991',\n",
       "       '1940', '1939', '1941', '1968', '1963', '1971', '1951', '1979',\n",
       "       '1992', '1986', '1982', '1975', '1980', '1987', '1981', '1983',\n",
       "       '1960', '1984', '1933', '1985', '1974', '1922', '1997', '1998',\n",
       "       '1976', '1942', '1967', '1959', '1978', '1973', '1988', '1999',\n",
       "       '1964', '1962', '1965', '1969', '2000', '1970', '1952', '1961',\n",
       "       '1954', '1946', '1955', '1957', '2001', '1937', '2002', '2003',\n",
       "       '2004', '2005', '2006', '1972', '1966', '1949', '1931', '1936',\n",
       "       '2007', '2008', '2009', '2010', '2011', '2012', '2013', '2014',\n",
       "       '2015', '2016', '2017', '1958', '1944', '1950', '1953', '1956',\n",
       "       '1938', '1948', '1927', '1934', '1947'], dtype=object)"
      ]
     },
     "execution_count": 25,
     "metadata": {},
     "output_type": "execute_result"
    }
   ],
   "source": [
    "df2['year'].unique()"
   ]
  },
  {
   "cell_type": "code",
   "execution_count": 26,
   "id": "3ba78b0c",
   "metadata": {},
   "outputs": [
    {
     "name": "stdout",
     "output_type": "stream",
     "text": [
      "rating\n",
      "4.0    0.276730\n",
      "3.0    0.190083\n",
      "3.5    0.143331\n",
      "5.0    0.123652\n",
      "4.5    0.090668\n",
      "2.0    0.067765\n",
      "2.5    0.059148\n",
      "1.0    0.022570\n",
      "1.5    0.015584\n",
      "0.5    0.010470\n",
      "Name: rating, dtype: float64\n",
      "\n",
      "    *******************\n",
      "    \n",
      "year\n",
      "2000    0.051996\n",
      "1999    0.050624\n",
      "1995    0.046418\n",
      "2001    0.045807\n",
      "1997    0.042101\n",
      "          ...   \n",
      "1936    0.000315\n",
      "1938    0.000278\n",
      "1947    0.000259\n",
      "1922    0.000241\n",
      "1934    0.000241\n",
      "Name: year, Length: 85, dtype: float64\n",
      "\n",
      "    *******************\n",
      "    \n",
      "genres\n",
      "Comedy                             0.064967\n",
      "Drama                              0.048809\n",
      "Comedy|Romance                     0.037968\n",
      "Comedy|Drama|Romance               0.029537\n",
      "Action|Adventure|Sci-Fi            0.028092\n",
      "                                     ...   \n",
      "Adventure|Drama|Romance            0.000204\n",
      "Adventure|Drama|Sci-Fi|Thriller    0.000204\n",
      "Adventure|Drama|Fantasy|Romance    0.000204\n",
      "Action|Animation|Mystery|IMAX      0.000204\n",
      "Action|Fantasy|Thriller|IMAX       0.000204\n",
      "Name: genres, Length: 477, dtype: float64\n",
      "\n",
      "    *******************\n",
      "    \n",
      "day\n",
      "Monday       0.186784\n",
      "Sunday       0.184727\n",
      "Tuesday      0.155042\n",
      "Friday       0.136493\n",
      "Wednesday    0.125857\n",
      "Saturday     0.112478\n",
      "Thursday     0.098618\n",
      "Name: day, dtype: float64\n",
      "\n",
      "    *******************\n",
      "    \n",
      "movieId\n",
      "356       0.002631\n",
      "2571      0.002502\n",
      "260       0.002483\n",
      "1196      0.002372\n",
      "296       0.002353\n",
      "            ...   \n",
      "135536    0.000204\n",
      "1457      0.000204\n",
      "6793      0.000204\n",
      "119141    0.000204\n",
      "1956      0.000204\n",
      "Name: movieId, Length: 1820, dtype: float64\n",
      "\n",
      "    *******************\n",
      "    \n",
      "userId\n",
      "414    0.026387\n",
      "599    0.022310\n",
      "68     0.018771\n",
      "474    0.017400\n",
      "448    0.017103\n",
      "         ...   \n",
      "33     0.002057\n",
      "326    0.002057\n",
      "74     0.002038\n",
      "563    0.001853\n",
      "564    0.001816\n",
      "Name: userId, Length: 173, dtype: float64\n",
      "\n",
      "    *******************\n",
      "    \n"
     ]
    }
   ],
   "source": [
    "def normal_counts(column):\n",
    "    print(column)\n",
    "    print(df2[column].value_counts(ascending=False, normalize=True))\n",
    "    print(\"\"\"\n",
    "    *******************\n",
    "    \"\"\")\n",
    "    \n",
    "normal_columns = ('rating', 'year', 'genres', 'day', 'movieId', 'userId')\n",
    "\n",
    "for column in normal_columns:\n",
    "    normal_counts(column)"
   ]
  },
  {
   "cell_type": "markdown",
   "id": "99ece3d7",
   "metadata": {},
   "source": [
    "### Initial EDA"
   ]
  },
  {
   "cell_type": "code",
   "execution_count": 27,
   "id": "c789d885",
   "metadata": {},
   "outputs": [
    {
     "data": {
      "text/plain": [
       "title\n",
       "Forrest Gump (1994)                                      142\n",
       "Matrix, The (1999)                                       135\n",
       "Star Wars: Episode IV - A New Hope (1977)                134\n",
       "Star Wars: Episode V - The Empire Strikes Back (1980)    128\n",
       "Pulp Fiction (1994)                                      127\n",
       "                                                        ... \n",
       "Barcelona (1994)                                          11\n",
       "Cutting Edge, The (1992)                                  11\n",
       "Barb Wire (1996)                                          11\n",
       "Bank Job, The (2008)                                      11\n",
       "Dukes of Hazzard, The (2005)                              11\n",
       "Length: 1820, dtype: int64"
      ]
     },
     "execution_count": 27,
     "metadata": {},
     "output_type": "execute_result"
    }
   ],
   "source": [
    "df2.groupby('title').size().sort_values(ascending=False)"
   ]
  },
  {
   "cell_type": "code",
   "execution_count": 28,
   "id": "99540b8a",
   "metadata": {},
   "outputs": [
    {
     "data": {
      "text/plain": [
       "title\n",
       "Forrest Gump (1994)                                                               142\n",
       "Matrix, The (1999)                                                                135\n",
       "Star Wars: Episode IV - A New Hope (1977)                                         134\n",
       "Star Wars: Episode V - The Empire Strikes Back (1980)                             128\n",
       "Pulp Fiction (1994)                                                               127\n",
       "Star Wars: Episode VI - Return of the Jedi (1983)                                 123\n",
       "Shawshank Redemption, The (1994)                                                  119\n",
       "Silence of the Lambs, The (1991)                                                  118\n",
       "Back to the Future (1985)                                                         116\n",
       "Raiders of the Lost Ark (Indiana Jones and the Raiders of the Lost Ark) (1981)    116\n",
       "dtype: int64"
      ]
     },
     "execution_count": 28,
     "metadata": {},
     "output_type": "execute_result"
    }
   ],
   "source": [
    "df2.groupby('title').size().sort_values(ascending=False).head(10)"
   ]
  },
  {
   "cell_type": "code",
   "execution_count": 29,
   "id": "e2734bb6",
   "metadata": {},
   "outputs": [
    {
     "name": "stderr",
     "output_type": "stream",
     "text": [
      "/Users/jacqueline/opt/anaconda3/lib/python3.9/site-packages/seaborn/_decorators.py:36: FutureWarning: Pass the following variables as keyword args: x, y. From version 0.12, the only valid positional argument will be `data`, and passing other arguments without an explicit keyword will result in an error or misinterpretation.\n",
      "  warnings.warn(\n"
     ]
    },
    {
     "data": {
      "image/png": "[encoded data removed]",
      "text/plain": [
       "<Figure size 864x504 with 1 Axes>"
      ]
     },
     "metadata": {
      "needs_background": "light"
     },
     "output_type": "display_data"
    }
   ],
   "source": [
    "#Plot the top 10 most watched movies\n",
    "plt.figure(figsize=(12,7))\n",
    "topmovies = df2.groupby('title').size().sort_values(ascending=False).head(10)\n",
    "sns.barplot(topmovies.index, topmovies.values)\n",
    "plt.title('Top 10 most-watched movies')\n",
    "plt.xticks(rotation=40);"
   ]
  },
  {
   "cell_type": "code",
   "execution_count": 30,
   "id": "99cec253",
   "metadata": {},
   "outputs": [],
   "source": [
    "df2['year'] = df2['year'].astype(int)"
   ]
  },
  {
   "cell_type": "code",
   "execution_count": 31,
   "id": "55083b6d",
   "metadata": {},
   "outputs": [
    {
     "data": {
      "text/html": [
       "<div>\n",
       "<style scoped>\n",
       "    .dataframe tbody tr th:only-of-type {\n",
       "        vertical-align: middle;\n",
       "    }\n",
       "\n",
       "    .dataframe tbody tr th {\n",
       "        vertical-align: top;\n",
       "    }\n",
       "\n",
       "    .dataframe thead th {\n",
       "        text-align: right;\n",
       "    }\n",
       "</style>\n",
       "<table border=\"1\" class=\"dataframe\">\n",
       "  <thead>\n",
       "    <tr style=\"text-align: right;\">\n",
       "      <th></th>\n",
       "      <th>userId</th>\n",
       "      <th>movieId</th>\n",
       "      <th>rating</th>\n",
       "      <th>timestamp</th>\n",
       "      <th>year</th>\n",
       "    </tr>\n",
       "  </thead>\n",
       "  <tbody>\n",
       "    <tr>\n",
       "      <th>count</th>\n",
       "      <td>53966.000000</td>\n",
       "      <td>53966.000000</td>\n",
       "      <td>53966.000000</td>\n",
       "      <td>5.396600e+04</td>\n",
       "      <td>53966.000000</td>\n",
       "    </tr>\n",
       "    <tr>\n",
       "      <th>mean</th>\n",
       "      <td>326.987344</td>\n",
       "      <td>15349.660453</td>\n",
       "      <td>3.539673</td>\n",
       "      <td>1.221127e+09</td>\n",
       "      <td>1994.412667</td>\n",
       "    </tr>\n",
       "    <tr>\n",
       "      <th>std</th>\n",
       "      <td>183.297838</td>\n",
       "      <td>29186.421275</td>\n",
       "      <td>0.996632</td>\n",
       "      <td>1.975067e+08</td>\n",
       "      <td>13.564973</td>\n",
       "    </tr>\n",
       "    <tr>\n",
       "      <th>min</th>\n",
       "      <td>1.000000</td>\n",
       "      <td>1.000000</td>\n",
       "      <td>0.500000</td>\n",
       "      <td>8.346915e+08</td>\n",
       "      <td>1922.000000</td>\n",
       "    </tr>\n",
       "    <tr>\n",
       "      <th>25%</th>\n",
       "      <td>177.000000</td>\n",
       "      <td>1240.000000</td>\n",
       "      <td>3.000000</td>\n",
       "      <td>1.049076e+09</td>\n",
       "      <td>1989.000000</td>\n",
       "    </tr>\n",
       "    <tr>\n",
       "      <th>50%</th>\n",
       "      <td>318.000000</td>\n",
       "      <td>2791.000000</td>\n",
       "      <td>3.500000</td>\n",
       "      <td>1.187320e+09</td>\n",
       "      <td>1997.000000</td>\n",
       "    </tr>\n",
       "    <tr>\n",
       "      <th>75%</th>\n",
       "      <td>480.000000</td>\n",
       "      <td>6552.000000</td>\n",
       "      <td>4.000000</td>\n",
       "      <td>1.435994e+09</td>\n",
       "      <td>2003.000000</td>\n",
       "    </tr>\n",
       "    <tr>\n",
       "      <th>max</th>\n",
       "      <td>610.000000</td>\n",
       "      <td>176371.000000</td>\n",
       "      <td>5.000000</td>\n",
       "      <td>1.537799e+09</td>\n",
       "      <td>2017.000000</td>\n",
       "    </tr>\n",
       "  </tbody>\n",
       "</table>\n",
       "</div>"
      ],
      "text/plain": [
       "             userId        movieId        rating     timestamp          year\n",
       "count  53966.000000   53966.000000  53966.000000  5.396600e+04  53966.000000\n",
       "mean     326.987344   15349.660453      3.539673  1.221127e+09   1994.412667\n",
       "std      183.297838   29186.421275      0.996632  1.975067e+08     13.564973\n",
       "min        1.000000       1.000000      0.500000  8.346915e+08   1922.000000\n",
       "25%      177.000000    1240.000000      3.000000  1.049076e+09   1989.000000\n",
       "50%      318.000000    2791.000000      3.500000  1.187320e+09   1997.000000\n",
       "75%      480.000000    6552.000000      4.000000  1.435994e+09   2003.000000\n",
       "max      610.000000  176371.000000      5.000000  1.537799e+09   2017.000000"
      ]
     },
     "execution_count": 31,
     "metadata": {},
     "output_type": "execute_result"
    }
   ],
   "source": [
    "df2.describe()"
   ]
  },
  {
   "cell_type": "code",
   "execution_count": 32,
   "id": "fd585ce4",
   "metadata": {},
   "outputs": [
    {
     "name": "stdout",
     "output_type": "stream",
     "text": [
      "85\n",
      "[1995 1996 1994 1977 1993 1990 1989 1991 1940 1939 1941 1968 1963 1971\n",
      " 1951 1979 1992 1986 1982 1975 1980 1987 1981 1983 1960 1984 1933 1985\n",
      " 1974 1922 1997 1998 1976 1942 1967 1959 1978 1973 1988 1999 1964 1962\n",
      " 1965 1969 2000 1970 1952 1961 1954 1946 1955 1957 2001 1937 2002 2003\n",
      " 2004 2005 2006 1972 1966 1949 1931 1936 2007 2008 2009 2010 2011 2012\n",
      " 2013 2014 2015 2016 2017 1958 1944 1950 1953 1956 1938 1948 1927 1934\n",
      " 1947]\n"
     ]
    }
   ],
   "source": [
    "print(df2['year'].nunique())\n",
    "print(df2['year'].unique())"
   ]
  },
  {
   "cell_type": "code",
   "execution_count": 33,
   "id": "0631dc34",
   "metadata": {},
   "outputs": [
    {
     "name": "stderr",
     "output_type": "stream",
     "text": [
      "/Users/jacqueline/opt/anaconda3/lib/python3.9/site-packages/seaborn/_decorators.py:36: FutureWarning: Pass the following variables as keyword args: x, y. From version 0.12, the only valid positional argument will be `data`, and passing other arguments without an explicit keyword will result in an error or misinterpretation.\n",
      "  warnings.warn(\n"
     ]
    },
    {
     "data": {
      "image/png": "[encoded data removed]",
      "text/plain": [
       "<Figure size 864x504 with 1 Axes>"
      ]
     },
     "metadata": {
      "needs_background": "light"
     },
     "output_type": "display_data"
    }
   ],
   "source": [
    "#Top 10 Years with the most movies produced.\n",
    "plt.figure(figsize=(12,7))\n",
    "topyear = df2.groupby('year').size().sort_values(ascending=False).head(10)\n",
    "sns.barplot(topyear.index, topyear.values)\n",
    "plt.title('Top 10 most popular years')\n",
    "plt.xticks(rotation=80);"
   ]
  },
  {
   "cell_type": "code",
   "execution_count": 34,
   "id": "a656af31",
   "metadata": {},
   "outputs": [
    {
     "data": {
      "text/plain": [
       "<BarContainer object of 19 artists>"
      ]
     },
     "execution_count": 34,
     "metadata": {},
     "output_type": "execute_result"
    },
    {
     "data": {
      "image/png": "[encoded data removed]",
      "text/plain": [
       "<Figure size 1440x504 with 1 Axes>"
      ]
     },
     "metadata": {
      "needs_background": "light"
     },
     "output_type": "display_data"
    }
   ],
   "source": [
    "plt.figure(figsize=(20,7))\n",
    "genrelist = movies['genres'].apply(lambda genrelist_movie : str(genrelist_movie).split(\"|\"))\n",
    "genres_count = {}\n",
    "\n",
    "for genrelist_movie in genrelist:\n",
    "    for genre in genrelist_movie:\n",
    "        if(genres_count.get(genre,False)):\n",
    "            genres_count[genre]=genres_count[genre]+1\n",
    "        else:\n",
    "            genres_count[genre] = 1       \n",
    "genres_count.pop(\"(no genres listed)\")\n",
    "plt.bar(genres_count.keys(),genres_count.values(),color='orange')"
   ]
  },
  {
   "cell_type": "code",
   "execution_count": 35,
   "id": "9ac170ed",
   "metadata": {},
   "outputs": [
    {
     "data": {
      "text/html": [
       "<div>\n",
       "<style scoped>\n",
       "    .dataframe tbody tr th:only-of-type {\n",
       "        vertical-align: middle;\n",
       "    }\n",
       "\n",
       "    .dataframe tbody tr th {\n",
       "        vertical-align: top;\n",
       "    }\n",
       "\n",
       "    .dataframe thead th {\n",
       "        text-align: right;\n",
       "    }\n",
       "</style>\n",
       "<table border=\"1\" class=\"dataframe\">\n",
       "  <thead>\n",
       "    <tr style=\"text-align: right;\">\n",
       "      <th></th>\n",
       "      <th>userId</th>\n",
       "      <th>movieId</th>\n",
       "      <th>rating</th>\n",
       "      <th>timestamp</th>\n",
       "    </tr>\n",
       "  </thead>\n",
       "  <tbody>\n",
       "    <tr>\n",
       "      <th>0</th>\n",
       "      <td>1</td>\n",
       "      <td>1</td>\n",
       "      <td>4.0</td>\n",
       "      <td>964982703</td>\n",
       "    </tr>\n",
       "    <tr>\n",
       "      <th>1</th>\n",
       "      <td>1</td>\n",
       "      <td>3</td>\n",
       "      <td>4.0</td>\n",
       "      <td>964981247</td>\n",
       "    </tr>\n",
       "    <tr>\n",
       "      <th>2</th>\n",
       "      <td>1</td>\n",
       "      <td>6</td>\n",
       "      <td>4.0</td>\n",
       "      <td>964982224</td>\n",
       "    </tr>\n",
       "    <tr>\n",
       "      <th>3</th>\n",
       "      <td>1</td>\n",
       "      <td>47</td>\n",
       "      <td>5.0</td>\n",
       "      <td>964983815</td>\n",
       "    </tr>\n",
       "    <tr>\n",
       "      <th>4</th>\n",
       "      <td>1</td>\n",
       "      <td>50</td>\n",
       "      <td>5.0</td>\n",
       "      <td>964982931</td>\n",
       "    </tr>\n",
       "    <tr>\n",
       "      <th>...</th>\n",
       "      <td>...</td>\n",
       "      <td>...</td>\n",
       "      <td>...</td>\n",
       "      <td>...</td>\n",
       "    </tr>\n",
       "    <tr>\n",
       "      <th>100831</th>\n",
       "      <td>610</td>\n",
       "      <td>166534</td>\n",
       "      <td>4.0</td>\n",
       "      <td>1493848402</td>\n",
       "    </tr>\n",
       "    <tr>\n",
       "      <th>100832</th>\n",
       "      <td>610</td>\n",
       "      <td>168248</td>\n",
       "      <td>5.0</td>\n",
       "      <td>1493850091</td>\n",
       "    </tr>\n",
       "    <tr>\n",
       "      <th>100833</th>\n",
       "      <td>610</td>\n",
       "      <td>168250</td>\n",
       "      <td>5.0</td>\n",
       "      <td>1494273047</td>\n",
       "    </tr>\n",
       "    <tr>\n",
       "      <th>100834</th>\n",
       "      <td>610</td>\n",
       "      <td>168252</td>\n",
       "      <td>5.0</td>\n",
       "      <td>1493846352</td>\n",
       "    </tr>\n",
       "    <tr>\n",
       "      <th>100835</th>\n",
       "      <td>610</td>\n",
       "      <td>170875</td>\n",
       "      <td>3.0</td>\n",
       "      <td>1493846415</td>\n",
       "    </tr>\n",
       "  </tbody>\n",
       "</table>\n",
       "<p>100836 rows × 4 columns</p>\n",
       "</div>"
      ],
      "text/plain": [
       "        userId  movieId  rating   timestamp\n",
       "0            1        1     4.0   964982703\n",
       "1            1        3     4.0   964981247\n",
       "2            1        6     4.0   964982224\n",
       "3            1       47     5.0   964983815\n",
       "4            1       50     5.0   964982931\n",
       "...        ...      ...     ...         ...\n",
       "100831     610   166534     4.0  1493848402\n",
       "100832     610   168248     5.0  1493850091\n",
       "100833     610   168250     5.0  1494273047\n",
       "100834     610   168252     5.0  1493846352\n",
       "100835     610   170875     3.0  1493846415\n",
       "\n",
       "[100836 rows x 4 columns]"
      ]
     },
     "execution_count": 35,
     "metadata": {},
     "output_type": "execute_result"
    }
   ],
   "source": [
    "ratings"
   ]
  },
  {
   "cell_type": "code",
   "execution_count": 36,
   "id": "3b3e6f05",
   "metadata": {},
   "outputs": [
    {
     "data": {
      "text/plain": [
       "<seaborn.axisgrid.FacetGrid at 0x7fd7480bb0d0>"
      ]
     },
     "execution_count": 36,
     "metadata": {},
     "output_type": "execute_result"
    },
    {
     "data": {
      "image/png": "[encoded data removed]",
      "text/plain": [
       "<Figure size 360x360 with 1 Axes>"
      ]
     },
     "metadata": {
      "needs_background": "light"
     },
     "output_type": "display_data"
    }
   ],
   "source": [
    "sns.displot(data=ratings, x=\"rating\")"
   ]
  },
  {
   "cell_type": "code",
   "execution_count": 37,
   "id": "3cc5a23e",
   "metadata": {},
   "outputs": [],
   "source": [
    "ratings_movies = ratings.copy()\n",
    "ratings_movies.drop(columns='timestamp', inplace=True)\n",
    "ratings_movies.drop(columns='movieId', inplace=True)"
   ]
  },
  {
   "cell_type": "code",
   "execution_count": 38,
   "id": "221de29d",
   "metadata": {},
   "outputs": [],
   "source": [
    "ratings_users_agg = ratings_movies.groupby('userId').agg([np.size, np.mean])"
   ]
  },
  {
   "cell_type": "code",
   "execution_count": 39,
   "id": "13564e01",
   "metadata": {},
   "outputs": [],
   "source": [
    "ratings_users_mean = pd.DataFrame(ratings_movies.copy().groupby('userId')['rating'].mean())\n",
    "ratings_users_count = pd.DataFrame(ratings_movies.copy().groupby('userId')['rating'].count())\n",
    "\n",
    "ratings_mean_count = pd.merge(ratings_users_mean, ratings_users_count, on='userId', how='inner')\n",
    "ratings_mean_count.rename(columns={'rating_x':'mean_rating', 'rating_y':'count_rating'}, inplace=True)"
   ]
  },
  {
   "cell_type": "code",
   "execution_count": 40,
   "id": "80e518bc",
   "metadata": {},
   "outputs": [
    {
     "data": {
      "text/html": [
       "<div>\n",
       "<style scoped>\n",
       "    .dataframe tbody tr th:only-of-type {\n",
       "        vertical-align: middle;\n",
       "    }\n",
       "\n",
       "    .dataframe tbody tr th {\n",
       "        vertical-align: top;\n",
       "    }\n",
       "\n",
       "    .dataframe thead th {\n",
       "        text-align: right;\n",
       "    }\n",
       "</style>\n",
       "<table border=\"1\" class=\"dataframe\">\n",
       "  <thead>\n",
       "    <tr style=\"text-align: right;\">\n",
       "      <th></th>\n",
       "      <th>count_rating</th>\n",
       "    </tr>\n",
       "  </thead>\n",
       "  <tbody>\n",
       "    <tr>\n",
       "      <th>count</th>\n",
       "      <td>610.000000</td>\n",
       "    </tr>\n",
       "    <tr>\n",
       "      <th>mean</th>\n",
       "      <td>165.304918</td>\n",
       "    </tr>\n",
       "    <tr>\n",
       "      <th>std</th>\n",
       "      <td>269.480584</td>\n",
       "    </tr>\n",
       "    <tr>\n",
       "      <th>min</th>\n",
       "      <td>20.000000</td>\n",
       "    </tr>\n",
       "    <tr>\n",
       "      <th>25%</th>\n",
       "      <td>35.000000</td>\n",
       "    </tr>\n",
       "    <tr>\n",
       "      <th>50%</th>\n",
       "      <td>70.500000</td>\n",
       "    </tr>\n",
       "    <tr>\n",
       "      <th>75%</th>\n",
       "      <td>168.000000</td>\n",
       "    </tr>\n",
       "    <tr>\n",
       "      <th>max</th>\n",
       "      <td>2698.000000</td>\n",
       "    </tr>\n",
       "  </tbody>\n",
       "</table>\n",
       "</div>"
      ],
      "text/plain": [
       "       count_rating\n",
       "count    610.000000\n",
       "mean     165.304918\n",
       "std      269.480584\n",
       "min       20.000000\n",
       "25%       35.000000\n",
       "50%       70.500000\n",
       "75%      168.000000\n",
       "max     2698.000000"
      ]
     },
     "execution_count": 40,
     "metadata": {},
     "output_type": "execute_result"
    }
   ],
   "source": [
    "ratings_mean_count[['count_rating']].describe()"
   ]
  },
  {
   "cell_type": "code",
   "execution_count": 41,
   "id": "407e0b5d",
   "metadata": {
    "scrolled": true
   },
   "outputs": [
    {
     "data": {
      "text/plain": [
       "Text(0.5, 1.0, '# Ratings vs Mean Rating')"
      ]
     },
     "execution_count": 41,
     "metadata": {},
     "output_type": "execute_result"
    },
    {
     "data": {
      "image/png": "[encoded data removed]",
      "text/plain": [
       "<Figure size 432x288 with 1 Axes>"
      ]
     },
     "metadata": {
      "needs_background": "light"
     },
     "output_type": "display_data"
    }
   ],
   "source": [
    "ratings_mean_count.plot.scatter(x='mean_rating', y='count_rating', alpha=.3)\n",
    "plt.ylim(2,600)\n",
    "plt.title('# Ratings vs Mean Rating')"
   ]
  },
  {
   "cell_type": "code",
   "execution_count": 42,
   "id": "88f5c129",
   "metadata": {},
   "outputs": [
    {
     "data": {
      "text/html": [
       "<div>\n",
       "<style scoped>\n",
       "    .dataframe tbody tr th:only-of-type {\n",
       "        vertical-align: middle;\n",
       "    }\n",
       "\n",
       "    .dataframe tbody tr th {\n",
       "        vertical-align: top;\n",
       "    }\n",
       "\n",
       "    .dataframe thead th {\n",
       "        text-align: right;\n",
       "    }\n",
       "</style>\n",
       "<table border=\"1\" class=\"dataframe\">\n",
       "  <thead>\n",
       "    <tr style=\"text-align: right;\">\n",
       "      <th></th>\n",
       "      <th>rating</th>\n",
       "      <th>title</th>\n",
       "      <th>genres</th>\n",
       "      <th>datetime</th>\n",
       "    </tr>\n",
       "  </thead>\n",
       "  <tbody>\n",
       "    <tr>\n",
       "      <th>37447</th>\n",
       "      <td>5.0</td>\n",
       "      <td>Seven (a.k.a. Se7en) (1995)</td>\n",
       "      <td>Mystery|Thriller</td>\n",
       "      <td>Monday, August 08, 2016 01:27:48</td>\n",
       "    </tr>\n",
       "    <tr>\n",
       "      <th>37448</th>\n",
       "      <td>4.5</td>\n",
       "      <td>Taxi Driver (1976)</td>\n",
       "      <td>Crime|Drama|Thriller</td>\n",
       "      <td>Monday, August 08, 2016 01:21:38</td>\n",
       "    </tr>\n",
       "    <tr>\n",
       "      <th>37449</th>\n",
       "      <td>5.0</td>\n",
       "      <td>Léon: The Professional (a.k.a. The Professiona...</td>\n",
       "      <td>Action|Crime|Drama|Thriller</td>\n",
       "      <td>Monday, August 08, 2016 01:18:42</td>\n",
       "    </tr>\n",
       "    <tr>\n",
       "      <th>37450</th>\n",
       "      <td>5.0</td>\n",
       "      <td>Pulp Fiction (1994)</td>\n",
       "      <td>Comedy|Crime|Drama|Thriller</td>\n",
       "      <td>Monday, August 08, 2016 01:18:37</td>\n",
       "    </tr>\n",
       "    <tr>\n",
       "      <th>37451</th>\n",
       "      <td>5.0</td>\n",
       "      <td>Shawshank Redemption, The (1994)</td>\n",
       "      <td>Crime|Drama</td>\n",
       "      <td>Monday, August 08, 2016 01:17:30</td>\n",
       "    </tr>\n",
       "    <tr>\n",
       "      <th>37452</th>\n",
       "      <td>5.0</td>\n",
       "      <td>Forrest Gump (1994)</td>\n",
       "      <td>Comedy|Drama|Romance|War</td>\n",
       "      <td>Monday, August 08, 2016 01:28:18</td>\n",
       "    </tr>\n",
       "    <tr>\n",
       "      <th>37453</th>\n",
       "      <td>5.0</td>\n",
       "      <td>Schindler's List (1993)</td>\n",
       "      <td>Drama|War</td>\n",
       "      <td>Monday, August 08, 2016 01:17:32</td>\n",
       "    </tr>\n",
       "    <tr>\n",
       "      <th>37454</th>\n",
       "      <td>5.0</td>\n",
       "      <td>Silence of the Lambs, The (1991)</td>\n",
       "      <td>Crime|Horror|Thriller</td>\n",
       "      <td>Monday, August 08, 2016 01:18:15</td>\n",
       "    </tr>\n",
       "    <tr>\n",
       "      <th>37455</th>\n",
       "      <td>5.0</td>\n",
       "      <td>Fargo (1996)</td>\n",
       "      <td>Comedy|Crime|Drama|Thriller</td>\n",
       "      <td>Monday, August 08, 2016 01:20:29</td>\n",
       "    </tr>\n",
       "    <tr>\n",
       "      <th>37456</th>\n",
       "      <td>5.0</td>\n",
       "      <td>Reservoir Dogs (1992)</td>\n",
       "      <td>Crime|Mystery|Thriller</td>\n",
       "      <td>Monday, August 08, 2016 01:20:03</td>\n",
       "    </tr>\n",
       "    <tr>\n",
       "      <th>37457</th>\n",
       "      <td>5.0</td>\n",
       "      <td>Princess Bride, The (1987)</td>\n",
       "      <td>Action|Adventure|Comedy|Fantasy|Romance</td>\n",
       "      <td>Monday, August 08, 2016 01:26:13</td>\n",
       "    </tr>\n",
       "    <tr>\n",
       "      <th>37458</th>\n",
       "      <td>5.0</td>\n",
       "      <td>Apocalypse Now (1979)</td>\n",
       "      <td>Action|Drama|War</td>\n",
       "      <td>Monday, August 08, 2016 01:26:44</td>\n",
       "    </tr>\n",
       "    <tr>\n",
       "      <th>37459</th>\n",
       "      <td>5.0</td>\n",
       "      <td>Amadeus (1984)</td>\n",
       "      <td>Drama</td>\n",
       "      <td>Monday, August 08, 2016 01:28:13</td>\n",
       "    </tr>\n",
       "    <tr>\n",
       "      <th>37460</th>\n",
       "      <td>5.0</td>\n",
       "      <td>Stand by Me (1986)</td>\n",
       "      <td>Adventure|Drama</td>\n",
       "      <td>Monday, August 08, 2016 01:20:40</td>\n",
       "    </tr>\n",
       "    <tr>\n",
       "      <th>37461</th>\n",
       "      <td>5.0</td>\n",
       "      <td>Good Will Hunting (1997)</td>\n",
       "      <td>Drama|Romance</td>\n",
       "      <td>Monday, August 08, 2016 01:19:03</td>\n",
       "    </tr>\n",
       "    <tr>\n",
       "      <th>37462</th>\n",
       "      <td>5.0</td>\n",
       "      <td>Saving Private Ryan (1998)</td>\n",
       "      <td>Action|Drama|War</td>\n",
       "      <td>Monday, August 08, 2016 01:18:35</td>\n",
       "    </tr>\n",
       "    <tr>\n",
       "      <th>37463</th>\n",
       "      <td>5.0</td>\n",
       "      <td>Matrix, The (1999)</td>\n",
       "      <td>Action|Sci-Fi|Thriller</td>\n",
       "      <td>Monday, August 08, 2016 01:17:53</td>\n",
       "    </tr>\n",
       "    <tr>\n",
       "      <th>37464</th>\n",
       "      <td>5.0</td>\n",
       "      <td>Fight Club (1999)</td>\n",
       "      <td>Action|Crime|Drama|Thriller</td>\n",
       "      <td>Monday, August 08, 2016 01:17:55</td>\n",
       "    </tr>\n",
       "    <tr>\n",
       "      <th>37465</th>\n",
       "      <td>5.0</td>\n",
       "      <td>My Neighbor Totoro (Tonari no Totoro) (1988)</td>\n",
       "      <td>Animation|Children|Drama|Fantasy</td>\n",
       "      <td>Monday, August 08, 2016 01:26:21</td>\n",
       "    </tr>\n",
       "    <tr>\n",
       "      <th>37466</th>\n",
       "      <td>2.5</td>\n",
       "      <td>Ratatouille (2007)</td>\n",
       "      <td>Animation|Children|Drama</td>\n",
       "      <td>Monday, August 08, 2016 01:21:07</td>\n",
       "    </tr>\n",
       "    <tr>\n",
       "      <th>37467</th>\n",
       "      <td>5.0</td>\n",
       "      <td>Toy Story 3 (2010)</td>\n",
       "      <td>Adventure|Animation|Children|Comedy|Fantasy|IMAX</td>\n",
       "      <td>Monday, August 08, 2016 01:20:11</td>\n",
       "    </tr>\n",
       "    <tr>\n",
       "      <th>37468</th>\n",
       "      <td>5.0</td>\n",
       "      <td>The Blue Planet (2001)</td>\n",
       "      <td>Documentary</td>\n",
       "      <td>Monday, August 08, 2016 01:27:45</td>\n",
       "    </tr>\n",
       "    <tr>\n",
       "      <th>37469</th>\n",
       "      <td>5.0</td>\n",
       "      <td>Planet Earth (2006)</td>\n",
       "      <td>Documentary</td>\n",
       "      <td>Monday, August 08, 2016 01:28:20</td>\n",
       "    </tr>\n",
       "  </tbody>\n",
       "</table>\n",
       "</div>"
      ],
      "text/plain": [
       "       rating                                              title  \\\n",
       "37447     5.0                        Seven (a.k.a. Se7en) (1995)   \n",
       "37448     4.5                                 Taxi Driver (1976)   \n",
       "37449     5.0  Léon: The Professional (a.k.a. The Professiona...   \n",
       "37450     5.0                                Pulp Fiction (1994)   \n",
       "37451     5.0                   Shawshank Redemption, The (1994)   \n",
       "37452     5.0                                Forrest Gump (1994)   \n",
       "37453     5.0                            Schindler's List (1993)   \n",
       "37454     5.0                   Silence of the Lambs, The (1991)   \n",
       "37455     5.0                                       Fargo (1996)   \n",
       "37456     5.0                              Reservoir Dogs (1992)   \n",
       "37457     5.0                         Princess Bride, The (1987)   \n",
       "37458     5.0                              Apocalypse Now (1979)   \n",
       "37459     5.0                                     Amadeus (1984)   \n",
       "37460     5.0                                 Stand by Me (1986)   \n",
       "37461     5.0                           Good Will Hunting (1997)   \n",
       "37462     5.0                         Saving Private Ryan (1998)   \n",
       "37463     5.0                                 Matrix, The (1999)   \n",
       "37464     5.0                                  Fight Club (1999)   \n",
       "37465     5.0       My Neighbor Totoro (Tonari no Totoro) (1988)   \n",
       "37466     2.5                                 Ratatouille (2007)   \n",
       "37467     5.0                                 Toy Story 3 (2010)   \n",
       "37468     5.0                             The Blue Planet (2001)   \n",
       "37469     5.0                                Planet Earth (2006)   \n",
       "\n",
       "                                                 genres  \\\n",
       "37447                                  Mystery|Thriller   \n",
       "37448                              Crime|Drama|Thriller   \n",
       "37449                       Action|Crime|Drama|Thriller   \n",
       "37450                       Comedy|Crime|Drama|Thriller   \n",
       "37451                                       Crime|Drama   \n",
       "37452                          Comedy|Drama|Romance|War   \n",
       "37453                                         Drama|War   \n",
       "37454                             Crime|Horror|Thriller   \n",
       "37455                       Comedy|Crime|Drama|Thriller   \n",
       "37456                            Crime|Mystery|Thriller   \n",
       "37457           Action|Adventure|Comedy|Fantasy|Romance   \n",
       "37458                                  Action|Drama|War   \n",
       "37459                                             Drama   \n",
       "37460                                   Adventure|Drama   \n",
       "37461                                     Drama|Romance   \n",
       "37462                                  Action|Drama|War   \n",
       "37463                            Action|Sci-Fi|Thriller   \n",
       "37464                       Action|Crime|Drama|Thriller   \n",
       "37465                  Animation|Children|Drama|Fantasy   \n",
       "37466                          Animation|Children|Drama   \n",
       "37467  Adventure|Animation|Children|Comedy|Fantasy|IMAX   \n",
       "37468                                       Documentary   \n",
       "37469                                       Documentary   \n",
       "\n",
       "                               datetime  \n",
       "37447  Monday, August 08, 2016 01:27:48  \n",
       "37448  Monday, August 08, 2016 01:21:38  \n",
       "37449  Monday, August 08, 2016 01:18:42  \n",
       "37450  Monday, August 08, 2016 01:18:37  \n",
       "37451  Monday, August 08, 2016 01:17:30  \n",
       "37452  Monday, August 08, 2016 01:28:18  \n",
       "37453  Monday, August 08, 2016 01:17:32  \n",
       "37454  Monday, August 08, 2016 01:18:15  \n",
       "37455  Monday, August 08, 2016 01:20:29  \n",
       "37456  Monday, August 08, 2016 01:20:03  \n",
       "37457  Monday, August 08, 2016 01:26:13  \n",
       "37458  Monday, August 08, 2016 01:26:44  \n",
       "37459  Monday, August 08, 2016 01:28:13  \n",
       "37460  Monday, August 08, 2016 01:20:40  \n",
       "37461  Monday, August 08, 2016 01:19:03  \n",
       "37462  Monday, August 08, 2016 01:18:35  \n",
       "37463  Monday, August 08, 2016 01:17:53  \n",
       "37464  Monday, August 08, 2016 01:17:55  \n",
       "37465  Monday, August 08, 2016 01:26:21  \n",
       "37466  Monday, August 08, 2016 01:21:07  \n",
       "37467  Monday, August 08, 2016 01:20:11  \n",
       "37468  Monday, August 08, 2016 01:27:45  \n",
       "37469  Monday, August 08, 2016 01:28:20  "
      ]
     },
     "execution_count": 42,
     "metadata": {},
     "output_type": "execute_result"
    }
   ],
   "source": [
    "nicey = df[df['userId']==251][['rating','title','genres','datetime']]\n",
    "nicey"
   ]
  },
  {
   "cell_type": "code",
   "execution_count": 43,
   "id": "5bfe4b2c",
   "metadata": {},
   "outputs": [
    {
     "data": {
      "text/html": [
       "<div>\n",
       "<style scoped>\n",
       "    .dataframe tbody tr th:only-of-type {\n",
       "        vertical-align: middle;\n",
       "    }\n",
       "\n",
       "    .dataframe tbody tr th {\n",
       "        vertical-align: top;\n",
       "    }\n",
       "\n",
       "    .dataframe thead th {\n",
       "        text-align: right;\n",
       "    }\n",
       "</style>\n",
       "<table border=\"1\" class=\"dataframe\">\n",
       "  <thead>\n",
       "    <tr style=\"text-align: right;\">\n",
       "      <th></th>\n",
       "      <th>rating</th>\n",
       "      <th>title</th>\n",
       "      <th>genres</th>\n",
       "      <th>datetime</th>\n",
       "    </tr>\n",
       "  </thead>\n",
       "  <tbody>\n",
       "    <tr>\n",
       "      <th>68317</th>\n",
       "      <td>2.5</td>\n",
       "      <td>Jungle Book, The (1994)</td>\n",
       "      <td>Adventure|Children|Romance</td>\n",
       "      <td>Monday, March 12, 2012 09:54:58</td>\n",
       "    </tr>\n",
       "    <tr>\n",
       "      <th>68318</th>\n",
       "      <td>1.5</td>\n",
       "      <td>Englishman Who Went Up a Hill But Came Down a ...</td>\n",
       "      <td>Comedy|Romance</td>\n",
       "      <td>Monday, March 12, 2012 09:55:38</td>\n",
       "    </tr>\n",
       "    <tr>\n",
       "      <th>68319</th>\n",
       "      <td>2.0</td>\n",
       "      <td>Rudy (1993)</td>\n",
       "      <td>Drama</td>\n",
       "      <td>Monday, March 12, 2012 09:55:06</td>\n",
       "    </tr>\n",
       "    <tr>\n",
       "      <th>68320</th>\n",
       "      <td>1.0</td>\n",
       "      <td>Heavy Metal (1981)</td>\n",
       "      <td>Action|Adventure|Animation|Horror|Sci-Fi</td>\n",
       "      <td>Monday, March 12, 2012 09:55:45</td>\n",
       "    </tr>\n",
       "    <tr>\n",
       "      <th>68321</th>\n",
       "      <td>1.5</td>\n",
       "      <td>Aristocats, The (1970)</td>\n",
       "      <td>Animation|Children</td>\n",
       "      <td>Monday, March 12, 2012 09:55:12</td>\n",
       "    </tr>\n",
       "    <tr>\n",
       "      <th>68322</th>\n",
       "      <td>1.0</td>\n",
       "      <td>Sex, Lies, and Videotape (1989)</td>\n",
       "      <td>Drama</td>\n",
       "      <td>Monday, March 12, 2012 09:55:56</td>\n",
       "    </tr>\n",
       "    <tr>\n",
       "      <th>68323</th>\n",
       "      <td>1.0</td>\n",
       "      <td>Right Stuff, The (1983)</td>\n",
       "      <td>Drama</td>\n",
       "      <td>Monday, March 12, 2012 09:56:17</td>\n",
       "    </tr>\n",
       "    <tr>\n",
       "      <th>68324</th>\n",
       "      <td>0.5</td>\n",
       "      <td>Patton (1970)</td>\n",
       "      <td>Drama|War</td>\n",
       "      <td>Monday, March 12, 2012 09:54:20</td>\n",
       "    </tr>\n",
       "    <tr>\n",
       "      <th>68325</th>\n",
       "      <td>0.5</td>\n",
       "      <td>I Know What You Did Last Summer (1997)</td>\n",
       "      <td>Horror|Mystery|Thriller</td>\n",
       "      <td>Monday, March 12, 2012 09:56:15</td>\n",
       "    </tr>\n",
       "    <tr>\n",
       "      <th>68326</th>\n",
       "      <td>1.0</td>\n",
       "      <td>Dangerous Liaisons (1988)</td>\n",
       "      <td>Drama|Romance</td>\n",
       "      <td>Monday, March 12, 2012 09:56:10</td>\n",
       "    </tr>\n",
       "    <tr>\n",
       "      <th>68327</th>\n",
       "      <td>2.0</td>\n",
       "      <td>Pretty in Pink (1986)</td>\n",
       "      <td>Comedy|Drama|Romance</td>\n",
       "      <td>Monday, March 12, 2012 09:55:50</td>\n",
       "    </tr>\n",
       "    <tr>\n",
       "      <th>68328</th>\n",
       "      <td>0.5</td>\n",
       "      <td>Double Jeopardy (1999)</td>\n",
       "      <td>Action|Crime|Drama|Thriller</td>\n",
       "      <td>Monday, March 12, 2012 09:55:18</td>\n",
       "    </tr>\n",
       "    <tr>\n",
       "      <th>68329</th>\n",
       "      <td>2.0</td>\n",
       "      <td>Boys Don't Cry (1999)</td>\n",
       "      <td>Drama</td>\n",
       "      <td>Monday, March 12, 2012 09:54:32</td>\n",
       "    </tr>\n",
       "    <tr>\n",
       "      <th>68330</th>\n",
       "      <td>0.5</td>\n",
       "      <td>Backdraft (1991)</td>\n",
       "      <td>Action|Drama</td>\n",
       "      <td>Monday, March 12, 2012 09:54:37</td>\n",
       "    </tr>\n",
       "    <tr>\n",
       "      <th>68331</th>\n",
       "      <td>1.5</td>\n",
       "      <td>American Graffiti (1973)</td>\n",
       "      <td>Comedy|Drama</td>\n",
       "      <td>Monday, March 12, 2012 09:56:04</td>\n",
       "    </tr>\n",
       "    <tr>\n",
       "      <th>68332</th>\n",
       "      <td>0.5</td>\n",
       "      <td>JFK (1991)</td>\n",
       "      <td>Drama|Mystery|Thriller</td>\n",
       "      <td>Monday, March 12, 2012 09:56:26</td>\n",
       "    </tr>\n",
       "    <tr>\n",
       "      <th>68333</th>\n",
       "      <td>1.0</td>\n",
       "      <td>Frequency (2000)</td>\n",
       "      <td>Drama|Thriller</td>\n",
       "      <td>Monday, March 12, 2012 09:54:47</td>\n",
       "    </tr>\n",
       "    <tr>\n",
       "      <th>68334</th>\n",
       "      <td>2.0</td>\n",
       "      <td>Me, Myself &amp; Irene (2000)</td>\n",
       "      <td>Adventure|Comedy</td>\n",
       "      <td>Monday, March 12, 2012 09:56:22</td>\n",
       "    </tr>\n",
       "    <tr>\n",
       "      <th>68335</th>\n",
       "      <td>0.5</td>\n",
       "      <td>Cell, The (2000)</td>\n",
       "      <td>Drama|Horror|Thriller</td>\n",
       "      <td>Monday, March 12, 2012 09:55:22</td>\n",
       "    </tr>\n",
       "    <tr>\n",
       "      <th>68336</th>\n",
       "      <td>2.5</td>\n",
       "      <td>Tootsie (1982)</td>\n",
       "      <td>Comedy|Romance</td>\n",
       "      <td>Monday, March 12, 2012 09:54:52</td>\n",
       "    </tr>\n",
       "  </tbody>\n",
       "</table>\n",
       "</div>"
      ],
      "text/plain": [
       "       rating                                              title  \\\n",
       "68317     2.5                            Jungle Book, The (1994)   \n",
       "68318     1.5  Englishman Who Went Up a Hill But Came Down a ...   \n",
       "68319     2.0                                        Rudy (1993)   \n",
       "68320     1.0                                 Heavy Metal (1981)   \n",
       "68321     1.5                             Aristocats, The (1970)   \n",
       "68322     1.0                    Sex, Lies, and Videotape (1989)   \n",
       "68323     1.0                            Right Stuff, The (1983)   \n",
       "68324     0.5                                      Patton (1970)   \n",
       "68325     0.5             I Know What You Did Last Summer (1997)   \n",
       "68326     1.0                          Dangerous Liaisons (1988)   \n",
       "68327     2.0                              Pretty in Pink (1986)   \n",
       "68328     0.5                             Double Jeopardy (1999)   \n",
       "68329     2.0                              Boys Don't Cry (1999)   \n",
       "68330     0.5                                   Backdraft (1991)   \n",
       "68331     1.5                           American Graffiti (1973)   \n",
       "68332     0.5                                         JFK (1991)   \n",
       "68333     1.0                                   Frequency (2000)   \n",
       "68334     2.0                          Me, Myself & Irene (2000)   \n",
       "68335     0.5                                   Cell, The (2000)   \n",
       "68336     2.5                                     Tootsie (1982)   \n",
       "\n",
       "                                         genres  \\\n",
       "68317                Adventure|Children|Romance   \n",
       "68318                            Comedy|Romance   \n",
       "68319                                     Drama   \n",
       "68320  Action|Adventure|Animation|Horror|Sci-Fi   \n",
       "68321                        Animation|Children   \n",
       "68322                                     Drama   \n",
       "68323                                     Drama   \n",
       "68324                                 Drama|War   \n",
       "68325                   Horror|Mystery|Thriller   \n",
       "68326                             Drama|Romance   \n",
       "68327                      Comedy|Drama|Romance   \n",
       "68328               Action|Crime|Drama|Thriller   \n",
       "68329                                     Drama   \n",
       "68330                              Action|Drama   \n",
       "68331                              Comedy|Drama   \n",
       "68332                    Drama|Mystery|Thriller   \n",
       "68333                            Drama|Thriller   \n",
       "68334                          Adventure|Comedy   \n",
       "68335                     Drama|Horror|Thriller   \n",
       "68336                            Comedy|Romance   \n",
       "\n",
       "                              datetime  \n",
       "68317  Monday, March 12, 2012 09:54:58  \n",
       "68318  Monday, March 12, 2012 09:55:38  \n",
       "68319  Monday, March 12, 2012 09:55:06  \n",
       "68320  Monday, March 12, 2012 09:55:45  \n",
       "68321  Monday, March 12, 2012 09:55:12  \n",
       "68322  Monday, March 12, 2012 09:55:56  \n",
       "68323  Monday, March 12, 2012 09:56:17  \n",
       "68324  Monday, March 12, 2012 09:54:20  \n",
       "68325  Monday, March 12, 2012 09:56:15  \n",
       "68326  Monday, March 12, 2012 09:56:10  \n",
       "68327  Monday, March 12, 2012 09:55:50  \n",
       "68328  Monday, March 12, 2012 09:55:18  \n",
       "68329  Monday, March 12, 2012 09:54:32  \n",
       "68330  Monday, March 12, 2012 09:54:37  \n",
       "68331  Monday, March 12, 2012 09:56:04  \n",
       "68332  Monday, March 12, 2012 09:56:26  \n",
       "68333  Monday, March 12, 2012 09:54:47  \n",
       "68334  Monday, March 12, 2012 09:56:22  \n",
       "68335  Monday, March 12, 2012 09:55:22  \n",
       "68336  Monday, March 12, 2012 09:54:52  "
      ]
     },
     "execution_count": 43,
     "metadata": {},
     "output_type": "execute_result"
    }
   ],
   "source": [
    "meany = df[df['userId']==442][['rating','title','genres','datetime']]\n",
    "meany\n",
    "#plt.figure(figsize=(10,7))\n",
    "#sns.barplot(y = meany['rating'], x=meany['title'], palette='autumn')"
   ]
  },
  {
   "cell_type": "code",
   "execution_count": 44,
   "id": "7ca830a0",
   "metadata": {},
   "outputs": [
    {
     "data": {
      "text/html": [
       "<div>\n",
       "<style scoped>\n",
       "    .dataframe tbody tr th:only-of-type {\n",
       "        vertical-align: middle;\n",
       "    }\n",
       "\n",
       "    .dataframe tbody tr th {\n",
       "        vertical-align: top;\n",
       "    }\n",
       "\n",
       "    .dataframe thead th {\n",
       "        text-align: right;\n",
       "    }\n",
       "</style>\n",
       "<table border=\"1\" class=\"dataframe\">\n",
       "  <thead>\n",
       "    <tr style=\"text-align: right;\">\n",
       "      <th></th>\n",
       "      <th>mean_rating</th>\n",
       "      <th>count_rating</th>\n",
       "    </tr>\n",
       "    <tr>\n",
       "      <th>userId</th>\n",
       "      <th></th>\n",
       "      <th></th>\n",
       "    </tr>\n",
       "  </thead>\n",
       "  <tbody>\n",
       "    <tr>\n",
       "      <th>25</th>\n",
       "      <td>4.807692</td>\n",
       "      <td>26</td>\n",
       "    </tr>\n",
       "    <tr>\n",
       "      <th>30</th>\n",
       "      <td>4.735294</td>\n",
       "      <td>34</td>\n",
       "    </tr>\n",
       "    <tr>\n",
       "      <th>53</th>\n",
       "      <td>5.000000</td>\n",
       "      <td>20</td>\n",
       "    </tr>\n",
       "    <tr>\n",
       "      <th>251</th>\n",
       "      <td>4.869565</td>\n",
       "      <td>23</td>\n",
       "    </tr>\n",
       "    <tr>\n",
       "      <th>515</th>\n",
       "      <td>4.846154</td>\n",
       "      <td>26</td>\n",
       "    </tr>\n",
       "  </tbody>\n",
       "</table>\n",
       "</div>"
      ],
      "text/plain": [
       "        mean_rating  count_rating\n",
       "userId                           \n",
       "25         4.807692            26\n",
       "30         4.735294            34\n",
       "53         5.000000            20\n",
       "251        4.869565            23\n",
       "515        4.846154            26"
      ]
     },
     "execution_count": 44,
     "metadata": {},
     "output_type": "execute_result"
    }
   ],
   "source": [
    "ratings_mean_count[ratings_mean_count['mean_rating']>4.7]"
   ]
  },
  {
   "cell_type": "code",
   "execution_count": 51,
   "id": "d428f8fa",
   "metadata": {},
   "outputs": [
    {
     "data": {
      "image/png": "[encoded data removed]",
      "text/plain": [
       "<Figure size 468x324 with 1 Axes>"
      ]
     },
     "metadata": {
      "needs_background": "light"
     },
     "output_type": "display_data"
    }
   ],
   "source": [
    "a = sns.relplot(data=ratings_mean_count, x='mean_rating', y='count_rating', hue='mean_rating',\n",
    "            palette='autumn', s=50, alpha=.8).set(title='Mean Rating & Rating Count per User')\n",
    "a.set_axis_labels('pct_hesitant_02-24-22', 'uninsured_pct', labelpad=10)\n",
    "a.legend.set_title(\"Mean Rating\")\n",
    "#a.fig.suptitle('Mean Rating & Rating Count per User', fontweight='bold')\n",
    "a.figure.set_size_inches(6.5, 4.5)\n",
    "plt.ylim(0, 600)\n",
    "a.ax.margins(.02)\n",
    "a.despine(trim=True)\n",
    "a.set_axis_labels('Mean Rating', 'Rating Count', labelpad=10)\n",
    "plt.savefig('Visuals/rating_count_user', facecolor='w', transparent=False, dpi = 1000, bbox_inches='tight')"
   ]
  },
  {
   "cell_type": "code",
   "execution_count": 40,
   "id": "8d42a300",
   "metadata": {},
   "outputs": [],
   "source": [
    "df_day = df2[['rating','day']].groupby('day').mean()\n",
    "df_day['count'] = df2[['rating','day']].groupby('day').count()"
   ]
  },
  {
   "cell_type": "code",
   "execution_count": 76,
   "id": "af63c684",
   "metadata": {},
   "outputs": [],
   "source": [
    "df_day = df_day.sort_values(by='count', ascending=False)"
   ]
  },
  {
   "cell_type": "code",
   "execution_count": 79,
   "id": "eb6e8cc3",
   "metadata": {},
   "outputs": [
    {
     "data": {
      "image/png": "[encoded data removed]",
      "text/plain": [
       "<Figure size 720x504 with 1 Axes>"
      ]
     },
     "metadata": {
      "needs_background": "light"
     },
     "output_type": "display_data"
    }
   ],
   "source": [
    "plt.figure(figsize=(10,7))\n",
    "sns.barplot(y = df_day['count'], x=df_day.index, palette='autumn')\n",
    "plt.title('Votes per Day', fontweight='bold')\n",
    "plt.xlabel('Day')\n",
    "plt.ylabel('Count')\n",
    "plt.ylim(4000,)\n",
    "#plt.savefig('Visuals/movie_day_counts', facecolor='w', transparent=False, dpi = 1000, bbox_inches='tight')"
   ]
  },
  {
   "cell_type": "markdown",
   "id": "e2319df7",
   "metadata": {},
   "source": [
    "Genre counts"
   ]
  },
  {
   "cell_type": "code",
   "execution_count": 42,
   "id": "266772fc",
   "metadata": {},
   "outputs": [],
   "source": [
    "genrelabels = set()\n",
    "for i in df2['genres'].str.split('|').values:\n",
    "    genrelabels = genrelabels.union(set(i))"
   ]
  },
  {
   "cell_type": "code",
   "execution_count": 43,
   "id": "9bc266fb",
   "metadata": {},
   "outputs": [],
   "source": [
    "#Create function that counts how many movies there are of each genre \n",
    "def genre_counts(df, col, labels):\n",
    "    count = dict()\n",
    "    for i in labels: count[i] = 0\n",
    "    for value in df[col].str.split('|'):\n",
    "        if type(value) == float and pd.isnull(value): continue\n",
    "        for i in value: \n",
    "            if pd.notnull(i): count[i] += 1\n",
    "    return count     "
   ]
  },
  {
   "cell_type": "code",
   "execution_count": 44,
   "id": "6284ef8e",
   "metadata": {},
   "outputs": [],
   "source": [
    "genre_count = genre_counts(df2, 'genres', genrelabels)"
   ]
  },
  {
   "cell_type": "code",
   "execution_count": 45,
   "id": "dc82c840",
   "metadata": {},
   "outputs": [],
   "source": [
    "genres = pd.DataFrame(list(genre_count.items()),columns = ['genre','count'])"
   ]
  },
  {
   "cell_type": "code",
   "execution_count": 46,
   "id": "83e8ec09",
   "metadata": {},
   "outputs": [],
   "source": [
    "genres = genres.sort_values(by=['count'], ascending=False)"
   ]
  },
  {
   "cell_type": "code",
   "execution_count": 54,
   "id": "40820b97",
   "metadata": {},
   "outputs": [
    {
     "name": "stderr",
     "output_type": "stream",
     "text": [
      "/Users/jacqueline/opt/anaconda3/lib/python3.9/site-packages/seaborn/_decorators.py:36: FutureWarning: Pass the following variables as keyword args: x, y. From version 0.12, the only valid positional argument will be `data`, and passing other arguments without an explicit keyword will result in an error or misinterpretation.\n",
      "  warnings.warn(\n"
     ]
    },
    {
     "data": {
      "image/png": "[encoded data removed]",
      "text/plain": [
       "<Figure size 576x576 with 1 Axes>"
      ]
     },
     "metadata": {
      "needs_background": "light"
     },
     "output_type": "display_data"
    }
   ],
   "source": [
    "plt.figure(figsize=(8,8))\n",
    "sns.barplot(genres['genre'][0:13], genres['count'][0:13], palette='autumn')\n",
    "plt.xlabel('Genre')\n",
    "plt.ylabel('Count')\n",
    "plt.title('MovieLens Genre Counts', fontweight='bold')\n",
    "plt.xticks(rotation=30);\n",
    "#plt.savefig('Visuals/movie_genre_counts', facecolor='w', transparent=False, dpi = 1000, bbox_inches='tight')"
   ]
  },
  {
   "cell_type": "code",
   "execution_count": 49,
   "id": "6f4ac305",
   "metadata": {},
   "outputs": [],
   "source": [
    "#Create columns for each genre to indicate T/F\n",
    "for genre in genrelabels:\n",
    "    df2[genre] = df2['genres'].apply(lambda x: genre in x)"
   ]
  },
  {
   "cell_type": "code",
   "execution_count": 50,
   "id": "4d86bc6b",
   "metadata": {},
   "outputs": [
    {
     "data": {
      "text/html": [
       "<div>\n",
       "<style scoped>\n",
       "    .dataframe tbody tr th:only-of-type {\n",
       "        vertical-align: middle;\n",
       "    }\n",
       "\n",
       "    .dataframe tbody tr th {\n",
       "        vertical-align: top;\n",
       "    }\n",
       "\n",
       "    .dataframe thead th {\n",
       "        text-align: right;\n",
       "    }\n",
       "</style>\n",
       "<table border=\"1\" class=\"dataframe\">\n",
       "  <thead>\n",
       "    <tr style=\"text-align: right;\">\n",
       "      <th></th>\n",
       "      <th>userId</th>\n",
       "      <th>movieId</th>\n",
       "      <th>rating</th>\n",
       "      <th>timestamp</th>\n",
       "      <th>title</th>\n",
       "      <th>genres</th>\n",
       "      <th>datetime</th>\n",
       "      <th>day</th>\n",
       "      <th>year</th>\n",
       "      <th>Documentary</th>\n",
       "      <th>Children</th>\n",
       "      <th>Film-Noir</th>\n",
       "      <th>Horror</th>\n",
       "      <th>Sci-Fi</th>\n",
       "      <th>Mystery</th>\n",
       "      <th>Action</th>\n",
       "      <th>IMAX</th>\n",
       "      <th>Musical</th>\n",
       "      <th>Romance</th>\n",
       "      <th>Comedy</th>\n",
       "      <th>Thriller</th>\n",
       "      <th>Crime</th>\n",
       "      <th>Fantasy</th>\n",
       "      <th>Animation</th>\n",
       "      <th>War</th>\n",
       "      <th>Western</th>\n",
       "      <th>Adventure</th>\n",
       "      <th>Drama</th>\n",
       "    </tr>\n",
       "  </thead>\n",
       "  <tbody>\n",
       "    <tr>\n",
       "      <th>0</th>\n",
       "      <td>1</td>\n",
       "      <td>1</td>\n",
       "      <td>4.0</td>\n",
       "      <td>964982703</td>\n",
       "      <td>Toy Story (1995)</td>\n",
       "      <td>Adventure|Animation|Children|Comedy|Fantasy</td>\n",
       "      <td>Sunday, July 30, 2000 02:45:03</td>\n",
       "      <td>Sunday</td>\n",
       "      <td>1995</td>\n",
       "      <td>False</td>\n",
       "      <td>True</td>\n",
       "      <td>False</td>\n",
       "      <td>False</td>\n",
       "      <td>False</td>\n",
       "      <td>False</td>\n",
       "      <td>False</td>\n",
       "      <td>False</td>\n",
       "      <td>False</td>\n",
       "      <td>False</td>\n",
       "      <td>True</td>\n",
       "      <td>False</td>\n",
       "      <td>False</td>\n",
       "      <td>True</td>\n",
       "      <td>True</td>\n",
       "      <td>False</td>\n",
       "      <td>False</td>\n",
       "      <td>True</td>\n",
       "      <td>False</td>\n",
       "    </tr>\n",
       "    <tr>\n",
       "      <th>1</th>\n",
       "      <td>1</td>\n",
       "      <td>3</td>\n",
       "      <td>4.0</td>\n",
       "      <td>964981247</td>\n",
       "      <td>Grumpier Old Men (1995)</td>\n",
       "      <td>Comedy|Romance</td>\n",
       "      <td>Sunday, July 30, 2000 02:20:47</td>\n",
       "      <td>Sunday</td>\n",
       "      <td>1995</td>\n",
       "      <td>False</td>\n",
       "      <td>False</td>\n",
       "      <td>False</td>\n",
       "      <td>False</td>\n",
       "      <td>False</td>\n",
       "      <td>False</td>\n",
       "      <td>False</td>\n",
       "      <td>False</td>\n",
       "      <td>False</td>\n",
       "      <td>True</td>\n",
       "      <td>True</td>\n",
       "      <td>False</td>\n",
       "      <td>False</td>\n",
       "      <td>False</td>\n",
       "      <td>False</td>\n",
       "      <td>False</td>\n",
       "      <td>False</td>\n",
       "      <td>False</td>\n",
       "      <td>False</td>\n",
       "    </tr>\n",
       "    <tr>\n",
       "      <th>2</th>\n",
       "      <td>1</td>\n",
       "      <td>6</td>\n",
       "      <td>4.0</td>\n",
       "      <td>964982224</td>\n",
       "      <td>Heat (1995)</td>\n",
       "      <td>Action|Crime|Thriller</td>\n",
       "      <td>Sunday, July 30, 2000 02:37:04</td>\n",
       "      <td>Sunday</td>\n",
       "      <td>1995</td>\n",
       "      <td>False</td>\n",
       "      <td>False</td>\n",
       "      <td>False</td>\n",
       "      <td>False</td>\n",
       "      <td>False</td>\n",
       "      <td>False</td>\n",
       "      <td>True</td>\n",
       "      <td>False</td>\n",
       "      <td>False</td>\n",
       "      <td>False</td>\n",
       "      <td>False</td>\n",
       "      <td>True</td>\n",
       "      <td>True</td>\n",
       "      <td>False</td>\n",
       "      <td>False</td>\n",
       "      <td>False</td>\n",
       "      <td>False</td>\n",
       "      <td>False</td>\n",
       "      <td>False</td>\n",
       "    </tr>\n",
       "    <tr>\n",
       "      <th>3</th>\n",
       "      <td>1</td>\n",
       "      <td>47</td>\n",
       "      <td>5.0</td>\n",
       "      <td>964983815</td>\n",
       "      <td>Seven (a.k.a. Se7en) (1995)</td>\n",
       "      <td>Mystery|Thriller</td>\n",
       "      <td>Sunday, July 30, 2000 03:03:35</td>\n",
       "      <td>Sunday</td>\n",
       "      <td>1995</td>\n",
       "      <td>False</td>\n",
       "      <td>False</td>\n",
       "      <td>False</td>\n",
       "      <td>False</td>\n",
       "      <td>False</td>\n",
       "      <td>True</td>\n",
       "      <td>False</td>\n",
       "      <td>False</td>\n",
       "      <td>False</td>\n",
       "      <td>False</td>\n",
       "      <td>False</td>\n",
       "      <td>True</td>\n",
       "      <td>False</td>\n",
       "      <td>False</td>\n",
       "      <td>False</td>\n",
       "      <td>False</td>\n",
       "      <td>False</td>\n",
       "      <td>False</td>\n",
       "      <td>False</td>\n",
       "    </tr>\n",
       "    <tr>\n",
       "      <th>4</th>\n",
       "      <td>1</td>\n",
       "      <td>50</td>\n",
       "      <td>5.0</td>\n",
       "      <td>964982931</td>\n",
       "      <td>Usual Suspects, The (1995)</td>\n",
       "      <td>Crime|Mystery|Thriller</td>\n",
       "      <td>Sunday, July 30, 2000 02:48:51</td>\n",
       "      <td>Sunday</td>\n",
       "      <td>1995</td>\n",
       "      <td>False</td>\n",
       "      <td>False</td>\n",
       "      <td>False</td>\n",
       "      <td>False</td>\n",
       "      <td>False</td>\n",
       "      <td>True</td>\n",
       "      <td>False</td>\n",
       "      <td>False</td>\n",
       "      <td>False</td>\n",
       "      <td>False</td>\n",
       "      <td>False</td>\n",
       "      <td>True</td>\n",
       "      <td>True</td>\n",
       "      <td>False</td>\n",
       "      <td>False</td>\n",
       "      <td>False</td>\n",
       "      <td>False</td>\n",
       "      <td>False</td>\n",
       "      <td>False</td>\n",
       "    </tr>\n",
       "  </tbody>\n",
       "</table>\n",
       "</div>"
      ],
      "text/plain": [
       "   userId  movieId  rating  timestamp                        title  \\\n",
       "0       1        1     4.0  964982703             Toy Story (1995)   \n",
       "1       1        3     4.0  964981247      Grumpier Old Men (1995)   \n",
       "2       1        6     4.0  964982224                  Heat (1995)   \n",
       "3       1       47     5.0  964983815  Seven (a.k.a. Se7en) (1995)   \n",
       "4       1       50     5.0  964982931   Usual Suspects, The (1995)   \n",
       "\n",
       "                                        genres  \\\n",
       "0  Adventure|Animation|Children|Comedy|Fantasy   \n",
       "1                               Comedy|Romance   \n",
       "2                        Action|Crime|Thriller   \n",
       "3                             Mystery|Thriller   \n",
       "4                       Crime|Mystery|Thriller   \n",
       "\n",
       "                         datetime     day  year  Documentary  Children  \\\n",
       "0  Sunday, July 30, 2000 02:45:03  Sunday  1995        False      True   \n",
       "1  Sunday, July 30, 2000 02:20:47  Sunday  1995        False     False   \n",
       "2  Sunday, July 30, 2000 02:37:04  Sunday  1995        False     False   \n",
       "3  Sunday, July 30, 2000 03:03:35  Sunday  1995        False     False   \n",
       "4  Sunday, July 30, 2000 02:48:51  Sunday  1995        False     False   \n",
       "\n",
       "   Film-Noir  Horror  Sci-Fi  Mystery  Action   IMAX  Musical  Romance  \\\n",
       "0      False   False   False    False   False  False    False    False   \n",
       "1      False   False   False    False   False  False    False     True   \n",
       "2      False   False   False    False    True  False    False    False   \n",
       "3      False   False   False     True   False  False    False    False   \n",
       "4      False   False   False     True   False  False    False    False   \n",
       "\n",
       "   Comedy  Thriller  Crime  Fantasy  Animation    War  Western  Adventure  \\\n",
       "0    True     False  False     True       True  False    False       True   \n",
       "1    True     False  False    False      False  False    False      False   \n",
       "2   False      True   True    False      False  False    False      False   \n",
       "3   False      True  False    False      False  False    False      False   \n",
       "4   False      True   True    False      False  False    False      False   \n",
       "\n",
       "   Drama  \n",
       "0  False  \n",
       "1  False  \n",
       "2  False  \n",
       "3  False  \n",
       "4  False  "
      ]
     },
     "execution_count": 50,
     "metadata": {},
     "output_type": "execute_result"
    }
   ],
   "source": [
    "#Boolean values for each genre across every movie in the data frame.\n",
    "pd.set_option('max_columns', None)\n",
    "df2.head()"
   ]
  },
  {
   "cell_type": "code",
   "execution_count": 51,
   "id": "e97482e3",
   "metadata": {},
   "outputs": [
    {
     "data": {
      "text/html": [
       "<div>\n",
       "<style scoped>\n",
       "    .dataframe tbody tr th:only-of-type {\n",
       "        vertical-align: middle;\n",
       "    }\n",
       "\n",
       "    .dataframe tbody tr th {\n",
       "        vertical-align: top;\n",
       "    }\n",
       "\n",
       "    .dataframe thead th {\n",
       "        text-align: right;\n",
       "    }\n",
       "</style>\n",
       "<table border=\"1\" class=\"dataframe\">\n",
       "  <thead>\n",
       "    <tr style=\"text-align: right;\">\n",
       "      <th></th>\n",
       "      <th>title</th>\n",
       "      <th>Documentary</th>\n",
       "      <th>Children</th>\n",
       "      <th>Film-Noir</th>\n",
       "      <th>Horror</th>\n",
       "      <th>Sci-Fi</th>\n",
       "      <th>Mystery</th>\n",
       "      <th>Action</th>\n",
       "      <th>IMAX</th>\n",
       "      <th>Musical</th>\n",
       "      <th>Romance</th>\n",
       "      <th>Comedy</th>\n",
       "      <th>Thriller</th>\n",
       "      <th>Crime</th>\n",
       "      <th>Fantasy</th>\n",
       "      <th>Animation</th>\n",
       "      <th>War</th>\n",
       "      <th>Western</th>\n",
       "      <th>Adventure</th>\n",
       "      <th>Drama</th>\n",
       "    </tr>\n",
       "  </thead>\n",
       "  <tbody>\n",
       "    <tr>\n",
       "      <th>0</th>\n",
       "      <td>Toy Story (1995)</td>\n",
       "      <td>False</td>\n",
       "      <td>True</td>\n",
       "      <td>False</td>\n",
       "      <td>False</td>\n",
       "      <td>False</td>\n",
       "      <td>False</td>\n",
       "      <td>False</td>\n",
       "      <td>False</td>\n",
       "      <td>False</td>\n",
       "      <td>False</td>\n",
       "      <td>True</td>\n",
       "      <td>False</td>\n",
       "      <td>False</td>\n",
       "      <td>True</td>\n",
       "      <td>True</td>\n",
       "      <td>False</td>\n",
       "      <td>False</td>\n",
       "      <td>True</td>\n",
       "      <td>False</td>\n",
       "    </tr>\n",
       "    <tr>\n",
       "      <th>1</th>\n",
       "      <td>Grumpier Old Men (1995)</td>\n",
       "      <td>False</td>\n",
       "      <td>False</td>\n",
       "      <td>False</td>\n",
       "      <td>False</td>\n",
       "      <td>False</td>\n",
       "      <td>False</td>\n",
       "      <td>False</td>\n",
       "      <td>False</td>\n",
       "      <td>False</td>\n",
       "      <td>True</td>\n",
       "      <td>True</td>\n",
       "      <td>False</td>\n",
       "      <td>False</td>\n",
       "      <td>False</td>\n",
       "      <td>False</td>\n",
       "      <td>False</td>\n",
       "      <td>False</td>\n",
       "      <td>False</td>\n",
       "      <td>False</td>\n",
       "    </tr>\n",
       "    <tr>\n",
       "      <th>2</th>\n",
       "      <td>Heat (1995)</td>\n",
       "      <td>False</td>\n",
       "      <td>False</td>\n",
       "      <td>False</td>\n",
       "      <td>False</td>\n",
       "      <td>False</td>\n",
       "      <td>False</td>\n",
       "      <td>True</td>\n",
       "      <td>False</td>\n",
       "      <td>False</td>\n",
       "      <td>False</td>\n",
       "      <td>False</td>\n",
       "      <td>True</td>\n",
       "      <td>True</td>\n",
       "      <td>False</td>\n",
       "      <td>False</td>\n",
       "      <td>False</td>\n",
       "      <td>False</td>\n",
       "      <td>False</td>\n",
       "      <td>False</td>\n",
       "    </tr>\n",
       "    <tr>\n",
       "      <th>3</th>\n",
       "      <td>Seven (a.k.a. Se7en) (1995)</td>\n",
       "      <td>False</td>\n",
       "      <td>False</td>\n",
       "      <td>False</td>\n",
       "      <td>False</td>\n",
       "      <td>False</td>\n",
       "      <td>True</td>\n",
       "      <td>False</td>\n",
       "      <td>False</td>\n",
       "      <td>False</td>\n",
       "      <td>False</td>\n",
       "      <td>False</td>\n",
       "      <td>True</td>\n",
       "      <td>False</td>\n",
       "      <td>False</td>\n",
       "      <td>False</td>\n",
       "      <td>False</td>\n",
       "      <td>False</td>\n",
       "      <td>False</td>\n",
       "      <td>False</td>\n",
       "    </tr>\n",
       "    <tr>\n",
       "      <th>4</th>\n",
       "      <td>Usual Suspects, The (1995)</td>\n",
       "      <td>False</td>\n",
       "      <td>False</td>\n",
       "      <td>False</td>\n",
       "      <td>False</td>\n",
       "      <td>False</td>\n",
       "      <td>True</td>\n",
       "      <td>False</td>\n",
       "      <td>False</td>\n",
       "      <td>False</td>\n",
       "      <td>False</td>\n",
       "      <td>False</td>\n",
       "      <td>True</td>\n",
       "      <td>True</td>\n",
       "      <td>False</td>\n",
       "      <td>False</td>\n",
       "      <td>False</td>\n",
       "      <td>False</td>\n",
       "      <td>False</td>\n",
       "      <td>False</td>\n",
       "    </tr>\n",
       "  </tbody>\n",
       "</table>\n",
       "</div>"
      ],
      "text/plain": [
       "                         title  Documentary  Children  Film-Noir  Horror  \\\n",
       "0             Toy Story (1995)        False      True      False   False   \n",
       "1      Grumpier Old Men (1995)        False     False      False   False   \n",
       "2                  Heat (1995)        False     False      False   False   \n",
       "3  Seven (a.k.a. Se7en) (1995)        False     False      False   False   \n",
       "4   Usual Suspects, The (1995)        False     False      False   False   \n",
       "\n",
       "   Sci-Fi  Mystery  Action   IMAX  Musical  Romance  Comedy  Thriller  Crime  \\\n",
       "0   False    False   False  False    False    False    True     False  False   \n",
       "1   False    False   False  False    False     True    True     False  False   \n",
       "2   False    False    True  False    False    False   False      True   True   \n",
       "3   False     True   False  False    False    False   False      True  False   \n",
       "4   False     True   False  False    False    False   False      True   True   \n",
       "\n",
       "   Fantasy  Animation    War  Western  Adventure  Drama  \n",
       "0     True       True  False    False       True  False  \n",
       "1    False      False  False    False      False  False  \n",
       "2    False      False  False    False      False  False  \n",
       "3    False      False  False    False      False  False  \n",
       "4    False      False  False    False      False  False  "
      ]
     },
     "execution_count": 51,
     "metadata": {},
     "output_type": "execute_result"
    }
   ],
   "source": [
    "matrix = df2.drop(['userId', 'movieId', 'rating', 'genres', 'year', 'datetime', 'day', 'timestamp'], axis=1)\n",
    "matrix.head()"
   ]
  },
  {
   "cell_type": "code",
   "execution_count": 52,
   "id": "de0386c1",
   "metadata": {},
   "outputs": [],
   "source": [
    "#matrix.to_csv('genre_boo.csv')"
   ]
  },
  {
   "cell_type": "code",
   "execution_count": 53,
   "id": "ccbf7177",
   "metadata": {},
   "outputs": [],
   "source": [
    "#Export the resulting data to a csv file \n",
    "#df2.to_csv('clean_df')"
   ]
  }
 ],
 "metadata": {
  "kernelspec": {
   "display_name": "Python 3 (ipykernel)",
   "language": "python",
   "name": "python3"
  },
  "language_info": {
   "codemirror_mode": {
    "name": "ipython",
    "version": 3
   },
   "file_extension": ".py",
   "mimetype": "text/x-python",
   "name": "python",
   "nbconvert_exporter": "python",
   "pygments_lexer": "ipython3",
   "version": "3.9.7"
  }
 },
 "nbformat": 4,
 "nbformat_minor": 5
}
