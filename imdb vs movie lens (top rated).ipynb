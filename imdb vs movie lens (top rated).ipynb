{
 "cells": [
  {
   "cell_type": "code",
   "execution_count": 1,
   "id": "089784f9",
   "metadata": {},
   "outputs": [],
   "source": [
    "import pandas as pd\n",
    "import numpy as np\n",
    "import seaborn as sns\n",
    "import matplotlib.pyplot as plt"
   ]
  },
  {
   "cell_type": "code",
   "execution_count": 2,
   "id": "349395b8",
   "metadata": {},
   "outputs": [],
   "source": [
    "ratings = pd.read_csv('./Raw Data/ratings_small.csv')\n",
    "movies = pd.read_csv('./Raw Data/movies_small.csv')\n",
    "df = pd.merge(ratings, movies, on='movieId', how='left')"
   ]
  },
  {
   "cell_type": "code",
   "execution_count": 3,
   "id": "d41ef6b6",
   "metadata": {
    "scrolled": true
   },
   "outputs": [
    {
     "data": {
      "text/html": [
       "<div>\n",
       "<style scoped>\n",
       "    .dataframe tbody tr th:only-of-type {\n",
       "        vertical-align: middle;\n",
       "    }\n",
       "\n",
       "    .dataframe tbody tr th {\n",
       "        vertical-align: top;\n",
       "    }\n",
       "\n",
       "    .dataframe thead th {\n",
       "        text-align: right;\n",
       "    }\n",
       "</style>\n",
       "<table border=\"1\" class=\"dataframe\">\n",
       "  <thead>\n",
       "    <tr style=\"text-align: right;\">\n",
       "      <th></th>\n",
       "      <th>userId</th>\n",
       "      <th>movieId</th>\n",
       "      <th>rating</th>\n",
       "      <th>timestamp</th>\n",
       "      <th>title</th>\n",
       "      <th>genres</th>\n",
       "    </tr>\n",
       "  </thead>\n",
       "  <tbody>\n",
       "    <tr>\n",
       "      <th>0</th>\n",
       "      <td>1</td>\n",
       "      <td>1</td>\n",
       "      <td>4.0</td>\n",
       "      <td>964982703</td>\n",
       "      <td>Toy Story (1995)</td>\n",
       "      <td>Adventure|Animation|Children|Comedy|Fantasy</td>\n",
       "    </tr>\n",
       "    <tr>\n",
       "      <th>1</th>\n",
       "      <td>1</td>\n",
       "      <td>3</td>\n",
       "      <td>4.0</td>\n",
       "      <td>964981247</td>\n",
       "      <td>Grumpier Old Men (1995)</td>\n",
       "      <td>Comedy|Romance</td>\n",
       "    </tr>\n",
       "    <tr>\n",
       "      <th>2</th>\n",
       "      <td>1</td>\n",
       "      <td>6</td>\n",
       "      <td>4.0</td>\n",
       "      <td>964982224</td>\n",
       "      <td>Heat (1995)</td>\n",
       "      <td>Action|Crime|Thriller</td>\n",
       "    </tr>\n",
       "    <tr>\n",
       "      <th>3</th>\n",
       "      <td>1</td>\n",
       "      <td>47</td>\n",
       "      <td>5.0</td>\n",
       "      <td>964983815</td>\n",
       "      <td>Seven (a.k.a. Se7en) (1995)</td>\n",
       "      <td>Mystery|Thriller</td>\n",
       "    </tr>\n",
       "    <tr>\n",
       "      <th>4</th>\n",
       "      <td>1</td>\n",
       "      <td>50</td>\n",
       "      <td>5.0</td>\n",
       "      <td>964982931</td>\n",
       "      <td>Usual Suspects, The (1995)</td>\n",
       "      <td>Crime|Mystery|Thriller</td>\n",
       "    </tr>\n",
       "  </tbody>\n",
       "</table>\n",
       "</div>"
      ],
      "text/plain": [
       "   userId  movieId  rating  timestamp                        title  \\\n",
       "0       1        1     4.0  964982703             Toy Story (1995)   \n",
       "1       1        3     4.0  964981247      Grumpier Old Men (1995)   \n",
       "2       1        6     4.0  964982224                  Heat (1995)   \n",
       "3       1       47     5.0  964983815  Seven (a.k.a. Se7en) (1995)   \n",
       "4       1       50     5.0  964982931   Usual Suspects, The (1995)   \n",
       "\n",
       "                                        genres  \n",
       "0  Adventure|Animation|Children|Comedy|Fantasy  \n",
       "1                               Comedy|Romance  \n",
       "2                        Action|Crime|Thriller  \n",
       "3                             Mystery|Thriller  \n",
       "4                       Crime|Mystery|Thriller  "
      ]
     },
     "execution_count": 3,
     "metadata": {},
     "output_type": "execute_result"
    }
   ],
   "source": [
    "df.head(5)"
   ]
  },
  {
   "cell_type": "code",
   "execution_count": 4,
   "id": "e5a3815d",
   "metadata": {},
   "outputs": [],
   "source": [
    "df['year'] = df['title'].str.extract('.*\\((.*)\\).*',expand = False)"
   ]
  },
  {
   "cell_type": "code",
   "execution_count": 5,
   "id": "7675ea11",
   "metadata": {},
   "outputs": [],
   "source": [
    "df['title'] = df['title'].str[:-7]"
   ]
  },
  {
   "cell_type": "markdown",
   "id": "8f6d30b3",
   "metadata": {},
   "source": [
    "To figure out top 250 movies, we need to calculate the weighted rating\n",
    "\n",
    "WeightedRating(WR)=(v / v+m)⋅R + (m / v+m)⋅C\n",
    "\n",
    "v: number of ratings for each movie\n",
    "\n",
    "m: minimum votes required to be listed in the chart\n",
    "\n",
    "R: average rating of the movie\n",
    "\n",
    "C: mean vote across the whole report"
   ]
  },
  {
   "cell_type": "code",
   "execution_count": 6,
   "id": "6613507b",
   "metadata": {},
   "outputs": [],
   "source": [
    "df = pd.merge(df, movies, on='movieId', how='left')"
   ]
  },
  {
   "cell_type": "code",
   "execution_count": 7,
   "id": "82044e33",
   "metadata": {
    "scrolled": true
   },
   "outputs": [],
   "source": [
    "#v = 'count'\n",
    "df_count = df.groupby('movieId').count()[['userId']].rename(columns={'userId' : 'count'}).reset_index()\n",
    "df = pd.merge(df, df_count, on='movieId', how='left')"
   ]
  },
  {
   "cell_type": "code",
   "execution_count": 8,
   "id": "fd55098b",
   "metadata": {},
   "outputs": [],
   "source": [
    "#R = 'avg_rating'\n",
    "df_rating = df.groupby('movieId')[['rating']].mean().rename(columns={'rating' : 'avg_rating'}).reset_index()\n",
    "df = pd.merge(df, df_rating, on='movieId', how='left')"
   ]
  },
  {
   "cell_type": "code",
   "execution_count": 9,
   "id": "cd6f0e06",
   "metadata": {},
   "outputs": [],
   "source": [
    "#C = mean of 'avg_rating'\n",
    "C = df['avg_rating'].mean()"
   ]
  },
  {
   "cell_type": "code",
   "execution_count": 10,
   "id": "0712bce8",
   "metadata": {},
   "outputs": [],
   "source": [
    "#m\n",
    "#cutoff is arbitrary\n",
    "m = df['count'].quantile(0.8)"
   ]
  },
  {
   "cell_type": "code",
   "execution_count": 11,
   "id": "e5fff573",
   "metadata": {},
   "outputs": [
    {
     "name": "stdout",
     "output_type": "stream",
     "text": [
      "# ratings with quantile: 20188\n",
      "Difference in # ratings from og: 80648\n"
     ]
    }
   ],
   "source": [
    "#make new dataframe with m \n",
    "popular_movies = df.copy().loc[df['count']>=m]\n",
    "print(f'# ratings with quantile: {popular_movies.shape[0]}')\n",
    "print(f'Difference in # ratings from og: {df.shape[0] - popular_movies.shape[0]}')"
   ]
  },
  {
   "cell_type": "markdown",
   "id": "11115b14",
   "metadata": {},
   "source": [
    "### Weighted Average\n",
    "\n",
    "Referencing equation above: WeightedRating(WR)=(v / v+m)⋅R + (m / v+m)⋅C"
   ]
  },
  {
   "cell_type": "code",
   "execution_count": 12,
   "id": "06ca165b",
   "metadata": {},
   "outputs": [],
   "source": [
    "popular_movies.columns\n",
    "popular_movies.drop(columns=['title_x','genres_x'], inplace=True)\n",
    "popular_movies.rename(columns={'genres_y':'genres', 'title_y':'title'}, inplace=True)"
   ]
  },
  {
   "cell_type": "code",
   "execution_count": 13,
   "id": "104f1aaf",
   "metadata": {},
   "outputs": [],
   "source": [
    "def weighted_rating(df, m=m, C=C):\n",
    "    v = df['count']\n",
    "    R = df['avg_rating']\n",
    "    return (v/(v+m) * R) + (m/(m+v) * C)"
   ]
  },
  {
   "cell_type": "code",
   "execution_count": 14,
   "id": "126f9a17",
   "metadata": {},
   "outputs": [],
   "source": [
    "#new column with weighted averages\n",
    "popular_movies['weighted_avg'] = df.apply(weighted_rating, axis=1)"
   ]
  },
  {
   "cell_type": "code",
   "execution_count": 15,
   "id": "f52e8150",
   "metadata": {},
   "outputs": [],
   "source": [
    "popular_movies.sort_values('weighted_avg', ascending=False, inplace=True)"
   ]
  },
  {
   "cell_type": "code",
   "execution_count": 16,
   "id": "ba63711c",
   "metadata": {
    "scrolled": true
   },
   "outputs": [
    {
     "data": {
      "text/html": [
       "<div>\n",
       "<style scoped>\n",
       "    .dataframe tbody tr th:only-of-type {\n",
       "        vertical-align: middle;\n",
       "    }\n",
       "\n",
       "    .dataframe tbody tr th {\n",
       "        vertical-align: top;\n",
       "    }\n",
       "\n",
       "    .dataframe thead th {\n",
       "        text-align: right;\n",
       "    }\n",
       "</style>\n",
       "<table border=\"1\" class=\"dataframe\">\n",
       "  <thead>\n",
       "    <tr style=\"text-align: right;\">\n",
       "      <th></th>\n",
       "      <th>title</th>\n",
       "      <th>weighted_avg</th>\n",
       "      <th>count</th>\n",
       "      <th>avg_rating</th>\n",
       "    </tr>\n",
       "  </thead>\n",
       "  <tbody>\n",
       "    <tr>\n",
       "      <th>19186</th>\n",
       "      <td>Shawshank Redemption, The (1994)</td>\n",
       "      <td>4.206608</td>\n",
       "      <td>317</td>\n",
       "      <td>4.429022</td>\n",
       "    </tr>\n",
       "    <tr>\n",
       "      <th>90892</th>\n",
       "      <td>Fight Club (1999)</td>\n",
       "      <td>4.030364</td>\n",
       "      <td>218</td>\n",
       "      <td>4.272936</td>\n",
       "    </tr>\n",
       "    <tr>\n",
       "      <th>61425</th>\n",
       "      <td>Pulp Fiction (1994)</td>\n",
       "      <td>4.026181</td>\n",
       "      <td>307</td>\n",
       "      <td>4.197068</td>\n",
       "    </tr>\n",
       "    <tr>\n",
       "      <th>71518</th>\n",
       "      <td>Star Wars: Episode IV - A New Hope (1977)</td>\n",
       "      <td>4.023236</td>\n",
       "      <td>251</td>\n",
       "      <td>4.231076</td>\n",
       "    </tr>\n",
       "    <tr>\n",
       "      <th>56800</th>\n",
       "      <td>Godfather, The (1972)</td>\n",
       "      <td>4.019369</td>\n",
       "      <td>192</td>\n",
       "      <td>4.289062</td>\n",
       "    </tr>\n",
       "    <tr>\n",
       "      <th>15156</th>\n",
       "      <td>Forrest Gump (1994)</td>\n",
       "      <td>4.009687</td>\n",
       "      <td>329</td>\n",
       "      <td>4.164134</td>\n",
       "    </tr>\n",
       "    <tr>\n",
       "      <th>44687</th>\n",
       "      <td>Matrix, The (1999)</td>\n",
       "      <td>4.009671</td>\n",
       "      <td>278</td>\n",
       "      <td>4.192446</td>\n",
       "    </tr>\n",
       "    <tr>\n",
       "      <th>80084</th>\n",
       "      <td>Schindler's List (1993)</td>\n",
       "      <td>3.998924</td>\n",
       "      <td>220</td>\n",
       "      <td>4.225000</td>\n",
       "    </tr>\n",
       "    <tr>\n",
       "      <th>87088</th>\n",
       "      <td>Usual Suspects, The (1995)</td>\n",
       "      <td>3.995578</td>\n",
       "      <td>204</td>\n",
       "      <td>4.237745</td>\n",
       "    </tr>\n",
       "    <tr>\n",
       "      <th>39342</th>\n",
       "      <td>Silence of the Lambs, The (1991)</td>\n",
       "      <td>3.987218</td>\n",
       "      <td>279</td>\n",
       "      <td>4.161290</td>\n",
       "    </tr>\n",
       "    <tr>\n",
       "      <th>4104</th>\n",
       "      <td>Star Wars: Episode V - The Empire Strikes Back...</td>\n",
       "      <td>3.986031</td>\n",
       "      <td>211</td>\n",
       "      <td>4.215640</td>\n",
       "    </tr>\n",
       "    <tr>\n",
       "      <th>47944</th>\n",
       "      <td>Raiders of the Lost Ark (Indiana Jones and the...</td>\n",
       "      <td>3.972186</td>\n",
       "      <td>200</td>\n",
       "      <td>4.207500</td>\n",
       "    </tr>\n",
       "    <tr>\n",
       "      <th>32914</th>\n",
       "      <td>Dark Knight, The (2008)</td>\n",
       "      <td>3.942392</td>\n",
       "      <td>149</td>\n",
       "      <td>4.238255</td>\n",
       "    </tr>\n",
       "    <tr>\n",
       "      <th>40665</th>\n",
       "      <td>Princess Bride, The (1987)</td>\n",
       "      <td>3.930395</td>\n",
       "      <td>142</td>\n",
       "      <td>4.232394</td>\n",
       "    </tr>\n",
       "    <tr>\n",
       "      <th>50637</th>\n",
       "      <td>Godfather: Part II, The (1974)</td>\n",
       "      <td>3.928628</td>\n",
       "      <td>129</td>\n",
       "      <td>4.259690</td>\n",
       "    </tr>\n",
       "    <tr>\n",
       "      <th>85238</th>\n",
       "      <td>Star Wars: Episode VI - Return of the Jedi (1983)</td>\n",
       "      <td>3.922823</td>\n",
       "      <td>196</td>\n",
       "      <td>4.137755</td>\n",
       "    </tr>\n",
       "    <tr>\n",
       "      <th>55645</th>\n",
       "      <td>Saving Private Ryan (1998)</td>\n",
       "      <td>3.922416</td>\n",
       "      <td>188</td>\n",
       "      <td>4.146277</td>\n",
       "    </tr>\n",
       "    <tr>\n",
       "      <th>71616</th>\n",
       "      <td>Goodfellas (1990)</td>\n",
       "      <td>3.918831</td>\n",
       "      <td>126</td>\n",
       "      <td>4.250000</td>\n",
       "    </tr>\n",
       "    <tr>\n",
       "      <th>28755</th>\n",
       "      <td>American History X (1998)</td>\n",
       "      <td>3.904610</td>\n",
       "      <td>129</td>\n",
       "      <td>4.217054</td>\n",
       "    </tr>\n",
       "    <tr>\n",
       "      <th>61184</th>\n",
       "      <td>Lord of the Rings: The Fellowship of the Ring,...</td>\n",
       "      <td>3.903207</td>\n",
       "      <td>198</td>\n",
       "      <td>4.106061</td>\n",
       "    </tr>\n",
       "  </tbody>\n",
       "</table>\n",
       "</div>"
      ],
      "text/plain": [
       "                                                   title  weighted_avg  count  \\\n",
       "19186                   Shawshank Redemption, The (1994)      4.206608    317   \n",
       "90892                                  Fight Club (1999)      4.030364    218   \n",
       "61425                                Pulp Fiction (1994)      4.026181    307   \n",
       "71518          Star Wars: Episode IV - A New Hope (1977)      4.023236    251   \n",
       "56800                              Godfather, The (1972)      4.019369    192   \n",
       "15156                                Forrest Gump (1994)      4.009687    329   \n",
       "44687                                 Matrix, The (1999)      4.009671    278   \n",
       "80084                            Schindler's List (1993)      3.998924    220   \n",
       "87088                         Usual Suspects, The (1995)      3.995578    204   \n",
       "39342                   Silence of the Lambs, The (1991)      3.987218    279   \n",
       "4104   Star Wars: Episode V - The Empire Strikes Back...      3.986031    211   \n",
       "47944  Raiders of the Lost Ark (Indiana Jones and the...      3.972186    200   \n",
       "32914                            Dark Knight, The (2008)      3.942392    149   \n",
       "40665                         Princess Bride, The (1987)      3.930395    142   \n",
       "50637                     Godfather: Part II, The (1974)      3.928628    129   \n",
       "85238  Star Wars: Episode VI - Return of the Jedi (1983)      3.922823    196   \n",
       "55645                         Saving Private Ryan (1998)      3.922416    188   \n",
       "71616                                  Goodfellas (1990)      3.918831    126   \n",
       "28755                          American History X (1998)      3.904610    129   \n",
       "61184  Lord of the Rings: The Fellowship of the Ring,...      3.903207    198   \n",
       "\n",
       "       avg_rating  \n",
       "19186    4.429022  \n",
       "90892    4.272936  \n",
       "61425    4.197068  \n",
       "71518    4.231076  \n",
       "56800    4.289062  \n",
       "15156    4.164134  \n",
       "44687    4.192446  \n",
       "80084    4.225000  \n",
       "87088    4.237745  \n",
       "39342    4.161290  \n",
       "4104     4.215640  \n",
       "47944    4.207500  \n",
       "32914    4.238255  \n",
       "40665    4.232394  \n",
       "50637    4.259690  \n",
       "85238    4.137755  \n",
       "55645    4.146277  \n",
       "71616    4.250000  \n",
       "28755    4.217054  \n",
       "61184    4.106061  "
      ]
     },
     "execution_count": 16,
     "metadata": {},
     "output_type": "execute_result"
    }
   ],
   "source": [
    "popular_movies.drop_duplicates(subset=['title'], inplace=True)\n",
    "popular_movies[['title', 'weighted_avg', 'count', 'avg_rating']].head(20)"
   ]
  },
  {
   "cell_type": "markdown",
   "id": "e341eb67",
   "metadata": {},
   "source": [
    "### Web scraping for top imdb list"
   ]
  },
  {
   "cell_type": "code",
   "execution_count": 17,
   "id": "d333381c",
   "metadata": {},
   "outputs": [],
   "source": [
    "import requests\n",
    "from bs4 import BeautifulSoup\n",
    "import time\n",
    "import re"
   ]
  },
  {
   "cell_type": "code",
   "execution_count": 18,
   "id": "9ac14d01",
   "metadata": {},
   "outputs": [],
   "source": [
    "url = 'http://www.imdb.com/chart/top'\n",
    "response = requests.get(url)\n",
    "soup = BeautifulSoup(response.text, 'lxml')"
   ]
  },
  {
   "cell_type": "code",
   "execution_count": 19,
   "id": "599a1e07",
   "metadata": {},
   "outputs": [],
   "source": [
    "titles = soup.select('td.titleColumn')\n",
    "ratings = [b.attrs.get('data-value') for b in soup.select('td.posterColumn span[name=ir]')]"
   ]
  },
  {
   "cell_type": "code",
   "execution_count": 20,
   "id": "aa8eeb85",
   "metadata": {},
   "outputs": [],
   "source": [
    "top_list = []\n",
    "top100_titles_imdb = []\n",
    "all_titles_imdb = []\n",
    "for index in range(0, len(titles)):\n",
    "    movie_string = titles[index].get_text()\n",
    "    movie = (' '.join(movie_string.split()).replace('.', ''))\n",
    "    movie_title = movie[len(str(index))+1:-7]\n",
    "    year = re.search('\\((.*?)\\)', movie_string).group(1)\n",
    "    rank = movie[:len(str(index))-(len(movie))]\n",
    "     \n",
    "    data = {\"movie_title\": movie_title,\n",
    "            \"year\": year,\n",
    "            \"rank\": rank,\n",
    "            \"rating\": ratings[index]}\n",
    "    top_list.append(data)\n",
    "    all_titles_imdb.append(movie_title + ' (' + year + ')')\n",
    "    if int(rank) <= 100:\n",
    "        top100_titles_imdb.append(movie_title + ' (' + year + ')')"
   ]
  },
  {
   "cell_type": "code",
   "execution_count": 21,
   "id": "1d5f8ac8",
   "metadata": {
    "scrolled": true
   },
   "outputs": [
    {
     "data": {
      "text/html": [
       "<div>\n",
       "<style scoped>\n",
       "    .dataframe tbody tr th:only-of-type {\n",
       "        vertical-align: middle;\n",
       "    }\n",
       "\n",
       "    .dataframe tbody tr th {\n",
       "        vertical-align: top;\n",
       "    }\n",
       "\n",
       "    .dataframe thead th {\n",
       "        text-align: right;\n",
       "    }\n",
       "</style>\n",
       "<table border=\"1\" class=\"dataframe\">\n",
       "  <thead>\n",
       "    <tr style=\"text-align: right;\">\n",
       "      <th></th>\n",
       "      <th>movie_title</th>\n",
       "      <th>year</th>\n",
       "      <th>rank</th>\n",
       "      <th>rating</th>\n",
       "    </tr>\n",
       "  </thead>\n",
       "  <tbody>\n",
       "    <tr>\n",
       "      <th>0</th>\n",
       "      <td>The Shawshank Redemption</td>\n",
       "      <td>1994</td>\n",
       "      <td>1</td>\n",
       "      <td>9.233467978052047</td>\n",
       "    </tr>\n",
       "    <tr>\n",
       "      <th>1</th>\n",
       "      <td>The Godfather</td>\n",
       "      <td>1972</td>\n",
       "      <td>2</td>\n",
       "      <td>9.155448856067846</td>\n",
       "    </tr>\n",
       "  </tbody>\n",
       "</table>\n",
       "</div>"
      ],
      "text/plain": [
       "                movie_title  year rank             rating\n",
       "0  The Shawshank Redemption  1994    1  9.233467978052047\n",
       "1             The Godfather  1972    2  9.155448856067846"
      ]
     },
     "execution_count": 21,
     "metadata": {},
     "output_type": "execute_result"
    }
   ],
   "source": [
    "imdb = pd.DataFrame(top_list)\n",
    "imdb.head(2)"
   ]
  },
  {
   "cell_type": "code",
   "execution_count": 22,
   "id": "f49cdc97",
   "metadata": {},
   "outputs": [],
   "source": [
    "#imdb_top.to_csv('imdb_250')"
   ]
  },
  {
   "cell_type": "markdown",
   "id": "73aeef2a",
   "metadata": {},
   "source": [
    "## How does this list compare to imdb's top 100?"
   ]
  },
  {
   "cell_type": "code",
   "execution_count": 23,
   "id": "bea5363b",
   "metadata": {},
   "outputs": [],
   "source": [
    "def intersection(lst1, lst2):\n",
    "    lst3 = [value for value in lst1 if value in lst2]\n",
    "    return lst3"
   ]
  },
  {
   "cell_type": "code",
   "execution_count": 24,
   "id": "655e0766",
   "metadata": {},
   "outputs": [
    {
     "data": {
      "text/plain": [
       "['Fight Club (1999)',\n",
       " 'Pulp Fiction (1994)',\n",
       " 'Forrest Gump (1994)',\n",
       " \"Schindler's List (1993)\",\n",
       " 'Star Wars: Episode V - The Empire Strikes Back (1980)',\n",
       " 'Star Wars: Episode VI - Return of the Jedi (1983)',\n",
       " 'Saving Private Ryan (1998)',\n",
       " 'Goodfellas (1990)',\n",
       " 'American History X (1998)',\n",
       " \"One Flew Over the Cuckoo's Nest (1975)\",\n",
       " 'Reservoir Dogs (1992)',\n",
       " 'Memento (2000)',\n",
       " 'Eternal Sunshine of the Spotless Mind (2004)',\n",
       " 'Braveheart (1995)',\n",
       " 'American Beauty (1999)',\n",
       " 'Apocalypse Now (1979)',\n",
       " 'Casablanca (1942)',\n",
       " 'Back to the Future (1985)',\n",
       " 'Good Will Hunting (1997)',\n",
       " 'Inception (2010)',\n",
       " 'Terminator 2: Judgment Day (1991)',\n",
       " 'Toy Story (1995)',\n",
       " 'WALL·E (2008)',\n",
       " 'Alien (1979)',\n",
       " 'Gladiator (2000)',\n",
       " 'Aliens (1986)',\n",
       " '2001: A Space Odyssey (1968)']"
      ]
     },
     "execution_count": 24,
     "metadata": {},
     "output_type": "execute_result"
    }
   ],
   "source": [
    "df_top = [title for title in popular_movies['title'].head(100)]\n",
    "intersection(df_top, top100_titles_imdb)"
   ]
  },
  {
   "cell_type": "code",
   "execution_count": 25,
   "id": "740cafda",
   "metadata": {},
   "outputs": [
    {
     "name": "stdout",
     "output_type": "stream",
     "text": [
      "Percent of overlapping top 100: 27%\n"
     ]
    }
   ],
   "source": [
    "print(f'Percent of overlapping top 100: {len(intersection(df_top, top100_titles_imdb))}%')"
   ]
  },
  {
   "cell_type": "code",
   "execution_count": 26,
   "id": "3207c541",
   "metadata": {},
   "outputs": [],
   "source": [
    "imdb = pd.DataFrame(top_list)\n",
    "imdb['rank'] = imdb['rank'].astype(int)\n",
    "imdb['year'] = imdb['year'].astype(int)\n",
    "imdb_top100 = imdb[imdb['rank']<=100]"
   ]
  },
  {
   "cell_type": "code",
   "execution_count": 27,
   "id": "e883c43e",
   "metadata": {},
   "outputs": [],
   "source": [
    "df_top100 = popular_movies.copy()[['title', 'year', 'weighted_avg']].head(100)\n",
    "df_top100['year'] = df_top100['year'].astype(int)"
   ]
  },
  {
   "cell_type": "code",
   "execution_count": 42,
   "id": "7ccc1704",
   "metadata": {},
   "outputs": [
    {
     "data": {
      "image/png": "[encoded data removed]",
      "text/plain": [
       "<Figure size 576x576 with 1 Axes>"
      ]
     },
     "metadata": {
      "needs_background": "light"
     },
     "output_type": "display_data"
    }
   ],
   "source": [
    "plt.figure(figsize=(8,8))\n",
    "plt.hist(imdb_top100['year'], label='imdb', alpha=.7)\n",
    "plt.hist(df_top100['year'], label='movie lens', alpha=.7)\n",
    "plt.legend(loc='upper right')\n",
    "plt.title('IMDb vs MovieLens Top 100 by Year',  fontweight='bold')\n",
    "plt.xlabel('Year', labelpad=5)\n",
    "plt.ylabel('Count', labelpad=5)\n",
    "#plt.savefig('Visuals/top_100', facecolor='w', transparent=False, dpi = 1000, bbox_inches='tight')\n",
    "plt.show()"
   ]
  },
  {
   "cell_type": "markdown",
   "id": "ca7a1f1b",
   "metadata": {},
   "source": [
    "## How compare to imdb's top 250?"
   ]
  },
  {
   "cell_type": "code",
   "execution_count": 29,
   "id": "03a1dffa",
   "metadata": {},
   "outputs": [
    {
     "data": {
      "text/plain": [
       "['Fight Club (1999)',\n",
       " 'Pulp Fiction (1994)',\n",
       " 'Forrest Gump (1994)',\n",
       " \"Schindler's List (1993)\",\n",
       " 'Star Wars: Episode V - The Empire Strikes Back (1980)',\n",
       " 'Star Wars: Episode VI - Return of the Jedi (1983)',\n",
       " 'Saving Private Ryan (1998)',\n",
       " 'Goodfellas (1990)',\n",
       " 'American History X (1998)',\n",
       " \"One Flew Over the Cuckoo's Nest (1975)\",\n",
       " 'Reservoir Dogs (1992)',\n",
       " 'Fargo (1996)',\n",
       " 'Memento (2000)',\n",
       " 'Monty Python and the Holy Grail (1975)',\n",
       " 'Eternal Sunshine of the Spotless Mind (2004)',\n",
       " 'Braveheart (1995)',\n",
       " 'American Beauty (1999)',\n",
       " 'Apocalypse Now (1979)',\n",
       " 'Casablanca (1942)',\n",
       " 'Back to the Future (1985)',\n",
       " 'Good Will Hunting (1997)',\n",
       " 'Inception (2010)',\n",
       " 'Blade Runner (1982)',\n",
       " 'Terminator 2: Judgment Day (1991)',\n",
       " 'Indiana Jones and the Last Crusade (1989)',\n",
       " 'Taxi Driver (1976)',\n",
       " 'Full Metal Jacket (1987)',\n",
       " 'Toy Story (1995)',\n",
       " 'WALL·E (2008)',\n",
       " 'Alien (1979)',\n",
       " 'Gladiator (2000)',\n",
       " 'Trainspotting (1996)',\n",
       " 'Finding Nemo (2003)',\n",
       " 'Groundhog Day (1993)',\n",
       " 'Aliens (1986)',\n",
       " 'Up (2009)',\n",
       " 'Catch Me If You Can (2002)',\n",
       " 'Heat (1995)',\n",
       " 'Die Hard (1988)',\n",
       " '2001: A Space Odyssey (1968)',\n",
       " 'Batman Begins (2005)',\n",
       " 'Aladdin (1992)',\n",
       " 'Jurassic Park (1993)',\n",
       " 'Pirates of the Caribbean: The Curse of the Black Pearl (2003)',\n",
       " 'Beauty and the Beast (1991)']"
      ]
     },
     "execution_count": 29,
     "metadata": {},
     "output_type": "execute_result"
    }
   ],
   "source": [
    "df_top250 = [title for title in popular_movies['title'].head(250)]\n",
    "intersection(df_top250, all_titles_imdb)"
   ]
  },
  {
   "cell_type": "code",
   "execution_count": 30,
   "id": "857ed9fc",
   "metadata": {},
   "outputs": [
    {
     "name": "stdout",
     "output_type": "stream",
     "text": [
      "Percent of overlapping top 250: 45%\n"
     ]
    }
   ],
   "source": [
    "print(f'Percent of overlapping top 250: {len(intersection(df_top250, all_titles_imdb))}%')"
   ]
  },
  {
   "cell_type": "code",
   "execution_count": 31,
   "id": "dc45ce38",
   "metadata": {},
   "outputs": [],
   "source": [
    "df_top250 = popular_movies.copy()[['title', 'year', 'weighted_avg']].head(250)\n",
    "df_top250['year'] = df_top250['year'].astype(int)"
   ]
  },
  {
   "cell_type": "code",
   "execution_count": 43,
   "id": "db2663f8",
   "metadata": {},
   "outputs": [
    {
     "data": {
      "image/png": "[encoded data removed]",
      "text/plain": [
       "<Figure size 576x576 with 1 Axes>"
      ]
     },
     "metadata": {
      "needs_background": "light"
     },
     "output_type": "display_data"
    }
   ],
   "source": [
    "plt.figure(figsize=(8,8))\n",
    "plt.hist(imdb['year'], label='imdb', alpha=.7)\n",
    "plt.hist(df_top250['year'], label='movie lens', alpha=.7)\n",
    "plt.legend(loc='upper right')\n",
    "plt.title('IMDb vs MovieLens Top 250 by Year',  fontweight='bold')\n",
    "plt.xlabel('Year', labelpad=5)\n",
    "plt.ylabel('Count', labelpad=5);\n",
    "#plt.savefig('Visuals/top_250', facecolor='w', transparent=False, dpi = 1000, bbox_inches='tight')"
   ]
  }
 ],
 "metadata": {
  "kernelspec": {
   "display_name": "Python 3 (ipykernel)",
   "language": "python",
   "name": "python3"
  },
  "language_info": {
   "codemirror_mode": {
    "name": "ipython",
    "version": 3
   },
   "file_extension": ".py",
   "mimetype": "text/x-python",
   "name": "python",
   "nbconvert_exporter": "python",
   "pygments_lexer": "ipython3",
   "version": "3.9.7"
  }
 },
 "nbformat": 4,
 "nbformat_minor": 5
}
