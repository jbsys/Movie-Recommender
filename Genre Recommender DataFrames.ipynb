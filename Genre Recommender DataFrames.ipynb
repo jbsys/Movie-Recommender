{
 "cells": [
  {
   "cell_type": "code",
   "execution_count": 1,
   "id": "7695819f",
   "metadata": {},
   "outputs": [],
   "source": [
    "import numpy as np\n",
    "import pandas as pd"
   ]
  },
  {
   "cell_type": "markdown",
   "id": "e8a05933",
   "metadata": {},
   "source": [
    "### Merging this recommender dataframe with a dataframe indicating genre with trues and falses"
   ]
  },
  {
   "cell_type": "code",
   "execution_count": 40,
   "id": "0d37c345",
   "metadata": {},
   "outputs": [],
   "source": [
    "genre_df = pd.read_csv('../genre_boo.csv')\n",
    "genre_df.drop(columns=['Unnamed: 0'], inplace=True)\n",
    "genre_df.set_index('title', inplace=True)"
   ]
  },
  {
   "cell_type": "code",
   "execution_count": 2,
   "id": "b8592fb9",
   "metadata": {},
   "outputs": [],
   "source": [
    "recommender_df = pd.read_csv('./recs_users.csv')\n",
    "recommender_df.set_index('title', inplace=True)"
   ]
  },
  {
   "cell_type": "code",
   "execution_count": 46,
   "id": "a0028e0b",
   "metadata": {},
   "outputs": [],
   "source": [
    "rec_genre = recommender_df.join(genre_df)"
   ]
  },
  {
   "cell_type": "code",
   "execution_count": 48,
   "id": "946aa817",
   "metadata": {},
   "outputs": [
    {
     "data": {
      "text/html": [
       "<div>\n",
       "<style scoped>\n",
       "    .dataframe tbody tr th:only-of-type {\n",
       "        vertical-align: middle;\n",
       "    }\n",
       "\n",
       "    .dataframe tbody tr th {\n",
       "        vertical-align: top;\n",
       "    }\n",
       "\n",
       "    .dataframe thead th {\n",
       "        text-align: right;\n",
       "    }\n",
       "</style>\n",
       "<table border=\"1\" class=\"dataframe\">\n",
       "  <thead>\n",
       "    <tr style=\"text-align: right;\">\n",
       "      <th></th>\n",
       "      <th>'burbs, The (1989)</th>\n",
       "      <th>(500) Days of Summer (2009)</th>\n",
       "      <th>10 Things I Hate About You (1999)</th>\n",
       "      <th>10,000 BC (2008)</th>\n",
       "      <th>101 Dalmatians (1996)</th>\n",
       "      <th>101 Dalmatians (One Hundred and One Dalmatians) (1961)</th>\n",
       "      <th>12 Angry Men (1957)</th>\n",
       "      <th>12 Years a Slave (2013)</th>\n",
       "      <th>127 Hours (2010)</th>\n",
       "      <th>13 Going on 30 (2004)</th>\n",
       "      <th>...</th>\n",
       "      <th>Romance</th>\n",
       "      <th>Horror</th>\n",
       "      <th>IMAX</th>\n",
       "      <th>Mystery</th>\n",
       "      <th>Western</th>\n",
       "      <th>Sci-Fi</th>\n",
       "      <th>Children</th>\n",
       "      <th>Drama</th>\n",
       "      <th>Adventure</th>\n",
       "      <th>Fantasy</th>\n",
       "    </tr>\n",
       "    <tr>\n",
       "      <th>title</th>\n",
       "      <th></th>\n",
       "      <th></th>\n",
       "      <th></th>\n",
       "      <th></th>\n",
       "      <th></th>\n",
       "      <th></th>\n",
       "      <th></th>\n",
       "      <th></th>\n",
       "      <th></th>\n",
       "      <th></th>\n",
       "      <th></th>\n",
       "      <th></th>\n",
       "      <th></th>\n",
       "      <th></th>\n",
       "      <th></th>\n",
       "      <th></th>\n",
       "      <th></th>\n",
       "      <th></th>\n",
       "      <th></th>\n",
       "      <th></th>\n",
       "      <th></th>\n",
       "    </tr>\n",
       "  </thead>\n",
       "  <tbody>\n",
       "    <tr>\n",
       "      <th>'burbs, The (1989)</th>\n",
       "      <td>0.0</td>\n",
       "      <td>0.856913</td>\n",
       "      <td>0.840989</td>\n",
       "      <td>0.951844</td>\n",
       "      <td>0.812308</td>\n",
       "      <td>0.658785</td>\n",
       "      <td>0.939942</td>\n",
       "      <td>0.955424</td>\n",
       "      <td>0.954467</td>\n",
       "      <td>0.899907</td>\n",
       "      <td>...</td>\n",
       "      <td>False</td>\n",
       "      <td>False</td>\n",
       "      <td>False</td>\n",
       "      <td>False</td>\n",
       "      <td>False</td>\n",
       "      <td>False</td>\n",
       "      <td>False</td>\n",
       "      <td>False</td>\n",
       "      <td>False</td>\n",
       "      <td>False</td>\n",
       "    </tr>\n",
       "    <tr>\n",
       "      <th>'burbs, The (1989)</th>\n",
       "      <td>0.0</td>\n",
       "      <td>0.856913</td>\n",
       "      <td>0.840989</td>\n",
       "      <td>0.951844</td>\n",
       "      <td>0.812308</td>\n",
       "      <td>0.658785</td>\n",
       "      <td>0.939942</td>\n",
       "      <td>0.955424</td>\n",
       "      <td>0.954467</td>\n",
       "      <td>0.899907</td>\n",
       "      <td>...</td>\n",
       "      <td>False</td>\n",
       "      <td>False</td>\n",
       "      <td>False</td>\n",
       "      <td>False</td>\n",
       "      <td>False</td>\n",
       "      <td>False</td>\n",
       "      <td>False</td>\n",
       "      <td>False</td>\n",
       "      <td>False</td>\n",
       "      <td>False</td>\n",
       "    </tr>\n",
       "    <tr>\n",
       "      <th>'burbs, The (1989)</th>\n",
       "      <td>0.0</td>\n",
       "      <td>0.856913</td>\n",
       "      <td>0.840989</td>\n",
       "      <td>0.951844</td>\n",
       "      <td>0.812308</td>\n",
       "      <td>0.658785</td>\n",
       "      <td>0.939942</td>\n",
       "      <td>0.955424</td>\n",
       "      <td>0.954467</td>\n",
       "      <td>0.899907</td>\n",
       "      <td>...</td>\n",
       "      <td>False</td>\n",
       "      <td>False</td>\n",
       "      <td>False</td>\n",
       "      <td>False</td>\n",
       "      <td>False</td>\n",
       "      <td>False</td>\n",
       "      <td>False</td>\n",
       "      <td>False</td>\n",
       "      <td>False</td>\n",
       "      <td>False</td>\n",
       "    </tr>\n",
       "  </tbody>\n",
       "</table>\n",
       "<p>3 rows × 1839 columns</p>\n",
       "</div>"
      ],
      "text/plain": [
       "                    'burbs, The (1989)  (500) Days of Summer (2009)  \\\n",
       "title                                                                 \n",
       "'burbs, The (1989)                 0.0                     0.856913   \n",
       "'burbs, The (1989)                 0.0                     0.856913   \n",
       "'burbs, The (1989)                 0.0                     0.856913   \n",
       "\n",
       "                    10 Things I Hate About You (1999)  10,000 BC (2008)  \\\n",
       "title                                                                     \n",
       "'burbs, The (1989)                           0.840989          0.951844   \n",
       "'burbs, The (1989)                           0.840989          0.951844   \n",
       "'burbs, The (1989)                           0.840989          0.951844   \n",
       "\n",
       "                    101 Dalmatians (1996)  \\\n",
       "title                                       \n",
       "'burbs, The (1989)               0.812308   \n",
       "'burbs, The (1989)               0.812308   \n",
       "'burbs, The (1989)               0.812308   \n",
       "\n",
       "                    101 Dalmatians (One Hundred and One Dalmatians) (1961)  \\\n",
       "title                                                                        \n",
       "'burbs, The (1989)                                           0.658785        \n",
       "'burbs, The (1989)                                           0.658785        \n",
       "'burbs, The (1989)                                           0.658785        \n",
       "\n",
       "                    12 Angry Men (1957)  12 Years a Slave (2013)  \\\n",
       "title                                                              \n",
       "'burbs, The (1989)             0.939942                 0.955424   \n",
       "'burbs, The (1989)             0.939942                 0.955424   \n",
       "'burbs, The (1989)             0.939942                 0.955424   \n",
       "\n",
       "                    127 Hours (2010)  13 Going on 30 (2004)  ...  Romance  \\\n",
       "title                                                        ...            \n",
       "'burbs, The (1989)          0.954467               0.899907  ...    False   \n",
       "'burbs, The (1989)          0.954467               0.899907  ...    False   \n",
       "'burbs, The (1989)          0.954467               0.899907  ...    False   \n",
       "\n",
       "                    Horror   IMAX  Mystery  Western  Sci-Fi  Children  Drama  \\\n",
       "title                                                                          \n",
       "'burbs, The (1989)   False  False    False    False   False     False  False   \n",
       "'burbs, The (1989)   False  False    False    False   False     False  False   \n",
       "'burbs, The (1989)   False  False    False    False   False     False  False   \n",
       "\n",
       "                    Adventure  Fantasy  \n",
       "title                                   \n",
       "'burbs, The (1989)      False    False  \n",
       "'burbs, The (1989)      False    False  \n",
       "'burbs, The (1989)      False    False  \n",
       "\n",
       "[3 rows x 1839 columns]"
      ]
     },
     "execution_count": 48,
     "metadata": {},
     "output_type": "execute_result"
    }
   ],
   "source": [
    "rec_genre.head(3)"
   ]
  },
  {
   "cell_type": "markdown",
   "id": "1273b489",
   "metadata": {},
   "source": [
    "### Now that we have our genre and recommender matrix merged, we need to create separate dataframe for different classes of genres. We must drop row and columns with titles outside of our genre specifications and also leave our the genre columns."
   ]
  },
  {
   "cell_type": "markdown",
   "id": "be4b0728",
   "metadata": {},
   "source": [
    "Genre groupings: \n",
    "children/animation, comedy, drama/romance, crime/thriller/horror/mystery, documentary/war/western, action/adventure, fantasy/sci-fi\n",
    "\n",
    "Genres: ['Musical', 'Crime', 'Action', 'Comedy', 'Thriller', 'Film-Noir',\n",
    "       'Documentary', 'War', 'Animation', 'Romance', 'Horror', 'IMAX',\n",
    "       'Mystery', 'Western', 'Sci-Fi', 'Children', 'Drama', 'Adventure',\n",
    "       'Fantasy']"
   ]
  },
  {
   "cell_type": "code",
   "execution_count": 100,
   "id": "5c6876c3",
   "metadata": {},
   "outputs": [],
   "source": [
    "#use recommender_df2 for filtering\n",
    "recommender_df2 = recommender_df.reset_index()"
   ]
  },
  {
   "cell_type": "markdown",
   "id": "de1435bf",
   "metadata": {},
   "source": [
    "### Children & Animation\n",
    "\n",
    "['Animation', 'Children']"
   ]
  },
  {
   "cell_type": "code",
   "execution_count": 109,
   "id": "8bb96f8f",
   "metadata": {},
   "outputs": [],
   "source": [
    "#combined = animation\n",
    "animation = rec_genre[rec_genre['Animation']==True].index.to_list()\n",
    "animation_list = []\n",
    "[animation_list.append(movie) for movie in animation if movie not in animation_list]\n",
    "\n",
    "children = rec_genre[rec_genre['Children']==True].index.to_list()\n",
    "children_list = []\n",
    "[children_list.append(movie) for movie in children if movie not in children_list]\n",
    "children_list[:2]\n",
    "\n",
    "#combine lists and remove duplicates\n",
    "animation_compile = list(set(animation_list + children_list))\n",
    "\n",
    "#only keep index and columns in list\n",
    "animation_df = recommender_df2[recommender_df2['title'].isin(animation_compile)]\n",
    "animation_df.set_index('title',inplace=True)\n",
    "animation_df = animation_df[animation_compile]\n",
    "\n",
    "#to csv\n",
    "#animation_df.to_csv('./Genre CSVs/animation.csv')"
   ]
  },
  {
   "cell_type": "markdown",
   "id": "97780694",
   "metadata": {},
   "source": [
    "### Comedy\n",
    "['Comedy']"
   ]
  },
  {
   "cell_type": "code",
   "execution_count": 110,
   "id": "99178b00",
   "metadata": {},
   "outputs": [],
   "source": [
    "comedy = rec_genre[rec_genre['Comedy']==True].index.to_list()\n",
    "comedy_list = []\n",
    "[comedy_list.append(movie) for movie in comedy if movie not in comedy_list]\n",
    "comedy_list\n",
    "\n",
    "#only keep index and columns in list\n",
    "comedy_df = recommender_df2[recommender_df2['title'].isin(comedy_list)]\n",
    "comedy_df.set_index('title',inplace=True)\n",
    "comedy_df = comedy_df[comedy_list]\n",
    "\n",
    "#to csv\n",
    "#comedy_df.to_csv('./Genre CSVs/comedy.csv')"
   ]
  },
  {
   "cell_type": "markdown",
   "id": "6b016857",
   "metadata": {},
   "source": [
    "### Drama & Romance\n",
    "['Romance', 'Drama']"
   ]
  },
  {
   "cell_type": "code",
   "execution_count": 111,
   "id": "1676d017",
   "metadata": {},
   "outputs": [],
   "source": [
    "#combined = drama\n",
    "\n",
    "drama = rec_genre[rec_genre['Drama']==True].index.to_list()\n",
    "drama_list = []\n",
    "[drama_list.append(movie) for movie in drama if movie not in drama_list]\n",
    "drama_list\n",
    "\n",
    "romance = rec_genre[rec_genre['Romance']==True].index.to_list()\n",
    "romance_list = []\n",
    "[romance_list.append(movie) for movie in romance if movie not in romance_list]\n",
    "romance_list\n",
    "\n",
    "#combine lists and remove duplicates\n",
    "drama_compile = list(set(drama_list + romance_list))\n",
    "drama_compile[:2]\n",
    "\n",
    "#only keep index and columns in list\n",
    "drama_df = recommender_df2[recommender_df2['title'].isin(drama_compile)]\n",
    "drama_df.set_index('title',inplace=True)\n",
    "drama_df = drama_df[drama_compile]\n",
    "\n",
    "#to csv\n",
    "#drama_df.to_csv('./Genre CSVs/drama.csv')"
   ]
  },
  {
   "cell_type": "markdown",
   "id": "b7322151",
   "metadata": {},
   "source": [
    "### Crime, Thriller, Horror, Mystery\n",
    "['Crime','Thriller', 'Horror', 'Mystery']"
   ]
  },
  {
   "cell_type": "code",
   "execution_count": 112,
   "id": "ca47fa26",
   "metadata": {},
   "outputs": [],
   "source": [
    "#combined = crime\n",
    "#crime/thriller/horror/mystery\n",
    "crime = rec_genre[rec_genre['Crime']==True].index.to_list()\n",
    "crime_list = []\n",
    "[crime_list.append(movie) for movie in crime if movie not in crime_list]\n",
    "crime_list\n",
    "\n",
    "thriller = rec_genre[rec_genre['Thriller']==True].index.to_list()\n",
    "thriller_list = []\n",
    "[thriller_list.append(movie) for movie in thriller if movie not in thriller_list]\n",
    "thriller_list\n",
    "\n",
    "horror = rec_genre[rec_genre['Horror']==True].index.to_list()\n",
    "horror_list = []\n",
    "[horror_list.append(movie) for movie in horror if movie not in horror_list]\n",
    "horror_list\n",
    "\n",
    "mystery = rec_genre[rec_genre['Mystery']==True].index.to_list()\n",
    "mystery_list = []\n",
    "[mystery_list.append(movie) for movie in mystery if movie not in mystery_list]\n",
    "mystery_list[:2]\n",
    "\n",
    "#combine lists and remove duplicates\n",
    "crime_compile = list(set(crime_list + thriller_list + horror_list + mystery_list))\n",
    "\n",
    "#only keep index and columns in list\n",
    "crime_df = recommender_df2[recommender_df2['title'].isin(crime_compile)]\n",
    "crime_df.set_index('title',inplace=True)\n",
    "crime_df = crime_df[crime_compile]\n",
    "\n",
    "#to csv\n",
    "#crime_df.to_csv('./Genre CSVs/crime.csv')"
   ]
  },
  {
   "cell_type": "markdown",
   "id": "786811da",
   "metadata": {},
   "source": [
    "### Documentary, War, Western\n",
    "['Documentary', 'War', 'Western']"
   ]
  },
  {
   "cell_type": "code",
   "execution_count": 113,
   "id": "cee3e62b",
   "metadata": {},
   "outputs": [],
   "source": [
    "#combined = documentary\n",
    "\n",
    "#documentary\n",
    "documentary = rec_genre[rec_genre['Documentary']==True].index.to_list()\n",
    "documentary_list = []\n",
    "[documentary_list.append(movie) for movie in documentary if movie not in documentary_list]\n",
    "documentary_list\n",
    "\n",
    "war = rec_genre[rec_genre['War']==True].index.to_list()\n",
    "war_list = []\n",
    "[war_list.append(movie) for movie in war if movie not in war_list]\n",
    "war_list\n",
    "\n",
    "western = rec_genre[rec_genre['Western']==True].index.to_list()\n",
    "western_list = []\n",
    "[western_list.append(movie) for movie in western if movie not in western_list]\n",
    "western_list[:2]\n",
    "\n",
    "#combine lists and remove duplicates\n",
    "documentary_compile = list(set(documentary_list + war_list + western_list))\n",
    "\n",
    "#only keep index and columns in list\n",
    "documentary_df = recommender_df2[recommender_df2['title'].isin(documentary_compile)]\n",
    "documentary_df.set_index('title',inplace=True)\n",
    "documentary_df = documentary_df[documentary_compile]\n",
    "\n",
    "#to csv\n",
    "#documentary_df.to_csv('./Genre CSVs/documentary.csv')"
   ]
  },
  {
   "cell_type": "markdown",
   "id": "fe99f9ce",
   "metadata": {},
   "source": [
    "### Action & Adventure\n",
    "['Action', 'Adventure']"
   ]
  },
  {
   "cell_type": "code",
   "execution_count": 114,
   "id": "d1d8fa5d",
   "metadata": {},
   "outputs": [],
   "source": [
    "#combined = action\n",
    "\n",
    "#adventure fantasy\n",
    "adventure = rec_genre[rec_genre['Adventure']==True].index.to_list()\n",
    "adventure_list = []\n",
    "[adventure_list.append(movie) for movie in adventure if movie not in adventure_list]\n",
    "adventure_list\n",
    "\n",
    "action = rec_genre[rec_genre['Action']==True].index.to_list()\n",
    "action_list = []\n",
    "[action_list.append(movie) for movie in action if movie not in action_list]\n",
    "action_list\n",
    "\n",
    "#combine lists and remove duplicates\n",
    "action_compile = list(set(action_list + adventure_list))\n",
    "\n",
    "#only keep index and columns in list\n",
    "action_df = recommender_df2[recommender_df2['title'].isin(action_compile)]\n",
    "action_df.set_index('title',inplace=True)\n",
    "action_df = action_df[action_compile]\n",
    "\n",
    "#to csv\n",
    "#action_df.to_csv('./Genre CSVs/action.csv')"
   ]
  },
  {
   "cell_type": "markdown",
   "id": "b1797484",
   "metadata": {},
   "source": [
    "### Fantasy & Sci-Fi\n",
    "['Sci-Fi','Fantasy']"
   ]
  },
  {
   "cell_type": "code",
   "execution_count": 115,
   "id": "c24eb826",
   "metadata": {},
   "outputs": [],
   "source": [
    "#combined = fantasy\n",
    "\n",
    "fantasy = rec_genre[rec_genre['Fantasy']==True].index.to_list()\n",
    "fantasy_list = []\n",
    "[fantasy_list.append(movie) for movie in fantasy if movie not in fantasy_list]\n",
    "fantasy_list\n",
    "\n",
    "scifi = rec_genre[rec_genre['Sci-Fi']==True].index.to_list()\n",
    "scifi_list = []\n",
    "[scifi_list.append(movie) for movie in scifi if movie not in scifi_list]\n",
    "scifi_list[:2]\n",
    "\n",
    "#combine lists and remove duplicates\n",
    "fantasy_compile = list(set(fantasy_list + scifi_list))\n",
    "\n",
    "#only keep index and columns in list\n",
    "fantasy_df = recommender_df2[recommender_df2['title'].isin(fantasy_compile)]\n",
    "fantasy_df.set_index('title',inplace=True)\n",
    "fantasy_df = fantasy_df[fantasy_compile]\n",
    "\n",
    "#to csv\n",
    "#fantasy_df.to_csv('./Genre CSVs/fantasy.csv')"
   ]
  },
  {
   "cell_type": "markdown",
   "id": "5f07072f",
   "metadata": {},
   "source": [
    "### For all genres: use 'recommender_df'"
   ]
  },
  {
   "cell_type": "markdown",
   "id": "81acbbb1",
   "metadata": {},
   "source": [
    "For each genre, take the merged dataframe, rec_genre, and remove the movie titles in genre_list from the index and columns, as well as the genre columns"
   ]
  },
  {
   "cell_type": "code",
   "execution_count": null,
   "id": "6b6f4473",
   "metadata": {},
   "outputs": [],
   "source": [
    "rec_children"
   ]
  }
 ],
 "metadata": {
  "kernelspec": {
   "display_name": "Python 3 (ipykernel)",
   "language": "python",
   "name": "python3"
  },
  "language_info": {
   "codemirror_mode": {
    "name": "ipython",
    "version": 3
   },
   "file_extension": ".py",
   "mimetype": "text/x-python",
   "name": "python",
   "nbconvert_exporter": "python",
   "pygments_lexer": "ipython3",
   "version": "3.9.7"
  }
 },
 "nbformat": 4,
 "nbformat_minor": 5
}
