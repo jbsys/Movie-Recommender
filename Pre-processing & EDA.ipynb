{
 "cells": [
  {
   "cell_type": "code",
   "execution_count": 1,
   "id": "b0dfafb7",
   "metadata": {},
   "outputs": [],
   "source": [
    "import pandas as pd\n",
    "import numpy as np\n",
    "import seaborn as sns\n",
    "import matplotlib.pyplot as plt\n",
    "import re"
   ]
  },
  {
   "cell_type": "markdown",
   "id": "2fe0451f",
   "metadata": {},
   "source": [
    "### Exploring smaller dataset of 100k ratings"
   ]
  },
  {
   "cell_type": "code",
   "execution_count": 2,
   "id": "52f248d6",
   "metadata": {},
   "outputs": [],
   "source": [
    "ratings_small = pd.read_csv('./Raw Data/ratings_small.csv')\n",
    "tags_small = pd.read_csv('./Raw Data/tags_small.csv')\n",
    "movies_small = pd.read_csv('./Raw Data/movies_small.csv')"
   ]
  },
  {
   "cell_type": "markdown",
   "id": "c6178553",
   "metadata": {},
   "source": [
    "### Column lists:\n",
    "\n",
    "ratings: ['userId', 'movieId', 'rating', 'timestamp']\n",
    "\n",
    "tags: ['userId', 'movieId', 'tag', 'timestamp']\n",
    "\n",
    "movies : ['movieId', 'title', 'genres']"
   ]
  },
  {
   "cell_type": "code",
   "execution_count": 3,
   "id": "b20906d4",
   "metadata": {},
   "outputs": [],
   "source": [
    "df_small = pd.merge(ratings_small, movies_small, on='movieId')"
   ]
  },
  {
   "cell_type": "markdown",
   "id": "d77c5d2e",
   "metadata": {},
   "source": [
    "Only 610 unique IDs\n",
    "\n",
    "### Let's explore the larger dataset of 27M reviews"
   ]
  },
  {
   "cell_type": "code",
   "execution_count": 4,
   "id": "8147896d",
   "metadata": {},
   "outputs": [],
   "source": [
    "ratings = pd.read_csv('./Raw Data/ratings_large.csv')\n",
    "tags = pd.read_csv('./Raw Data/tags_large.csv')\n",
    "movies = pd.read_csv('./Raw Data/movies_large.csv')\n",
    "genome_scores = pd.read_csv('./Raw Data/genome-scores_large.csv')\n",
    "genome_tags = pd.read_csv('./Raw Data/genome-tags_large.csv')\n",
    "links = pd.read_csv('./Raw Data/links_large.csv')"
   ]
  },
  {
   "cell_type": "code",
   "execution_count": 5,
   "id": "99c7730f",
   "metadata": {
    "scrolled": false
   },
   "outputs": [
    {
     "name": "stdout",
     "output_type": "stream",
     "text": [
      "ratings\n",
      "Columns: ['userId', 'movieId', 'rating', 'timestamp']\n",
      "Has movieId: True\n",
      "shape: (27753444, 4)\n",
      "nulls: \n",
      "userId       0\n",
      "movieId      0\n",
      "rating       0\n",
      "timestamp    0\n",
      "dtype: int64\n",
      "\n",
      "tags\n",
      "Columns: ['userId', 'movieId', 'tag', 'timestamp']\n",
      "Has movieId: True\n",
      "shape: (1108997, 4)\n",
      "nulls: \n",
      "userId        0\n",
      "movieId       0\n",
      "tag          16\n",
      "timestamp     0\n",
      "dtype: int64\n",
      "\n",
      "movies\n",
      "Columns: ['movieId', 'title', 'genres']\n",
      "Has movieId: True\n",
      "shape: (58098, 3)\n",
      "nulls: \n",
      "movieId    0\n",
      "title      0\n",
      "genres     0\n",
      "dtype: int64\n",
      "\n",
      "genome_scores\n",
      "Columns: ['movieId', 'tagId', 'relevance']\n",
      "Has movieId: True\n",
      "shape: (14862528, 3)\n",
      "nulls: \n",
      "movieId      0\n",
      "tagId        0\n",
      "relevance    0\n",
      "dtype: int64\n",
      "\n",
      "genome_tags\n",
      "Columns: ['tagId', 'tag']\n",
      "Has movieId: False\n",
      "shape: (1128, 2)\n",
      "nulls: \n",
      "tagId    0\n",
      "tag      0\n",
      "dtype: int64\n",
      "\n",
      "links\n",
      "Columns: ['movieId', 'imdbId', 'tmdbId']\n",
      "Has movieId: True\n",
      "shape: (58098, 3)\n",
      "nulls: \n",
      "movieId      0\n",
      "imdbId       0\n",
      "tmdbId     181\n",
      "dtype: int64\n",
      "\n"
     ]
    }
   ],
   "source": [
    "large_dfs = [(ratings, 'ratings'), (tags,'tags'), (movies, 'movies'), (genome_scores, 'genome_scores')\n",
    "             , (genome_tags,'genome_tags'), (links,'links')]\n",
    "\n",
    "for df,name in large_dfs:\n",
    "    print(f'{name}')\n",
    "    print(f'Columns: {list(df.columns)}')\n",
    "    has_id = 'True' if 'movieId' in list(df.columns) else 'False'\n",
    "    print(f'Has movieId: {has_id}')\n",
    "    #print(f'Has movieId: {'True' if 'movieId' in list(df.columns) else 'False'}')\n",
    "    print(f'shape: {df.shape}')\n",
    "    print(f'nulls: ')\n",
    "    print(f'{df.isnull().sum()}')\n",
    "    \n",
    "    print('')"
   ]
  },
  {
   "cell_type": "markdown",
   "id": "baa3a23d",
   "metadata": {},
   "source": [
    "# This dataset is far too large to run for this type of project. I'm going to swtich gears to a 1M dataset. "
   ]
  },
  {
   "cell_type": "code",
   "execution_count": 6,
   "id": "309b4ce8",
   "metadata": {
    "scrolled": true
   },
   "outputs": [
    {
     "name": "stderr",
     "output_type": "stream",
     "text": [
      "/Users/jacqueline/opt/anaconda3/lib/python3.9/site-packages/pandas/util/_decorators.py:311: ParserWarning: Falling back to the 'python' engine because the 'c' engine does not support regex separators (separators > 1 char and different from '\\s+' are interpreted as regex); you can avoid this warning by specifying engine='python'.\n",
      "  return func(*args, **kwargs)\n"
     ]
    }
   ],
   "source": [
    "ratings = pd.read_csv('./Raw Data/ratings_1m.dat', sep='::', header=None, names=['user_id', 'movie_id', 'rating', 'timestamp'])\n",
    "ratings.rename(columns={'movie_id':'movieId'}, inplace=True)"
   ]
  },
  {
   "cell_type": "code",
   "execution_count": 7,
   "id": "c96477b8",
   "metadata": {},
   "outputs": [
    {
     "data": {
      "text/html": [
       "<div>\n",
       "<style scoped>\n",
       "    .dataframe tbody tr th:only-of-type {\n",
       "        vertical-align: middle;\n",
       "    }\n",
       "\n",
       "    .dataframe tbody tr th {\n",
       "        vertical-align: top;\n",
       "    }\n",
       "\n",
       "    .dataframe thead th {\n",
       "        text-align: right;\n",
       "    }\n",
       "</style>\n",
       "<table border=\"1\" class=\"dataframe\">\n",
       "  <thead>\n",
       "    <tr style=\"text-align: right;\">\n",
       "      <th></th>\n",
       "      <th>sex</th>\n",
       "      <th>age</th>\n",
       "      <th>occupation</th>\n",
       "      <th>user_id</th>\n",
       "    </tr>\n",
       "  </thead>\n",
       "  <tbody>\n",
       "    <tr>\n",
       "      <th>1</th>\n",
       "      <td>F</td>\n",
       "      <td>1</td>\n",
       "      <td>10</td>\n",
       "      <td>48067</td>\n",
       "    </tr>\n",
       "    <tr>\n",
       "      <th>2</th>\n",
       "      <td>M</td>\n",
       "      <td>56</td>\n",
       "      <td>16</td>\n",
       "      <td>70072</td>\n",
       "    </tr>\n",
       "    <tr>\n",
       "      <th>3</th>\n",
       "      <td>M</td>\n",
       "      <td>25</td>\n",
       "      <td>15</td>\n",
       "      <td>55117</td>\n",
       "    </tr>\n",
       "    <tr>\n",
       "      <th>4</th>\n",
       "      <td>M</td>\n",
       "      <td>45</td>\n",
       "      <td>7</td>\n",
       "      <td>02460</td>\n",
       "    </tr>\n",
       "    <tr>\n",
       "      <th>5</th>\n",
       "      <td>M</td>\n",
       "      <td>25</td>\n",
       "      <td>20</td>\n",
       "      <td>55455</td>\n",
       "    </tr>\n",
       "    <tr>\n",
       "      <th>...</th>\n",
       "      <td>...</td>\n",
       "      <td>...</td>\n",
       "      <td>...</td>\n",
       "      <td>...</td>\n",
       "    </tr>\n",
       "    <tr>\n",
       "      <th>6036</th>\n",
       "      <td>F</td>\n",
       "      <td>25</td>\n",
       "      <td>15</td>\n",
       "      <td>32603</td>\n",
       "    </tr>\n",
       "    <tr>\n",
       "      <th>6037</th>\n",
       "      <td>F</td>\n",
       "      <td>45</td>\n",
       "      <td>1</td>\n",
       "      <td>76006</td>\n",
       "    </tr>\n",
       "    <tr>\n",
       "      <th>6038</th>\n",
       "      <td>F</td>\n",
       "      <td>56</td>\n",
       "      <td>1</td>\n",
       "      <td>14706</td>\n",
       "    </tr>\n",
       "    <tr>\n",
       "      <th>6039</th>\n",
       "      <td>F</td>\n",
       "      <td>45</td>\n",
       "      <td>0</td>\n",
       "      <td>01060</td>\n",
       "    </tr>\n",
       "    <tr>\n",
       "      <th>6040</th>\n",
       "      <td>M</td>\n",
       "      <td>25</td>\n",
       "      <td>6</td>\n",
       "      <td>11106</td>\n",
       "    </tr>\n",
       "  </tbody>\n",
       "</table>\n",
       "<p>6040 rows × 4 columns</p>\n",
       "</div>"
      ],
      "text/plain": [
       "     sex  age  occupation user_id\n",
       "1      F    1          10   48067\n",
       "2      M   56          16   70072\n",
       "3      M   25          15   55117\n",
       "4      M   45           7   02460\n",
       "5      M   25          20   55455\n",
       "...   ..  ...         ...     ...\n",
       "6036   F   25          15   32603\n",
       "6037   F   45           1   76006\n",
       "6038   F   56           1   14706\n",
       "6039   F   45           0   01060\n",
       "6040   M   25           6   11106\n",
       "\n",
       "[6040 rows x 4 columns]"
      ]
     },
     "execution_count": 7,
     "metadata": {},
     "output_type": "execute_result"
    }
   ],
   "source": [
    "users = pd.read_csv('./Raw Data/users_1m.dat', sep='::', header=None, names=['sex', 'age', 'occupation', 'user_id'])\n",
    "users"
   ]
  },
  {
   "cell_type": "code",
   "execution_count": 8,
   "id": "8b3c2a79",
   "metadata": {},
   "outputs": [],
   "source": [
    "#movies = pd.read_csv('./Raw Data/movies_1m.dat', sep='::', header=None, names=['title', 'genre'])\n",
    "#movies"
   ]
  },
  {
   "cell_type": "markdown",
   "id": "88c21842",
   "metadata": {},
   "source": [
    "### Let's explore these dataframe variables to better understand which we will want for modeling\n",
    "\n",
    "Self explanatory dataframes are: ratings, movies, links\n",
    "\n",
    "the tags dataframe has a column 'tag' which has a descriptor. examples are:'fun', 'epic', 'pacing', 'dinosaurs', 'lawn mower'. our datasets did not come with a data dictionary, but these words could come from imdb comments. \n",
    "\n",
    "the genome_scores dataframe has a relevance column ranging from 0 - 1.\n",
    "\n",
    "the genome_tags dataframe is similar to the tags dataframe. it has 1128 unique tags. examples are: 'aliens', 'technology', 'too long', 'frightening'"
   ]
  },
  {
   "cell_type": "markdown",
   "id": "b1cbb9c6",
   "metadata": {},
   "source": [
    "## Initial cleaning\n",
    "1) merge ratings and movies on movieId\n",
    "\n",
    "2) explore number of ratings through sparsity measures"
   ]
  },
  {
   "cell_type": "code",
   "execution_count": 9,
   "id": "a289c601",
   "metadata": {
    "scrolled": true
   },
   "outputs": [
    {
     "data": {
      "text/html": [
       "<div>\n",
       "<style scoped>\n",
       "    .dataframe tbody tr th:only-of-type {\n",
       "        vertical-align: middle;\n",
       "    }\n",
       "\n",
       "    .dataframe tbody tr th {\n",
       "        vertical-align: top;\n",
       "    }\n",
       "\n",
       "    .dataframe thead th {\n",
       "        text-align: right;\n",
       "    }\n",
       "</style>\n",
       "<table border=\"1\" class=\"dataframe\">\n",
       "  <thead>\n",
       "    <tr style=\"text-align: right;\">\n",
       "      <th></th>\n",
       "      <th>userId</th>\n",
       "      <th>movieId</th>\n",
       "      <th>rating</th>\n",
       "      <th>title</th>\n",
       "      <th>genres</th>\n",
       "    </tr>\n",
       "  </thead>\n",
       "  <tbody>\n",
       "    <tr>\n",
       "      <th>0</th>\n",
       "      <td>1</td>\n",
       "      <td>1</td>\n",
       "      <td>4.0</td>\n",
       "      <td>Toy Story (1995)</td>\n",
       "      <td>Adventure|Animation|Children|Comedy|Fantasy</td>\n",
       "    </tr>\n",
       "    <tr>\n",
       "      <th>1</th>\n",
       "      <td>1</td>\n",
       "      <td>3</td>\n",
       "      <td>4.0</td>\n",
       "      <td>Grumpier Old Men (1995)</td>\n",
       "      <td>Comedy|Romance</td>\n",
       "    </tr>\n",
       "    <tr>\n",
       "      <th>2</th>\n",
       "      <td>1</td>\n",
       "      <td>6</td>\n",
       "      <td>4.0</td>\n",
       "      <td>Heat (1995)</td>\n",
       "      <td>Action|Crime|Thriller</td>\n",
       "    </tr>\n",
       "    <tr>\n",
       "      <th>3</th>\n",
       "      <td>1</td>\n",
       "      <td>47</td>\n",
       "      <td>5.0</td>\n",
       "      <td>Seven (a.k.a. Se7en) (1995)</td>\n",
       "      <td>Mystery|Thriller</td>\n",
       "    </tr>\n",
       "    <tr>\n",
       "      <th>4</th>\n",
       "      <td>1</td>\n",
       "      <td>50</td>\n",
       "      <td>5.0</td>\n",
       "      <td>Usual Suspects, The (1995)</td>\n",
       "      <td>Crime|Mystery|Thriller</td>\n",
       "    </tr>\n",
       "  </tbody>\n",
       "</table>\n",
       "</div>"
      ],
      "text/plain": [
       "   userId  movieId  rating                        title  \\\n",
       "0       1        1     4.0             Toy Story (1995)   \n",
       "1       1        3     4.0      Grumpier Old Men (1995)   \n",
       "2       1        6     4.0                  Heat (1995)   \n",
       "3       1       47     5.0  Seven (a.k.a. Se7en) (1995)   \n",
       "4       1       50     5.0   Usual Suspects, The (1995)   \n",
       "\n",
       "                                        genres  \n",
       "0  Adventure|Animation|Children|Comedy|Fantasy  \n",
       "1                               Comedy|Romance  \n",
       "2                        Action|Crime|Thriller  \n",
       "3                             Mystery|Thriller  \n",
       "4                       Crime|Mystery|Thriller  "
      ]
     },
     "execution_count": 9,
     "metadata": {},
     "output_type": "execute_result"
    }
   ],
   "source": [
    "df = pd.merge(ratings_small, movies_small, on='movieId', how='left')\n",
    "#timestamp is not needed\n",
    "df.drop(columns=['timestamp'], inplace=True)\n",
    "df.rename(columns={'user_id':'userId'}, inplace=True)\n",
    "df.head(5)"
   ]
  },
  {
   "cell_type": "code",
   "execution_count": 10,
   "id": "ac87a53a",
   "metadata": {},
   "outputs": [],
   "source": [
    "df.dropna(inplace=True)"
   ]
  },
  {
   "cell_type": "code",
   "execution_count": 11,
   "id": "938ebef3",
   "metadata": {},
   "outputs": [
    {
     "data": {
      "text/plain": [
       "userId       int64\n",
       "movieId      int64\n",
       "rating     float64\n",
       "title       object\n",
       "genres      object\n",
       "dtype: object"
      ]
     },
     "execution_count": 11,
     "metadata": {},
     "output_type": "execute_result"
    }
   ],
   "source": [
    "df.dtypes"
   ]
  },
  {
   "cell_type": "code",
   "execution_count": 12,
   "id": "71de1717",
   "metadata": {},
   "outputs": [],
   "source": [
    "#for title in df['title']:\n",
    "#        if '12' not in title.str:\n",
    "#            print(title)"
   ]
  },
  {
   "cell_type": "code",
   "execution_count": 13,
   "id": "18df1e0b",
   "metadata": {},
   "outputs": [],
   "source": [
    "#for row in range(0,df.shape[0]+1)\n",
    "#    for title in df['title']:\n",
    "#        if '12' not in title:\n",
    "#            np.delete(df[row])\n",
    "#        elif '12' in title and '(' not in title:\n",
    "#            df['year'] = df['title'].str[-5:-1]\n",
    "#        else:\n",
    "#            df['year'] = df['title'].str[-6:-2]"
   ]
  },
  {
   "cell_type": "code",
   "execution_count": 14,
   "id": "01c153c5",
   "metadata": {},
   "outputs": [],
   "source": [
    "#df['year'] = df['title'].str[-5:-1]"
   ]
  },
  {
   "cell_type": "code",
   "execution_count": 15,
   "id": "db618230",
   "metadata": {
    "scrolled": true
   },
   "outputs": [],
   "source": [
    "#df['year'].unique()"
   ]
  },
  {
   "cell_type": "code",
   "execution_count": 16,
   "id": "c3537207",
   "metadata": {},
   "outputs": [],
   "source": [
    "#years = []    \n",
    "#for title in df['title']:\n",
    "#    years.append(re.search('\\(([^)]+)', title).group())\n",
    "\n",
    "#df['year'] = years"
   ]
  },
  {
   "cell_type": "code",
   "execution_count": 17,
   "id": "bbfe9918",
   "metadata": {},
   "outputs": [],
   "source": [
    "#[print(i) for i in list(df['title'][1:50])]"
   ]
  },
  {
   "cell_type": "markdown",
   "id": "69798832",
   "metadata": {},
   "source": [
    "All but 6739 rows have parenthesis. This represents "
   ]
  },
  {
   "cell_type": "code",
   "execution_count": 18,
   "id": "a03db0e3",
   "metadata": {},
   "outputs": [
    {
     "name": "stderr",
     "output_type": "stream",
     "text": [
      "/var/folders/l_/zmpwb1k10n73190173cr1g300000gn/T/ipykernel_1763/2269221584.py:3: FutureWarning: Columnar iteration over characters will be deprecated in future releases.\n",
      "  for title in df['title'].str:\n"
     ]
    }
   ],
   "source": [
    "count = 0\n",
    "\n",
    "for title in df['title'].str:\n",
    "    if '(' in title:\n",
    "        count+=1"
   ]
  },
  {
   "cell_type": "code",
   "execution_count": 19,
   "id": "068939e0",
   "metadata": {},
   "outputs": [
    {
     "name": "stdout",
     "output_type": "stream",
     "text": [
      "Titles without parentheses: 100836\n",
      "Percent without parentheses: 0.0\n"
     ]
    }
   ],
   "source": [
    "print(f'Titles without parentheses: {df.shape[0] - count}')\n",
    "print(f'Percent without parentheses: {count / df.shape[0]}')"
   ]
  },
  {
   "cell_type": "code",
   "execution_count": 20,
   "id": "4d54f101",
   "metadata": {
    "scrolled": true
   },
   "outputs": [],
   "source": [
    "#movie labels have their year in parenthesis - let's examine!\n",
    "#df['year'] = df['title'].str.extract('\\(([^)]+)', expand=True) \n",
    "#df['year'] = df['title'].str.extract('\\([1-2][0-9]{3}\\)', expand=False)\n",
    "df['year'] = df['title'].str.extract('.*\\((.*)\\).*',expand = False)\n",
    "#df['year'] = df[df['title'].str.find('(')+1:df['title'].str.find(')')]\n",
    "#df['year'] = re.search('\\(([^)]+)', df['title'].str)\n",
    "#df['year'] = df['title'].str.split('(', 1)[1].split(')')[0]\n",
    "#df.head()"
   ]
  },
  {
   "cell_type": "code",
   "execution_count": 21,
   "id": "1a66a40d",
   "metadata": {},
   "outputs": [
    {
     "data": {
      "text/plain": [
       "107"
      ]
     },
     "execution_count": 21,
     "metadata": {},
     "output_type": "execute_result"
    }
   ],
   "source": [
    "df['year'].nunique()"
   ]
  },
  {
   "cell_type": "markdown",
   "id": "b0763ac1",
   "metadata": {},
   "source": [
    "A sparsity of .998 is too high. We probably have a good amount of users with a minimal number of ratings. There are two approaches to reducing sparsity. One is removing users with minimal # ratings. The second is removing movies with minimal ratings. In order to determine these thresholds, let's look into the numbers and then filter through groupby's."
   ]
  },
  {
   "cell_type": "code",
   "execution_count": 22,
   "id": "5fa5911c",
   "metadata": {
    "scrolled": true
   },
   "outputs": [
    {
     "data": {
      "text/plain": [
       "0.9830003169443864"
      ]
     },
     "execution_count": 22,
     "metadata": {},
     "output_type": "execute_result"
    }
   ],
   "source": [
    "#Check sparsity of matrix\n",
    "ratings_count = len(df['rating'])\n",
    "users_count = len(df['userId'].unique())\n",
    "movies_count = len(df['movieId'].unique())\n",
    "\n",
    "sparse = 1 - (ratings_count / (users_count*movies_count))\n",
    "sparse"
   ]
  },
  {
   "cell_type": "markdown",
   "id": "99de4260",
   "metadata": {},
   "source": [
    "Figure out solid marker for minimum amounts of ratings per user and ratings per movies"
   ]
  },
  {
   "cell_type": "code",
   "execution_count": 23,
   "id": "7aee2e80",
   "metadata": {
    "scrolled": true
   },
   "outputs": [
    {
     "data": {
      "text/plain": [
       "count     610.000000\n",
       "mean      165.304918\n",
       "std       269.480584\n",
       "min        20.000000\n",
       "25%        35.000000\n",
       "50%        70.500000\n",
       "75%       168.000000\n",
       "max      2698.000000\n",
       "Name: movieId, dtype: float64"
      ]
     },
     "execution_count": 23,
     "metadata": {},
     "output_type": "execute_result"
    }
   ],
   "source": [
    "df.copy().groupby('userId')['movieId'].count().describe()"
   ]
  },
  {
   "cell_type": "code",
   "execution_count": 24,
   "id": "0d47ce1d",
   "metadata": {
    "scrolled": true
   },
   "outputs": [
    {
     "data": {
      "text/plain": [
       "count    9724.000000\n",
       "mean       10.369807\n",
       "std        22.401005\n",
       "min         1.000000\n",
       "25%         1.000000\n",
       "50%         3.000000\n",
       "75%         9.000000\n",
       "max       329.000000\n",
       "Name: userId, dtype: float64"
      ]
     },
     "execution_count": 24,
     "metadata": {},
     "output_type": "execute_result"
    }
   ],
   "source": [
    "df.copy().groupby('movieId')['userId'].count().describe()"
   ]
  },
  {
   "cell_type": "code",
   "execution_count": 25,
   "id": "20ab0b48",
   "metadata": {
    "scrolled": true
   },
   "outputs": [
    {
     "name": "stdout",
     "output_type": "stream",
     "text": [
      "movieId\n",
      "nunique: 9724\n",
      "min: 1\n",
      "max: 329\n",
      "***********\n",
      "userId\n",
      "nunique: 610\n",
      "min: 20\n",
      "max: 2698\n",
      "***********\n"
     ]
    }
   ],
   "source": [
    "def description(grouped_column, column2):\n",
    "    print(grouped_column)\n",
    "    print(f'nunique: {df[grouped_column].nunique()}')\n",
    "    print(f'min: {df.copy().groupby(grouped_column)[column2].count().min()}')\n",
    "    print(f'max: {df.copy().groupby(grouped_column)[column2].count().max()}')\n",
    "    print('***********')\n",
    "\n",
    "description('movieId', 'userId')\n",
    "description('userId', 'movieId')"
   ]
  },
  {
   "cell_type": "markdown",
   "id": "7d2c83b9",
   "metadata": {},
   "source": [
    "Check sparsity test on new df with less NaNs"
   ]
  },
  {
   "cell_type": "code",
   "execution_count": 26,
   "id": "892deae3",
   "metadata": {},
   "outputs": [],
   "source": [
    "user_min = 30\n",
    "movie_min = 7\n",
    "\n",
    "df2 = df.copy().groupby('userId').filter(lambda x: len(x)>user_min)\n",
    "df2 = df2.copy().groupby('movieId').filter(lambda x: len(x)>movie_min)"
   ]
  },
  {
   "cell_type": "code",
   "execution_count": 27,
   "id": "5fc5d803",
   "metadata": {},
   "outputs": [
    {
     "name": "stdout",
     "output_type": "stream",
     "text": [
      " sparse: 0.9379172016865649, df length: 100836, df_test length: 81807\n",
      "movie unique: df: 9724, df_test: 2646\n",
      "user unique: df: 610, df_test: 498\n"
     ]
    }
   ],
   "source": [
    "ratings_count = len(df2['rating'])\n",
    "users_count = len(df2['userId'].unique())\n",
    "movies_count = len(df2['movieId'].unique())\n",
    "\n",
    "sparse = 1 - (ratings_count / (users_count*movies_count))\n",
    "sparse\n",
    "print(f' sparse: {sparse}, df length: {df.shape[0]}, df_test length: {df2.shape[0]}')\n",
    "print(f\"movie unique: df: {df['movieId'].nunique()}, df_test: {df2['movieId'].nunique()}\")\n",
    "print(f\"user unique: df: {df['userId'].nunique()}, df_test: {df2['userId'].nunique()}\")"
   ]
  },
  {
   "cell_type": "markdown",
   "id": "ef581f52",
   "metadata": {},
   "source": [
    "Not enough change in sparsity. Will try more combinations."
   ]
  },
  {
   "cell_type": "code",
   "execution_count": 28,
   "id": "662c0448",
   "metadata": {},
   "outputs": [],
   "source": [
    "user_min = 150\n",
    "movie_min = 10\n",
    "\n",
    "df2 = df.copy().groupby('userId').filter(lambda x: len(x)>user_min)\n",
    "df2 = df2.copy().groupby('movieId').filter(lambda x: len(x)>movie_min)"
   ]
  },
  {
   "cell_type": "code",
   "execution_count": 29,
   "id": "31819773",
   "metadata": {},
   "outputs": [
    {
     "name": "stdout",
     "output_type": "stream",
     "text": [
      " sparse: 0.8286031887187957, df length: 100836, df_test length: 53966\n",
      "movie unique: df: 9724, df_test: 1820\n",
      "user unique: df: 610, df_test: 173\n"
     ]
    }
   ],
   "source": [
    "ratings_count = len(df2['rating'])\n",
    "users_count = len(df2['userId'].unique())\n",
    "movies_count = len(df2['movieId'].unique())\n",
    "\n",
    "sparse = 1 - (ratings_count / (users_count*movies_count))\n",
    "print(f' sparse: {sparse}, df length: {df.shape[0]}, df_test length: {df2.shape[0]}')\n",
    "print(f\"movie unique: df: {df['movieId'].nunique()}, df_test: {df2['movieId'].nunique()}\")\n",
    "print(f\"user unique: df: {df['userId'].nunique()}, df_test: {df2['userId'].nunique()}\")"
   ]
  },
  {
   "cell_type": "markdown",
   "id": "07303553",
   "metadata": {},
   "source": [
    "### Let's look at nulls"
   ]
  },
  {
   "cell_type": "code",
   "execution_count": 30,
   "id": "fa7af53e",
   "metadata": {},
   "outputs": [
    {
     "data": {
      "text/plain": [
       "userId     0\n",
       "movieId    0\n",
       "rating     0\n",
       "title      0\n",
       "genres     0\n",
       "year       0\n",
       "dtype: int64"
      ]
     },
     "execution_count": 30,
     "metadata": {},
     "output_type": "execute_result"
    }
   ],
   "source": [
    "df2.isnull().sum()"
   ]
  },
  {
   "cell_type": "code",
   "execution_count": 31,
   "id": "0b0357c2",
   "metadata": {},
   "outputs": [
    {
     "data": {
      "text/plain": [
       "0"
      ]
     },
     "execution_count": 31,
     "metadata": {},
     "output_type": "execute_result"
    }
   ],
   "source": [
    "#we have nulls in the year column. there are only 33 movies here will nulls. \n",
    "#wouldn't be too bad to input these values by hand.\n",
    "df2[df2['year'].isnull()]['movieId'].nunique()"
   ]
  },
  {
   "cell_type": "code",
   "execution_count": 32,
   "id": "40fa3ec1",
   "metadata": {
    "scrolled": true
   },
   "outputs": [],
   "source": [
    "#title_null = list(df2[df2['year'].isnull()]['title'])\n",
    "\n",
    "#title_yrnull = []\n",
    "#[title_yrnull.append(title) for title in title_null if title not in title_yrnull]"
   ]
  },
  {
   "cell_type": "code",
   "execution_count": 33,
   "id": "cb9a0a50",
   "metadata": {},
   "outputs": [
    {
     "data": {
      "text/plain": [
       "userId     0\n",
       "movieId    0\n",
       "rating     0\n",
       "title      0\n",
       "genres     0\n",
       "year       0\n",
       "dtype: int64"
      ]
     },
     "execution_count": 33,
     "metadata": {},
     "output_type": "execute_result"
    }
   ],
   "source": [
    "df2.isnull().sum()"
   ]
  },
  {
   "cell_type": "code",
   "execution_count": 34,
   "id": "8aeb5eca",
   "metadata": {},
   "outputs": [],
   "source": [
    "#let's impute movie year for movies with over 30 reviews\n",
    "#movies=[]\n",
    "\n",
    "#for movie in title_yrnull:\n",
    "#    if df2['title'].value_counts()[movie] >= 30:\n",
    "#        movies.append(movie)\n",
    "#        print(f\"{movie}: {df2['title'].value_counts()[movie]}\")"
   ]
  },
  {
   "cell_type": "code",
   "execution_count": 35,
   "id": "3dff2448",
   "metadata": {},
   "outputs": [],
   "source": [
    "#movies\n",
    "#movies_years=['2016', '2016', '2016', '2018', '1980', '1976', '2016', '2019', '2018', '2014', '2017', '2005',\n",
    "           # '1994', '2016', '2018', '2004', '2016']\n",
    "\n",
    "#https://www.delftstack.com/howto/python/zip-lists-in-python/#:~:text=together%20in%20Python.-,Use%20zip()%20Function%20to%20Zip%20Two%20Lists%20in%20Python,a%20dictionary%2C%20or%20a%20set.\n",
    "#zip_lists = zip(movies, movies_years)\n",
    "#zip_dict = dict(zip_lists)"
   ]
  },
  {
   "cell_type": "code",
   "execution_count": 36,
   "id": "7cd9890f",
   "metadata": {},
   "outputs": [],
   "source": [
    "#df2['year'] = df2['title'].map(zip_dict)"
   ]
  },
  {
   "cell_type": "markdown",
   "id": "102061bd",
   "metadata": {},
   "source": [
    "#### Double check mapping function"
   ]
  },
  {
   "cell_type": "code",
   "execution_count": 37,
   "id": "fde42ed5",
   "metadata": {},
   "outputs": [],
   "source": [
    "#df2[df2['title'].isin(movies)].head(5)"
   ]
  },
  {
   "cell_type": "code",
   "execution_count": 38,
   "id": "0952a890",
   "metadata": {
    "scrolled": true
   },
   "outputs": [],
   "source": [
    "#df2[df2['title'].isin(movies)].isnull().sum()"
   ]
  },
  {
   "cell_type": "markdown",
   "id": "b09ea454",
   "metadata": {},
   "source": [
    "##### While we reviewed column statistics earlier, it's also important to understand value counts AKA popularity and the count ranges our data possesses"
   ]
  },
  {
   "cell_type": "code",
   "execution_count": 39,
   "id": "9d2c7790",
   "metadata": {},
   "outputs": [
    {
     "data": {
      "text/plain": [
       "Index(['userId', 'movieId', 'rating', 'title', 'genres', 'year'], dtype='object')"
      ]
     },
     "execution_count": 39,
     "metadata": {},
     "output_type": "execute_result"
    }
   ],
   "source": [
    "df2.columns"
   ]
  },
  {
   "cell_type": "code",
   "execution_count": 40,
   "id": "3ba78b0c",
   "metadata": {},
   "outputs": [
    {
     "name": "stdout",
     "output_type": "stream",
     "text": [
      "rating\n",
      "0.5    0.010470\n",
      "1.5    0.015584\n",
      "1.0    0.022570\n",
      "2.5    0.059148\n",
      "2.0    0.067765\n",
      "4.5    0.090668\n",
      "5.0    0.123652\n",
      "3.5    0.143331\n",
      "3.0    0.190083\n",
      "4.0    0.276730\n",
      "Name: rating, dtype: float64\n",
      "\n",
      "    *******************\n",
      "    \n",
      "movieId\n",
      "4967     0.000204\n",
      "40732    0.000204\n",
      "30822    0.000204\n",
      "3198     0.000204\n",
      "6753     0.000204\n",
      "           ...   \n",
      "296      0.002353\n",
      "1196     0.002372\n",
      "260      0.002483\n",
      "2571     0.002502\n",
      "356      0.002631\n",
      "Name: movieId, Length: 1820, dtype: float64\n",
      "\n",
      "    *******************\n",
      "    \n",
      "userId\n",
      "564    0.001816\n",
      "563    0.001853\n",
      "74     0.002038\n",
      "326    0.002057\n",
      "33     0.002057\n",
      "         ...   \n",
      "448    0.017103\n",
      "474    0.017400\n",
      "68     0.018771\n",
      "599    0.022310\n",
      "414    0.026387\n",
      "Name: userId, Length: 173, dtype: float64\n",
      "\n",
      "    *******************\n",
      "    \n",
      "year\n",
      "1922    0.000241\n",
      "1934    0.000241\n",
      "1947    0.000259\n",
      "1938    0.000278\n",
      "1936    0.000315\n",
      "          ...   \n",
      "1997    0.042101\n",
      "2001    0.045807\n",
      "1995    0.046418\n",
      "1999    0.050624\n",
      "2000    0.051996\n",
      "Name: year, Length: 85, dtype: float64\n",
      "\n",
      "    *******************\n",
      "    \n",
      "genres\n",
      "Action|Fantasy|Thriller|IMAX        0.000204\n",
      "Animation|Comedy|Fantasy|Musical    0.000204\n",
      "Crime|Film-Noir|Mystery             0.000204\n",
      "Fantasy                             0.000204\n",
      "Action|Animation|Mystery|IMAX       0.000204\n",
      "                                      ...   \n",
      "Action|Adventure|Sci-Fi             0.028092\n",
      "Comedy|Drama|Romance                0.029537\n",
      "Comedy|Romance                      0.037968\n",
      "Drama                               0.048809\n",
      "Comedy                              0.064967\n",
      "Name: genres, Length: 477, dtype: float64\n",
      "\n",
      "    *******************\n",
      "    \n"
     ]
    }
   ],
   "source": [
    "def normal_counts(column):\n",
    "    print(column)\n",
    "    print(df2[column].value_counts(ascending=True, normalize=True))\n",
    "    print(\"\"\"\n",
    "    *******************\n",
    "    \"\"\")\n",
    "    \n",
    "normal_columns = ('rating', 'movieId', 'userId', 'year', 'genres')\n",
    "\n",
    "for column in normal_columns:\n",
    "    normal_counts(column)"
   ]
  },
  {
   "cell_type": "code",
   "execution_count": 41,
   "id": "ea3b3ae9",
   "metadata": {},
   "outputs": [
    {
     "name": "stdout",
     "output_type": "stream",
     "text": [
      "85\n",
      "['1995' '1996' '1994' '1977' '1993' '1990' '1989' '1991' '1940' '1939'\n",
      " '1941' '1968' '1963' '1971' '1951' '1979' '1992' '1986' '1982' '1975'\n",
      " '1980' '1987' '1981' '1983' '1960' '1984' '1933' '1985' '1974' '1922'\n",
      " '1997' '1998' '1976' '1942' '1967' '1959' '1978' '1973' '1988' '1999'\n",
      " '1964' '1962' '1965' '1969' '2000' '1970' '1952' '1961' '1954' '1946'\n",
      " '1955' '1957' '2001' '1937' '2002' '2003' '2004' '2005' '2006' '1972'\n",
      " '1966' '1949' '1931' '1936' '2007' '2008' '2009' '2010' '2011' '2012'\n",
      " '2013' '2014' '2015' '2016' '2017' '1958' '1944' '1950' '1953' '1956'\n",
      " '1938' '1948' '1927' '1934' '1947']\n"
     ]
    }
   ],
   "source": [
    "print(df2['year'].nunique())\n",
    "print(df2['year'].unique())"
   ]
  },
  {
   "cell_type": "markdown",
   "id": "99ece3d7",
   "metadata": {},
   "source": [
    "### Initial EDA"
   ]
  },
  {
   "cell_type": "code",
   "execution_count": 42,
   "id": "1e6efe26",
   "metadata": {},
   "outputs": [],
   "source": [
    "#average ranking per year\n",
    "#average ranking per genre\n",
    "#genre per year"
   ]
  },
  {
   "cell_type": "code",
   "execution_count": 60,
   "id": "0631dc34",
   "metadata": {
    "scrolled": false
   },
   "outputs": [
    {
     "name": "stderr",
     "output_type": "stream",
     "text": [
      "/Users/jacqueline/opt/anaconda3/lib/python3.9/site-packages/seaborn/_decorators.py:36: FutureWarning: Pass the following variables as keyword args: x, y. From version 0.12, the only valid positional argument will be `data`, and passing other arguments without an explicit keyword will result in an error or misinterpretation.\n",
      "  warnings.warn(\n"
     ]
    },
    {
     "data": {
      "image/png": "[encoded data removed]",
      "text/plain": [
       "<Figure size 864x504 with 1 Axes>"
      ]
     },
     "metadata": {
      "needs_background": "light"
     },
     "output_type": "display_data"
    }
   ],
   "source": [
    "#Top 10 Years with the most movies produced.\n",
    "plt.figure(figsize=(12,7))\n",
    "topyear = df2.groupby('year').size().sort_values(ascending=False).head(10)\n",
    "sns.barplot(topyear.index, topyear.values, palette='autumn')\n",
    "plt.title('Top 10 Years', fontweight='bold')\n",
    "plt.ylim(1500,)\n",
    "plt.xlabel('Year')\n",
    "plt.ylabel('Count')\n",
    "#plt.xticks(rotation=40)\n",
    "#plt.savefig('Visuals/year_counts', facecolor='w', transparent=False, dpi = 1000, bbox_inches='tight');"
   ]
  },
  {
   "cell_type": "code",
   "execution_count": 44,
   "id": "a656af31",
   "metadata": {},
   "outputs": [
    {
     "data": {
      "text/plain": [
       "<BarContainer object of 19 artists>"
      ]
     },
     "execution_count": 44,
     "metadata": {},
     "output_type": "execute_result"
    },
    {
     "data": {
      "image/png": "[encoded data removed]",
      "text/plain": [
       "<Figure size 1440x504 with 1 Axes>"
      ]
     },
     "metadata": {
      "needs_background": "light"
     },
     "output_type": "display_data"
    }
   ],
   "source": [
    "plt.figure(figsize=(20,7))\n",
    "genrelist = movies['genres'].apply(lambda genre_list : str(genre_list).split(\"|\"))\n",
    "genres_count = {}\n",
    "\n",
    "for genre_list in genrelist:\n",
    "    for genre in genre_list:\n",
    "        if(genres_count.get(genre,False)):\n",
    "            genres_count[genre]=genres_count[genre]+1\n",
    "        else:\n",
    "            genres_count[genre] = 1       \n",
    "genres_count.pop(\"(no genres listed)\")\n",
    "plt.bar(genres_count.keys(),genres_count.values(),color='orange')"
   ]
  },
  {
   "cell_type": "code",
   "execution_count": 45,
   "id": "2cd86d34",
   "metadata": {},
   "outputs": [
    {
     "data": {
      "text/html": [
       "<div>\n",
       "<style scoped>\n",
       "    .dataframe tbody tr th:only-of-type {\n",
       "        vertical-align: middle;\n",
       "    }\n",
       "\n",
       "    .dataframe tbody tr th {\n",
       "        vertical-align: top;\n",
       "    }\n",
       "\n",
       "    .dataframe thead th {\n",
       "        text-align: right;\n",
       "    }\n",
       "</style>\n",
       "<table border=\"1\" class=\"dataframe\">\n",
       "  <thead>\n",
       "    <tr style=\"text-align: right;\">\n",
       "      <th></th>\n",
       "      <th>user_id</th>\n",
       "      <th>movieId</th>\n",
       "      <th>rating</th>\n",
       "      <th>timestamp</th>\n",
       "    </tr>\n",
       "  </thead>\n",
       "  <tbody>\n",
       "    <tr>\n",
       "      <th>0</th>\n",
       "      <td>1</td>\n",
       "      <td>1193</td>\n",
       "      <td>5</td>\n",
       "      <td>978300760</td>\n",
       "    </tr>\n",
       "    <tr>\n",
       "      <th>1</th>\n",
       "      <td>1</td>\n",
       "      <td>661</td>\n",
       "      <td>3</td>\n",
       "      <td>978302109</td>\n",
       "    </tr>\n",
       "    <tr>\n",
       "      <th>2</th>\n",
       "      <td>1</td>\n",
       "      <td>914</td>\n",
       "      <td>3</td>\n",
       "      <td>978301968</td>\n",
       "    </tr>\n",
       "    <tr>\n",
       "      <th>3</th>\n",
       "      <td>1</td>\n",
       "      <td>3408</td>\n",
       "      <td>4</td>\n",
       "      <td>978300275</td>\n",
       "    </tr>\n",
       "    <tr>\n",
       "      <th>4</th>\n",
       "      <td>1</td>\n",
       "      <td>2355</td>\n",
       "      <td>5</td>\n",
       "      <td>978824291</td>\n",
       "    </tr>\n",
       "    <tr>\n",
       "      <th>...</th>\n",
       "      <td>...</td>\n",
       "      <td>...</td>\n",
       "      <td>...</td>\n",
       "      <td>...</td>\n",
       "    </tr>\n",
       "    <tr>\n",
       "      <th>1000204</th>\n",
       "      <td>6040</td>\n",
       "      <td>1091</td>\n",
       "      <td>1</td>\n",
       "      <td>956716541</td>\n",
       "    </tr>\n",
       "    <tr>\n",
       "      <th>1000205</th>\n",
       "      <td>6040</td>\n",
       "      <td>1094</td>\n",
       "      <td>5</td>\n",
       "      <td>956704887</td>\n",
       "    </tr>\n",
       "    <tr>\n",
       "      <th>1000206</th>\n",
       "      <td>6040</td>\n",
       "      <td>562</td>\n",
       "      <td>5</td>\n",
       "      <td>956704746</td>\n",
       "    </tr>\n",
       "    <tr>\n",
       "      <th>1000207</th>\n",
       "      <td>6040</td>\n",
       "      <td>1096</td>\n",
       "      <td>4</td>\n",
       "      <td>956715648</td>\n",
       "    </tr>\n",
       "    <tr>\n",
       "      <th>1000208</th>\n",
       "      <td>6040</td>\n",
       "      <td>1097</td>\n",
       "      <td>4</td>\n",
       "      <td>956715569</td>\n",
       "    </tr>\n",
       "  </tbody>\n",
       "</table>\n",
       "<p>1000209 rows × 4 columns</p>\n",
       "</div>"
      ],
      "text/plain": [
       "         user_id  movieId  rating  timestamp\n",
       "0              1     1193       5  978300760\n",
       "1              1      661       3  978302109\n",
       "2              1      914       3  978301968\n",
       "3              1     3408       4  978300275\n",
       "4              1     2355       5  978824291\n",
       "...          ...      ...     ...        ...\n",
       "1000204     6040     1091       1  956716541\n",
       "1000205     6040     1094       5  956704887\n",
       "1000206     6040      562       5  956704746\n",
       "1000207     6040     1096       4  956715648\n",
       "1000208     6040     1097       4  956715569\n",
       "\n",
       "[1000209 rows x 4 columns]"
      ]
     },
     "execution_count": 45,
     "metadata": {},
     "output_type": "execute_result"
    }
   ],
   "source": [
    "ratings"
   ]
  },
  {
   "cell_type": "code",
   "execution_count": 46,
   "id": "157a602e",
   "metadata": {},
   "outputs": [
    {
     "data": {
      "text/html": [
       "<div>\n",
       "<style scoped>\n",
       "    .dataframe tbody tr th:only-of-type {\n",
       "        vertical-align: middle;\n",
       "    }\n",
       "\n",
       "    .dataframe tbody tr th {\n",
       "        vertical-align: top;\n",
       "    }\n",
       "\n",
       "    .dataframe thead th {\n",
       "        text-align: right;\n",
       "    }\n",
       "</style>\n",
       "<table border=\"1\" class=\"dataframe\">\n",
       "  <thead>\n",
       "    <tr style=\"text-align: right;\">\n",
       "      <th></th>\n",
       "      <th>user_id</th>\n",
       "      <th>movieId</th>\n",
       "      <th>timestamp</th>\n",
       "    </tr>\n",
       "    <tr>\n",
       "      <th>rating</th>\n",
       "      <th></th>\n",
       "      <th></th>\n",
       "      <th></th>\n",
       "    </tr>\n",
       "  </thead>\n",
       "  <tbody>\n",
       "    <tr>\n",
       "      <th>1</th>\n",
       "      <td>56174</td>\n",
       "      <td>56174</td>\n",
       "      <td>56174</td>\n",
       "    </tr>\n",
       "    <tr>\n",
       "      <th>2</th>\n",
       "      <td>107557</td>\n",
       "      <td>107557</td>\n",
       "      <td>107557</td>\n",
       "    </tr>\n",
       "    <tr>\n",
       "      <th>3</th>\n",
       "      <td>261197</td>\n",
       "      <td>261197</td>\n",
       "      <td>261197</td>\n",
       "    </tr>\n",
       "    <tr>\n",
       "      <th>4</th>\n",
       "      <td>348971</td>\n",
       "      <td>348971</td>\n",
       "      <td>348971</td>\n",
       "    </tr>\n",
       "    <tr>\n",
       "      <th>5</th>\n",
       "      <td>226310</td>\n",
       "      <td>226310</td>\n",
       "      <td>226310</td>\n",
       "    </tr>\n",
       "  </tbody>\n",
       "</table>\n",
       "</div>"
      ],
      "text/plain": [
       "        user_id  movieId  timestamp\n",
       "rating                             \n",
       "1         56174    56174      56174\n",
       "2        107557   107557     107557\n",
       "3        261197   261197     261197\n",
       "4        348971   348971     348971\n",
       "5        226310   226310     226310"
      ]
     },
     "execution_count": 46,
     "metadata": {},
     "output_type": "execute_result"
    }
   ],
   "source": [
    "ratings.groupby('rating').count()"
   ]
  },
  {
   "cell_type": "code",
   "execution_count": 62,
   "id": "3b3e6f05",
   "metadata": {},
   "outputs": [
    {
     "data": {
      "text/plain": [
       "<BarContainer object of 5 artists>"
      ]
     },
     "execution_count": 62,
     "metadata": {},
     "output_type": "execute_result"
    },
    {
     "data": {
      "image/png": "[encoded data removed]",
      "text/plain": [
       "<Figure size 432x288 with 1 Axes>"
      ]
     },
     "metadata": {
      "needs_background": "light"
     },
     "output_type": "display_data"
    }
   ],
   "source": [
    "plt.bar(ratings.groupby('rating').count().index,ratings.groupby('rating').count()['movieId'], color='orange')\n",
    "plt.title('Rating')"
   ]
  },
  {
   "cell_type": "code",
   "execution_count": 48,
   "id": "21e0c414",
   "metadata": {},
   "outputs": [],
   "source": [
    "ratings_count = pd.DataFrame(ratings['rating'].value_counts(normalize=True))"
   ]
  },
  {
   "cell_type": "code",
   "execution_count": 67,
   "id": "8c06b1e7",
   "metadata": {},
   "outputs": [
    {
     "data": {
      "image/png": "[encoded data removed]",
      "text/plain": [
       "<Figure size 432x288 with 1 Axes>"
      ]
     },
     "metadata": {
      "needs_background": "light"
     },
     "output_type": "display_data"
    }
   ],
   "source": [
    "plt.bar(ratings_count.index, ratings_count['rating'], color='orange')\n",
    "plt.title('Rating Breakdown', fontweight='bold')\n",
    "plt.xlabel('Rating')\n",
    "plt.ylabel('Pertenage')\n",
    "#plt.savefig('Visuals/rating_breakdown', facecolor='w', transparent=False, dpi = 1000, bbox_inches='tight');"
   ]
  },
  {
   "cell_type": "code",
   "execution_count": 50,
   "id": "3cc5a23e",
   "metadata": {},
   "outputs": [],
   "source": [
    "ratings_movies = ratings_small.copy()\n",
    "ratings_movies.drop(columns='timestamp', inplace=True)\n",
    "ratings_movies.drop(columns='movieId', inplace=True)"
   ]
  },
  {
   "cell_type": "code",
   "execution_count": 51,
   "id": "221de29d",
   "metadata": {},
   "outputs": [],
   "source": [
    "ratings_users_agg = ratings_movies.groupby('userId').agg([np.size, np.mean])"
   ]
  },
  {
   "cell_type": "code",
   "execution_count": 52,
   "id": "13564e01",
   "metadata": {},
   "outputs": [],
   "source": [
    "ratings_users_mean = pd.DataFrame(ratings_movies.copy().groupby('userId')['rating'].mean())\n",
    "ratings_users_count = pd.DataFrame(ratings_movies.copy().groupby('userId')['rating'].count())\n",
    "\n",
    "ratings_mean_count = pd.merge(ratings_users_mean, ratings_users_count, on='userId', how='inner')\n",
    "ratings_mean_count.rename(columns={'rating_x':'mean_rating', 'rating_y':'count_rating'}, inplace=True)"
   ]
  },
  {
   "cell_type": "code",
   "execution_count": 53,
   "id": "80e518bc",
   "metadata": {},
   "outputs": [
    {
     "data": {
      "text/html": [
       "<div>\n",
       "<style scoped>\n",
       "    .dataframe tbody tr th:only-of-type {\n",
       "        vertical-align: middle;\n",
       "    }\n",
       "\n",
       "    .dataframe tbody tr th {\n",
       "        vertical-align: top;\n",
       "    }\n",
       "\n",
       "    .dataframe thead th {\n",
       "        text-align: right;\n",
       "    }\n",
       "</style>\n",
       "<table border=\"1\" class=\"dataframe\">\n",
       "  <thead>\n",
       "    <tr style=\"text-align: right;\">\n",
       "      <th></th>\n",
       "      <th>count_rating</th>\n",
       "    </tr>\n",
       "  </thead>\n",
       "  <tbody>\n",
       "    <tr>\n",
       "      <th>count</th>\n",
       "      <td>610.000000</td>\n",
       "    </tr>\n",
       "    <tr>\n",
       "      <th>mean</th>\n",
       "      <td>165.304918</td>\n",
       "    </tr>\n",
       "    <tr>\n",
       "      <th>std</th>\n",
       "      <td>269.480584</td>\n",
       "    </tr>\n",
       "    <tr>\n",
       "      <th>min</th>\n",
       "      <td>20.000000</td>\n",
       "    </tr>\n",
       "    <tr>\n",
       "      <th>25%</th>\n",
       "      <td>35.000000</td>\n",
       "    </tr>\n",
       "    <tr>\n",
       "      <th>50%</th>\n",
       "      <td>70.500000</td>\n",
       "    </tr>\n",
       "    <tr>\n",
       "      <th>75%</th>\n",
       "      <td>168.000000</td>\n",
       "    </tr>\n",
       "    <tr>\n",
       "      <th>max</th>\n",
       "      <td>2698.000000</td>\n",
       "    </tr>\n",
       "  </tbody>\n",
       "</table>\n",
       "</div>"
      ],
      "text/plain": [
       "       count_rating\n",
       "count    610.000000\n",
       "mean     165.304918\n",
       "std      269.480584\n",
       "min       20.000000\n",
       "25%       35.000000\n",
       "50%       70.500000\n",
       "75%      168.000000\n",
       "max     2698.000000"
      ]
     },
     "execution_count": 53,
     "metadata": {},
     "output_type": "execute_result"
    }
   ],
   "source": [
    "ratings_mean_count[['count_rating']].describe()"
   ]
  },
  {
   "cell_type": "code",
   "execution_count": 54,
   "id": "407e0b5d",
   "metadata": {},
   "outputs": [
    {
     "data": {
      "text/plain": [
       "Text(0.5, 1.0, 'amount of ratings vs mean rating per user')"
      ]
     },
     "execution_count": 54,
     "metadata": {},
     "output_type": "execute_result"
    },
    {
     "data": {
      "image/png": "[encoded data removed]",
      "text/plain": [
       "<Figure size 432x288 with 1 Axes>"
      ]
     },
     "metadata": {
      "needs_background": "light"
     },
     "output_type": "display_data"
    }
   ],
   "source": [
    "ratings_mean_count.plot.scatter(x='mean_rating', y='count_rating', alpha=.3)\n",
    "plt.ylim(1,600)\n",
    "plt.title('amount of ratings vs mean rating per user')"
   ]
  }
 ],
 "metadata": {
  "kernelspec": {
   "display_name": "Python 3 (ipykernel)",
   "language": "python",
   "name": "python3"
  },
  "language_info": {
   "codemirror_mode": {
    "name": "ipython",
    "version": 3
   },
   "file_extension": ".py",
   "mimetype": "text/x-python",
   "name": "python",
   "nbconvert_exporter": "python",
   "pygments_lexer": "ipython3",
   "version": "3.9.7"
  }
 },
 "nbformat": 4,
 "nbformat_minor": 5
}
